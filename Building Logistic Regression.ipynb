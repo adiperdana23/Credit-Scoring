{
 "cells": [
  {
   "cell_type": "markdown",
   "id": "10e4355c",
   "metadata": {},
   "source": [
    "---\n",
    "**Outline**\n",
    "\n",
    "1. Review - Introduction to Logistic Regression\n",
    "2. Model Building\n",
    "3. Model Interpretation\n",
    " - Linear Approximation Interpretation\n",
    " - Odds Ratio Interpretation\n",
    " - Standardized Parameter Interpretation\n",
    " - Predicted Probabilities\n",
    "4. Significance Testing"
   ]
  },
  {
   "cell_type": "code",
   "execution_count": 8,
   "id": "e4e214ef",
   "metadata": {},
   "outputs": [],
   "source": [
    "# Load data manipulation package\n",
    "import numpy as np\n",
    "import pandas as pd\n",
    "\n",
    "# Load data visualization package\n",
    "import matplotlib.pyplot as plt\n",
    "import seaborn as sns"
   ]
  },
  {
   "cell_type": "markdown",
   "id": "4908dbb9",
   "metadata": {},
   "source": [
    "# <font color='blue'>Review - Introduction to Logistic Regression"
   ]
  },
  {
   "cell_type": "markdown",
   "id": "e1dd3409",
   "metadata": {},
   "source": [
    "# **Model Building*"
   ]
  },
  {
   "cell_type": "markdown",
   "id": "cd919113",
   "metadata": {},
   "source": [
    "## **Likelihood Function**\n",
    "---\n",
    "\n",
    "The probability of the observed data that expressed as a function\n",
    "of the parameter $\\pi$ (success probability)."
   ]
  },
  {
   "cell_type": "markdown",
   "id": "b8133453",
   "metadata": {},
   "source": [
    "In general, **likelihood function** for the identical and independent observations with binary response:\n",
    "\n",
    "$$\n",
    "\\mathcal{L} = \\prod_{i=1}^{n}\\pi(x_{i})^{y_{i}}[1-\\pi(x_{i})]^{(1-y_{i})}\n",
    "$$\n",
    "- If $y_i=1$, the likelihood value for the observation is the success probability itself:\n",
    "$$\n",
    "\\ell = \\pi(x_{i})^{1}[1-\\pi(x_{i})]^{0} = \\pi(x_{i})\n",
    "$$\n",
    "<br>\n",
    "- Otherwise, $y_i=0$, the likelihood value for the observation is the failure probability:\n",
    "$$\n",
    "\\ell = \\pi(x_{i})^{0}[1-\\pi(x_{i})]^{1} = 1-\\pi(x_{i})\n",
    "$$"
   ]
  },
  {
   "cell_type": "markdown",
   "id": "1a631f7f",
   "metadata": {},
   "source": [
    "## **Maximum Likelihood Estimation (MLE)**\n",
    "---\n",
    "The maximum likelihood estimate is the parameter value at which the likelihood function takes its maximum value."
   ]
  },
  {
   "cell_type": "markdown",
   "id": "fe28faba",
   "metadata": {},
   "source": [
    "- We want the maximum likelihood estimate $\\pi(x)$ from the n observations, where:\n",
    "$$\n",
    "\\pi(x) = \\frac{e^{(\\beta_{0}+\\beta_{1}x)}}{1+e^{(\\beta_{0}+\\beta_{1}x)}}\n",
    "$$\n",
    "- To maximize the likelihood function $\\mathcal{L}$, we need to find the optimum parameter $\\beta_{0}$ and $\\beta_{1}$."
   ]
  },
  {
   "cell_type": "markdown",
   "id": "ef151039",
   "metadata": {},
   "source": [
    "## **Negative Log Likelihood (Log Loss)**"
   ]
  },
  {
   "cell_type": "markdown",
   "id": "24c4b833",
   "metadata": {},
   "source": [
    "- It is easier mathematically to work with the (natural) log of equation.\n",
    "- So, we transform the likelihood function into **log likelihood function**:\n",
    "$$\n",
    "\\log(\\mathcal{L}(\\beta)) = \\sum_{i=1}^{n}(y_{i}\\log[\\pi (x_{i})]+(1-y_{i})\\log[1-\\pi(x_{i})])\n",
    "$$\n",
    "- We want to maximize the log likelihood, but gradient descent optimization works to minimize the cost function.\n",
    "- Thus, we take the negative value of log likelihood as the cost function.\n",
    "- The **negative log likelihood (NLL)** or **log loss** is defined as:\n",
    "$$\n",
    "\\text{NLL}=-\\log(\\mathcal{L}(\\beta)) = -\\sum_{i=1}^{n}(y_{i}\\log[\\pi (x_{i})]+(1-y_{i})\\log[1-\\pi(x_{i})])\n",
    "$$"
   ]
  },
  {
   "cell_type": "markdown",
   "id": "200d92c6",
   "metadata": {},
   "source": [
    "## **Optimization with Gradient Descent**\n",
    "---\n",
    "**Our Objective**\n",
    "- **Minimize** the cost function log loss.\n",
    "\n",
    "$$\n",
    "\\underset{\\beta}{\\arg \\min} \\ \\text{NLL}(\\beta)\n",
    "$$"
   ]
  },
  {
   "cell_type": "markdown",
   "id": "f87f0962",
   "metadata": {},
   "source": [
    "- We find the optimum parameter $\\beta_{j}$ where:\n",
    "$$\n",
    "\\frac{\\partial \\text N \\text L \\text L}{\\partial \\beta_{j}}=0\n",
    "$$\n",
    "<br>\n",
    "- The derivative of log loss or negative log-likelihood (NLL) w.r.t. $\\beta_{j}$ is called the gradient of $\\beta_{j}$.\n",
    "$$\n",
    "\\frac{\\partial \\text N \\text L \\text L}{\\partial \\beta_{j}}=-\\sum_{i=1}^{n}\\left [ y_{i}-\\pi(x_{i}) \\right ]x_{j},$$ or\n",
    "$$ \\frac{\\partial \\text N \\text L \\text L}{\\partial \\beta_{j}}=\\sum_{i=1}^{n}\\left[ \\pi(x_{i}) - y_{i} \\right ]x_{j},$$ with $j=1,2,\\dots,p$"
   ]
  },
  {
   "cell_type": "markdown",
   "id": "6ba45960",
   "metadata": {},
   "source": [
    "# **Model Interpretation**"
   ]
  },
  {
   "cell_type": "markdown",
   "id": "77be4726",
   "metadata": {},
   "source": [
    "## **1. Linear Approximation Interpretation**\n",
    "- Logistic/sigmoid model is curved rather than a straight line.\n",
    "\n",
    "<img src=\"https://drive.google.com/uc?id=1PLmvTPnf5DDYEfbmMmshz78yhr0tRxdR\" width=250>"
   ]
  },
  {
   "cell_type": "markdown",
   "id": "0de980d6",
   "metadata": {},
   "source": [
    "1. Logistic/sigmoid model is curved rather than a straight line.\n",
    "  - That line has slope equal to $\\beta \\pi(x)[1-\\pi(x)]$ for parameter $\\beta$.\n",
    "  - When $\\pi(x)$=0 or $\\pi(x)$=0, the slope approaches 0.\n",
    "  - At which level the steepest slope occurs?\n",
    "    - Answer: at median effective level, when $\\pi(x)$=0.5.\n",
    "    - At median effective level, $\\pi(x)$=0.5 has slope $\\beta (0.5)[1-(0.5)] = 0.25 \\beta$\n",
    "2. Median effective level is the level at which each\n",
    "outcome has a 50% chance, or a success is as likely as a failure.\n",
    "  - Mathematically, median effective level is the $x$ value at which the odds($\\pi(x)$)=1 or $\\pi(x)$=0.5\n",
    "  - Median effective level is denoted $EL_{50}$\n",
    "$$\n",
    "EL_{50} = -\\beta_{0}/\\beta_{1}\n",
    "$$\n",
    "3. $EL_{50}$ represents the estimated rate of probability change is greatest at the $EL_{50}$ value at which  $\\pi(x)$=0.5.\n",
    "4. In conclusion, **at $EL_{50}$ value, the estimated probability increases at the rate of $0.25 \\beta$ per one unit increase in $x$**."
   ]
  },
  {
   "cell_type": "markdown",
   "id": "77f8d723",
   "metadata": {},
   "source": [
    "## **2. Odds Ratio Interpretation**"
   ]
  },
  {
   "cell_type": "markdown",
   "id": "95a36642",
   "metadata": {},
   "source": [
    "- Remember the logit or log(odds) function:\n",
    "$$\n",
    "\\text{log(odds)} = \\beta_{0}+\\beta_{1}x\n",
    "$$\n",
    "  - Interpretation: every one unit increase in $x$ implies the increase in $\\beta_{1}$ unit in log odds"
   ]
  },
  {
   "cell_type": "markdown",
   "id": "92bab427",
   "metadata": {},
   "source": [
    "- To interpret in terms of odds, we transform the log(odds) into odds.\n",
    "$$\n",
    "\\text {log(odds)} = \\beta_{0}+\\beta_{1}x\n",
    "$$\n",
    "  - Thus,\n",
    "$$\n",
    "\\begin{align*}\n",
    "\\text {odds} &= e^{(\\beta_{0}+\\beta_{1}x)} \\\\\n",
    "&= e^{\\beta_{0}} \\left (e^{\\beta_{1}} \\right )^{x} \\\\\n",
    "\\end{align*}\n",
    "$$\n",
    "  - Interpretation: **the estimated odds of success multiply by $\\text{exp}(\\beta_{1})$ for one unit increase in $x$.**"
   ]
  },
  {
   "cell_type": "markdown",
   "id": "3901d60d",
   "metadata": {},
   "source": [
    "## **3. Predicted Probabilities**\n",
    "---"
   ]
  },
  {
   "cell_type": "markdown",
   "id": "28690fc5",
   "metadata": {},
   "source": [
    "- Remember odds interpretation:\n",
    "$$\n",
    "\\text{odds} = \\frac{\\pi(x)}{1-\\pi(x)}\n",
    "$$\n",
    "- With success probability $\\pi(x)$:\n",
    "$$\n",
    "\\begin{align*}\n",
    "\\pi(x) &= \\frac{e^{(\\beta_{0}+\\beta_{1}x)}}{1+e^{(\\beta_{0} +\\beta_{1}x)}} \\\\\n",
    "&= \\frac{e^{\\text{log(odds)}}}{1+e^{\\text{log(odds)}}} \\\\\n",
    "\\pi(x) &= \\frac{\\text{odds}}{\\text{1+odds}}\n",
    "\\end{align*}\n",
    "$$\n",
    "- $\\text{odds}=1$ means\n",
    "$$\n",
    "\\begin{align*}\n",
    "\\pi(x) &= \\frac{\\text{odds}}{\\text{1+odds}} \\\\\n",
    "\\pi(x) &= \\frac{1}{1+1} \\\\\n",
    "\\pi(x) &= 0.5 \\\\\n",
    "\\end{align*}\n",
    "$$\n",
    "- Thus,\n",
    "  - $\\text{odds}>1$ implies $\\pi(x)>0.5$, and\n",
    "  - $\\text{odds}<1$ implies $\\pi(x)<0.5$\n",
    "- Now we can interpret the decision boundary for logistic model.\n",
    "  - If $\\pi(x)>0.5$, the observation is classified in the success category ($Y=1$),\n",
    "  - Otherwise $\\pi(x) \\leq 0.5$, the observation is classified in $Y=0$."
   ]
  },
  {
   "cell_type": "markdown",
   "id": "85f79ec8",
   "metadata": {},
   "source": [
    "# **Significance Testing**"
   ]
  },
  {
   "cell_type": "markdown",
   "id": "a340ee6a",
   "metadata": {},
   "source": [
    "- The hypotheses:\n",
    "  - Null Hypothesis: the probability of success $\\pi(x)$ is **independent** of $x$.\n",
    "  - Alternative Hypothesis: the probability of success $\\pi(x)$ is **not independent** of $x$.\n",
    "    - $\\text H_{0} : \\beta = 0$\n",
    "    - $\\text H_{1} : \\beta \\neq 0$"
   ]
  },
  {
   "cell_type": "markdown",
   "id": "759633a7",
   "metadata": {},
   "source": [
    "- Test statistic:\n",
    "  - Wald statistic:\n",
    "  $$\n",
    "  z = \\beta/ \\text{SE}$$ or\n",
    "  - Wald Chi-squared statistic:\n",
    "  $$\n",
    "  z^{2}=(\\beta/ \\text{SE})^{2}$$\n",
    "  with degree of freedom = 1\n",
    "\n",
    "- Rejection region:\n",
    "  - Reject null hypothesis ($\\text H_{0}$) if $z>z_{\\alpha}$ or $z^{2}>\\chi^{2}_\\alpha, _{\\; \\text{df}=1}$, or\n",
    "  - Reject null hypothesis ($\\text H_{0}$) if $\\text{P-value}<\\alpha$."
   ]
  },
  {
   "cell_type": "markdown",
   "id": "c5a4c5ee",
   "metadata": {},
   "source": [
    "# <font color='blue'>Model Building</font>"
   ]
  },
  {
   "cell_type": "markdown",
   "id": "8bde244e",
   "metadata": {},
   "source": [
    "---\n",
    "## **0. Let's Prepare the Data**"
   ]
  },
  {
   "cell_type": "code",
   "execution_count": 9,
   "id": "29ecfde6",
   "metadata": {},
   "outputs": [],
   "source": [
    "\n",
    "data = pd.read_csv('data.csv')"
   ]
  },
  {
   "cell_type": "code",
   "execution_count": 10,
   "id": "07d6262f",
   "metadata": {},
   "outputs": [
    {
     "data": {
      "text/html": [
       "<div>\n",
       "<style scoped>\n",
       "    .dataframe tbody tr th:only-of-type {\n",
       "        vertical-align: middle;\n",
       "    }\n",
       "\n",
       "    .dataframe tbody tr th {\n",
       "        vertical-align: top;\n",
       "    }\n",
       "\n",
       "    .dataframe thead th {\n",
       "        text-align: right;\n",
       "    }\n",
       "</style>\n",
       "<table border=\"1\" class=\"dataframe\">\n",
       "  <thead>\n",
       "    <tr style=\"text-align: right;\">\n",
       "      <th></th>\n",
       "      <th>Unnamed: 0</th>\n",
       "      <th>Color</th>\n",
       "      <th>Spine</th>\n",
       "      <th>Width</th>\n",
       "      <th>Weight</th>\n",
       "      <th>Satellite</th>\n",
       "    </tr>\n",
       "  </thead>\n",
       "  <tbody>\n",
       "    <tr>\n",
       "      <th>0</th>\n",
       "      <td>0</td>\n",
       "      <td>2</td>\n",
       "      <td>3</td>\n",
       "      <td>28.3</td>\n",
       "      <td>3.05</td>\n",
       "      <td>8</td>\n",
       "    </tr>\n",
       "    <tr>\n",
       "      <th>1</th>\n",
       "      <td>1</td>\n",
       "      <td>3</td>\n",
       "      <td>3</td>\n",
       "      <td>26.0</td>\n",
       "      <td>2.60</td>\n",
       "      <td>4</td>\n",
       "    </tr>\n",
       "    <tr>\n",
       "      <th>2</th>\n",
       "      <td>2</td>\n",
       "      <td>3</td>\n",
       "      <td>3</td>\n",
       "      <td>25.6</td>\n",
       "      <td>2.15</td>\n",
       "      <td>0</td>\n",
       "    </tr>\n",
       "    <tr>\n",
       "      <th>3</th>\n",
       "      <td>3</td>\n",
       "      <td>4</td>\n",
       "      <td>2</td>\n",
       "      <td>21.0</td>\n",
       "      <td>1.85</td>\n",
       "      <td>0</td>\n",
       "    </tr>\n",
       "    <tr>\n",
       "      <th>4</th>\n",
       "      <td>4</td>\n",
       "      <td>2</td>\n",
       "      <td>3</td>\n",
       "      <td>29.0</td>\n",
       "      <td>3.00</td>\n",
       "      <td>1</td>\n",
       "    </tr>\n",
       "  </tbody>\n",
       "</table>\n",
       "</div>"
      ],
      "text/plain": [
       "   Unnamed: 0  Color  Spine  Width  Weight  Satellite\n",
       "0           0      2      3   28.3    3.05          8\n",
       "1           1      3      3   26.0    2.60          4\n",
       "2           2      3      3   25.6    2.15          0\n",
       "3           3      4      2   21.0    1.85          0\n",
       "4           4      2      3   29.0    3.00          1"
      ]
     },
     "execution_count": 10,
     "metadata": {},
     "output_type": "execute_result"
    }
   ],
   "source": [
    "data.head()"
   ]
  },
  {
   "cell_type": "code",
   "execution_count": 11,
   "id": "c005656b",
   "metadata": {},
   "outputs": [
    {
     "name": "stdout",
     "output_type": "stream",
     "text": [
      "<class 'pandas.core.frame.DataFrame'>\n",
      "RangeIndex: 173 entries, 0 to 172\n",
      "Data columns (total 6 columns):\n",
      " #   Column      Non-Null Count  Dtype  \n",
      "---  ------      --------------  -----  \n",
      " 0   Unnamed: 0  173 non-null    int64  \n",
      " 1   Color       173 non-null    int64  \n",
      " 2   Spine       173 non-null    int64  \n",
      " 3   Width       173 non-null    float64\n",
      " 4   Weight      173 non-null    float64\n",
      " 5   Satellite   173 non-null    int64  \n",
      "dtypes: float64(2), int64(4)\n",
      "memory usage: 8.2 KB\n"
     ]
    }
   ],
   "source": [
    "data.info()"
   ]
  },
  {
   "cell_type": "code",
   "execution_count": 12,
   "id": "a894cfde",
   "metadata": {},
   "outputs": [
    {
     "data": {
      "text/html": [
       "<div>\n",
       "<style scoped>\n",
       "    .dataframe tbody tr th:only-of-type {\n",
       "        vertical-align: middle;\n",
       "    }\n",
       "\n",
       "    .dataframe tbody tr th {\n",
       "        vertical-align: top;\n",
       "    }\n",
       "\n",
       "    .dataframe thead th {\n",
       "        text-align: right;\n",
       "    }\n",
       "</style>\n",
       "<table border=\"1\" class=\"dataframe\">\n",
       "  <thead>\n",
       "    <tr style=\"text-align: right;\">\n",
       "      <th></th>\n",
       "      <th>Satellite</th>\n",
       "      <th>Width</th>\n",
       "    </tr>\n",
       "  </thead>\n",
       "  <tbody>\n",
       "    <tr>\n",
       "      <th>0</th>\n",
       "      <td>1</td>\n",
       "      <td>28.3</td>\n",
       "    </tr>\n",
       "    <tr>\n",
       "      <th>1</th>\n",
       "      <td>1</td>\n",
       "      <td>26.0</td>\n",
       "    </tr>\n",
       "    <tr>\n",
       "      <th>2</th>\n",
       "      <td>0</td>\n",
       "      <td>25.6</td>\n",
       "    </tr>\n",
       "    <tr>\n",
       "      <th>3</th>\n",
       "      <td>0</td>\n",
       "      <td>21.0</td>\n",
       "    </tr>\n",
       "    <tr>\n",
       "      <th>4</th>\n",
       "      <td>1</td>\n",
       "      <td>29.0</td>\n",
       "    </tr>\n",
       "  </tbody>\n",
       "</table>\n",
       "</div>"
      ],
      "text/plain": [
       "   Satellite  Width\n",
       "0          1   28.3\n",
       "1          1   26.0\n",
       "2          0   25.6\n",
       "3          0   21.0\n",
       "4          1   29.0"
      ]
     },
     "execution_count": 12,
     "metadata": {},
     "output_type": "execute_result"
    }
   ],
   "source": [
    "# Code the response variable Satellite\n",
    "# Satellite=0 --> Satellite=0, otherwise Satellite=1\n",
    "data['Satellite'] = data['Satellite'].apply(lambda x: 0 if x==0 else 1)\n",
    "\n",
    "# Use only 2 variables of interest\n",
    "data = data[['Satellite', 'Width']]\n",
    "\n",
    "# Data check\n",
    "data.head()"
   ]
  },
  {
   "cell_type": "markdown",
   "id": "7dce04b8",
   "metadata": {},
   "source": [
    "---\n",
    "## **1. Likelihood Function**\n",
    "In general, **likelihood function** for the identical and independent observations with binary response:\n",
    "\n",
    "$$\n",
    "\\mathcal{L} = \\prod_{i=1}^{n}\\pi(x_{i})^{y_{i}}[1-\\pi(x_{i})]^{(1-y_{i})}\n",
    "$$"
   ]
  },
  {
   "cell_type": "code",
   "execution_count": 13,
   "id": "cd833f3e",
   "metadata": {},
   "outputs": [
    {
     "data": {
      "text/plain": [
       "1    111\n",
       "0     62\n",
       "Name: Satellite, dtype: int64"
      ]
     },
     "execution_count": 13,
     "metadata": {},
     "output_type": "execute_result"
    }
   ],
   "source": [
    "# Describe the counts of each response category\n",
    "count_data = data['Satellite'].value_counts()\n",
    "count_data"
   ]
  },
  {
   "cell_type": "markdown",
   "id": "19964010",
   "metadata": {},
   "source": [
    "- Assume $\\pi(x_{i}) = 0.5$, $\\forall i$.\n",
    "- Can you calculate the likelihood value from the horseshoe crab observations?"
   ]
  },
  {
   "cell_type": "code",
   "execution_count": 15,
   "id": "5e292dd2",
   "metadata": {},
   "outputs": [],
   "source": [
    "p_success = 0.5\n",
    "n_success = count_data.loc[1]\n",
    "n_failed = count_data.loc[0]\n",
    "\n"
   ]
  },
  {
   "cell_type": "code",
   "execution_count": 18,
   "id": "b274c69f",
   "metadata": {},
   "outputs": [],
   "source": [
    "likelihood = (p_success**n_success) * ((1-p_success)**n_failed)\n",
    "# (Prob sukses** jumlah sukses) * (prob gagal ** jumlah gagal)"
   ]
  },
  {
   "cell_type": "code",
   "execution_count": 17,
   "id": "ddc9efce",
   "metadata": {},
   "outputs": [
    {
     "data": {
      "text/plain": [
       "8.352389719038111e-53"
      ]
     },
     "execution_count": 17,
     "metadata": {},
     "output_type": "execute_result"
    }
   ],
   "source": [
    "likelihood"
   ]
  },
  {
   "cell_type": "code",
   "execution_count": 19,
   "id": "ad9fd61c",
   "metadata": {},
   "outputs": [
    {
     "data": {
      "text/plain": [
       "-119.91446223687053"
      ]
     },
     "execution_count": 19,
     "metadata": {},
     "output_type": "execute_result"
    }
   ],
   "source": [
    "# Transform likelihood into log-likelihood\n",
    "log_likelihood = np.log(likelihood)\n",
    "\n",
    "log_likelihood"
   ]
  },
  {
   "cell_type": "markdown",
   "id": "6cfc3de3",
   "metadata": {},
   "source": [
    "---\n",
    "## **2. Maximum Likelihood Estimation**\n",
    "The maximum likelihood estimate is the parameter value at which the likelihood function takes its maximum value."
   ]
  },
  {
   "cell_type": "markdown",
   "id": "69d378c2",
   "metadata": {},
   "source": [
    "1. Calculate the likelihood and log-likelihood value when **$\\pi(x_{i})$ = 0.4** for $i$=1,2,...173."
   ]
  },
  {
   "cell_type": "code",
   "execution_count": 20,
   "id": "e1a109ae",
   "metadata": {},
   "outputs": [
    {
     "data": {
      "text/plain": [
       "-133.37945991152264"
      ]
     },
     "execution_count": 20,
     "metadata": {},
     "output_type": "execute_result"
    }
   ],
   "source": [
    "p_success_1 = 0.4\n",
    "n_success_1 = count_data.loc[1]\n",
    "n_failed_1 = count_data.loc[0]\n",
    "\n",
    "likelihood_1 = (p_success_1**n_success_1) * ((1-p_success_1)**n_failed_1)\n",
    "log_likelihood_1 = np.log(likelihood_1)b\n",
    "\n",
    "log_likelihood_1"
   ]
  },
  {
   "cell_type": "markdown",
   "id": "464a69cd",
   "metadata": {},
   "source": [
    "2. Calculate the likelihood and log-likelihood value when **$\\pi(x_{i})$ = 0.6** for $i$=1,2,...173."
   ]
  },
  {
   "cell_type": "code",
   "execution_count": 21,
   "id": "e6614316",
   "metadata": {},
   "outputs": [
    {
     "data": {
      "text/plain": [
       "-113.51166961422258"
      ]
     },
     "execution_count": 21,
     "metadata": {},
     "output_type": "execute_result"
    }
   ],
   "source": [
    "p_success_2 = 0.6\n",
    "n_success_2 = count_data.loc[1]\n",
    "n_failed_2 = count_data.loc[0]\n",
    "\n",
    "likelihood_2 = (p_success_2**n_success_2) * ((1-p_success_2)**n_failed_2)\n",
    "log_likelihood_2 = np.log(likelihood_2)\n",
    "\n",
    "log_likelihood_2"
   ]
  },
  {
   "cell_type": "markdown",
   "id": "bbe0d9e5",
   "metadata": {},
   "source": [
    "**Questions:**\n",
    "- Which estimate of $\\pi(x_{i})$ results in the maximum likelihood/log-likelihood value?\n",
    "- $\\pi(x_{i})$=0.4, $\\pi(x_{i})$=0.5, or $\\pi(x_{i})$=0.6?\n",
    "- Explain your answer."
   ]
  },
  {
   "cell_type": "markdown",
   "id": "efd89bbc",
   "metadata": {},
   "source": [
    "<details>\n",
    "    <summary><b>Click to see answer</b></summary>\n",
    "\n",
    "- The estimate of $\\pi(x_{i})$=0.6 yields the largest likelihood/log-likelihood value.\n",
    "- $\\pi(x_{i})$ is the estimate of success probability.\n",
    "- From 173 observations, 111 are success observations (y=1, the crab having any satellite).\n",
    "- Thus p(success) = 111/173 = 0.64 --> estimate of success probability falls between [0.6,0.7]."
   ]
  },
  {
   "cell_type": "markdown",
   "id": "ae37b492",
   "metadata": {},
   "source": [
    "**Summary:**\n",
    "- Make a plot of likelihood/log-likelihood value for each estimate of $\\pi(x_{i})$."
   ]
  },
  {
   "cell_type": "code",
   "execution_count": 22,
   "id": "1a7e8239",
   "metadata": {},
   "outputs": [
    {
     "data": {
      "text/plain": [
       "array([0.1, 0.2, 0.3, 0.4, 0.5, 0.6, 0.7, 0.8, 0.9])"
      ]
     },
     "execution_count": 22,
     "metadata": {},
     "output_type": "execute_result"
    }
   ],
   "source": [
    "# Assign the estimate value of pi in range [0.1,0.9]\n",
    "pi = np.arange(0.1, 1, 0.1)\n",
    "\n",
    "pi"
   ]
  },
  {
   "cell_type": "code",
   "execution_count": 23,
   "id": "b364f8b1",
   "metadata": {},
   "outputs": [
    {
     "data": {
      "text/plain": [
       "array([1.45557834e-114, 2.54629497e-084, 2.27267720e-068, 1.18586858e-058,\n",
       "       8.35238972e-053, 5.04090201e-050, 2.44005848e-050, 8.06953087e-055,\n",
       "       8.33524842e-068])"
      ]
     },
     "execution_count": 23,
     "metadata": {},
     "output_type": "execute_result"
    }
   ],
   "source": [
    "# Define the number of success and failed observations\n",
    "n_success = count_data.loc[1]\n",
    "n_failed = count_data.loc[0]\n",
    "\n",
    "# Likelihood function for 173 crabs observations\n",
    "likelihood = (pi**n_success)*((1-pi)**n_failed)\n",
    "likelihood"
   ]
  },
  {
   "cell_type": "code",
   "execution_count": 24,
   "id": "f6691368",
   "metadata": {},
   "outputs": [
    {
     "data": {
      "text/plain": [
       "[<matplotlib.lines.Line2D at 0x7f7b3825a4a0>]"
      ]
     },
     "execution_count": 24,
     "metadata": {},
     "output_type": "execute_result"
    },
    {
     "data": {
      "image/png": "[encoded data removed]",
      "text/plain": [
       "<Figure size 640x480 with 1 Axes>"
      ]
     },
     "metadata": {},
     "output_type": "display_data"
    }
   ],
   "source": [
    "# Plot pi vs likelihood\n",
    "plt.plot(pi, likelihood, '--o')"
   ]
  },
  {
   "cell_type": "code",
   "execution_count": 25,
   "id": "b4265109",
   "metadata": {},
   "outputs": [
    {
     "data": {
      "text/plain": [
       "[<matplotlib.lines.Line2D at 0x7f7b4aab0fd0>]"
      ]
     },
     "execution_count": 25,
     "metadata": {},
     "output_type": "execute_result"
    },
    {
     "data": {
      "image/png": "[encoded data removed]",
      "text/plain": [
       "<Figure size 640x480 with 1 Axes>"
      ]
     },
     "metadata": {},
     "output_type": "display_data"
    }
   ],
   "source": [
    "# Calculate log-likelihood\n",
    "log_likelihood = n_success*np.log(pi) + n_failed*np.log(1-pi)\n",
    "\n",
    "# Plot pi vs log-likelihood\n",
    "plt.plot(pi, log_likelihood, '--o')"
   ]
  },
  {
   "cell_type": "markdown",
   "id": "2410451a",
   "metadata": {},
   "source": [
    "- The likelihood function for crabs data has its maximum at $\\pi(x_{i})$ between 0.6 and 0.7, since the proportion of success is 0.64 of the total observations."
   ]
  },
  {
   "cell_type": "markdown",
   "id": "b03e517a",
   "metadata": {},
   "source": [
    "## **3. Optimization with Gradient Descent**"
   ]
  },
  {
   "cell_type": "markdown",
   "id": "d996b393",
   "metadata": {},
   "source": [
    "**Remember:**\n",
    "- We want to maximize likelihood estimate $\\pi(x)$ from the n observations, where:\n",
    "$$\n",
    "\\pi(x) = \\frac{e^{(\\beta_{0}+\\beta_{1}x)}}{1+e^{(\\beta_{0}+\\beta_{1}x)}}\n",
    "$$\n",
    "- Hence, we need to find $\\beta_{0}$ and $\\beta_{1}$ that maximize the likelihood.\n",
    "- We call this the optimum $\\beta_{0}$ and $\\beta_{1}$.\n",
    "- To find the optimum $\\beta_{0}$ and $\\beta_{1}$, we maximize the likelihood/log-likelihood function, or we minimize the **negative log-likelihood**:\n",
    "$$\n",
    "-\\log(\\mathcal{L}(\\beta)) = -\\sum_{i=1}^{n}(y_{i}\\log[\\pi (x_{i})]+(1-y_{i})\\log[1-\\pi(x_{i})])\n",
    "$$\n",
    "- We find the optimum parameter $\\beta_{j}$ where:\n",
    "$$\n",
    "\\frac{\\partial \\text{NLL}}{\\partial \\beta_{j}}=0 \\;\\;\\;\\;\\;\\text o \\text r:\n",
    "$$\n",
    "$$\n",
    "\\sum_{i=1}^{n}\\left [ \\pi(x_{i})-y_{i} \\right ]x_{j}=0, \\;\\;\\;\\;j=1,2,\\dots,p\n",
    "$$"
   ]
  },
  {
   "cell_type": "markdown",
   "id": "e6339b6d",
   "metadata": {},
   "source": [
    "---\n",
    "**Optimization Algorithm:**\n",
    "1. Define the response variable ($y$) and the explanatory variable ($X$).\n",
    "2. Initialize parameter estimate $\\beta_{0}=0.0$ and $\\beta_{1}=0.0$.\n",
    "3. Calculate the gradient $\\frac{\\partial \\text {NLL}}{\\partial \\beta_{j}}$, thus we have the gradient of $\\beta_{0}$ and $\\beta_{1}$.\n",
    "4. Update the new $\\beta_{0}$ and $\\beta_{1}$:\n",
    "$$\n",
    "\\beta _{j}^{new} = \\beta _{j}^{old} - \\eta \\; \\frac{\\partial \\text{NLL}}{\\partial \\beta _{j}^{old}}\n",
    "$$\n",
    "7. Repeat step 2-4 until converge:\n",
    "  - $\\Delta \\beta_{j} < \\text{tolerance}$, or\n",
    "  - $\\nabla_{\\beta_{j}} \\text{NLL} < \\text{tolerance}$\n",
    "    - Note: $\\nabla$ is the differential nabla operator or gradient, acting to a differentiable function."
   ]
  }
 ],
 "metadata": {
  "kernelspec": {
   "display_name": "dss_mice",
   "language": "python",
   "name": "dss_mice"
  },
  "language_info": {
   "codemirror_mode": {
    "name": "ipython",
    "version": 3
   },
   "file_extension": ".py",
   "mimetype": "text/x-python",
   "name": "python",
   "nbconvert_exporter": "python",
   "pygments_lexer": "ipython3",
   "version": "3.10.9"
  }
 },
 "nbformat": 4,
 "nbformat_minor": 5
}
