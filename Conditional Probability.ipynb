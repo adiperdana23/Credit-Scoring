{
 "cells": [
  {
   "cell_type": "markdown",
   "id": "810be6fc",
   "metadata": {},
   "source": [
    "---\n",
    "**Outline**\n",
    "\n",
    "1. Review: Categorical Data Analysis\n",
    "2. Contingency Table and Probability Structure\n",
    "3. Odds, Odds Ratio, and Relative Risk"
   ]
  },
  {
   "cell_type": "code",
   "execution_count": 8,
   "id": "d0e869a3",
   "metadata": {},
   "outputs": [],
   "source": [
    "# Load data manipulation package\n",
    "import numpy as np\n",
    "import pandas as pd\n",
    "import math"
   ]
  },
  {
   "cell_type": "markdown",
   "id": "603114e3",
   "metadata": {},
   "source": [
    "# <font color='blue'>Review: Categorical Data Analysis"
   ]
  },
  {
   "cell_type": "markdown",
   "id": "70ef4ebb",
   "metadata": {},
   "source": [
    "## **Contingency Table**\n",
    "---\n",
    "\n",
    "- **Joint Probability**: probability that ($X$, $Y$ ) falls in the cell in row $i$ and column $j$.\n",
    "- **Marginal Probability**: the row and column totals of the joint probabilities.\n",
    "- **Conditional Probability**: probability distribution for $Y$ at each level of $X$."
   ]
  },
  {
   "cell_type": "markdown",
   "id": "72d9c0f9",
   "metadata": {},
   "source": [
    "\n",
    "- **Joint Probability**\n",
    "$$\n",
    "\\pi_{ij}=n_{ij}/n\n",
    "$$\n",
    "- **Marginal Probability**\n",
    "$$\n",
    "\\pi_{i+}=\\pi_{i1}+\\pi_{i2}+\\dots+\\pi_{iJ}\n",
    "$$\n",
    "$$\n",
    "\\pi_{+j}=\\pi_{1j}+\\pi_{2j}+\\dots+\\pi_{Ij}\n",
    "$$\n",
    "- **Conditional Probability**\n",
    "$$\n",
    "\\pi_{i|j}=n_{ij}/n_{+j}\n",
    "$$"
   ]
  },
  {
   "cell_type": "markdown",
   "id": "b442659a",
   "metadata": {},
   "source": [
    "## **Odds, Odds Ratio, Relative Risk**"
   ]
  },
  {
   "cell_type": "markdown",
   "id": "70b3d3cb",
   "metadata": {},
   "source": [
    "- **Odds (of success)**:\n",
    "$$\n",
    "\\text{odds} = \\frac{\\pi}{1-\\pi}\n",
    "$$\n",
    "- **Odds Ratio (OR)**:\n",
    "$$\n",
    "\\text{OR} = \\frac{\\text {odds}_{1}}{\\text {odds}_{2}}\n",
    "$$\n",
    "- **Relative Risk**:\n",
    "$$\n",
    "\\text{relative risk} = \\frac{\\pi_1}{\\pi_2}\n",
    "$$\n",
    "\n",
    "where:\n",
    "$\\pi$ = probability of success"
   ]
  },
  {
   "cell_type": "markdown",
   "id": "5f512f19",
   "metadata": {},
   "source": [
    "## **Test of Independence**\n",
    "---\n",
    "To test whether certain levels of one variable tend to be **associated** with some levels of another."
   ]
  },
  {
   "cell_type": "markdown",
   "id": "c003c6ab",
   "metadata": {},
   "source": [
    "- **Null Hypothesis:**\n",
    "  - The two variables are independent.\n",
    "- **Alternative Hypothesis:**\n",
    "  - The two variables are not independent.\n",
    "- **Test Statistic:**\n",
    "  - Pearson Chi-squared Statistic\n",
    "\n",
    "  $$\n",
    "  \\chi ^{2}=\\sum \\frac{(n_{ij}-\\mu _{ij})^{2}}{\\mu _{ij}}\n",
    "  $$\n",
    "  where\n",
    "  $$\n",
    "  \\mu _{ij}=\\frac{(n_{i+})(n_{+j})}{n}\n",
    "  $$\n",
    "\n",
    "  - degrees of freedom = $(I-1) \\times (J-1)$\n",
    "- **Rejection Region:**\n",
    "\n",
    "$$\n",
    "\\begin{align*}\n",
    "\\chi^{2} &> \\chi^{2}_{\\alpha} \\\\\n",
    "&\\text{or} \\\\\n",
    "P_{\\text{value}} &< \\alpha\n",
    "\\end{align*}\n",
    "$$\n"
   ]
  },
  {
   "cell_type": "markdown",
   "id": "fdba326f",
   "metadata": {},
   "source": [
    "# <font color='blue'>Example</font>"
   ]
  },
  {
   "cell_type": "markdown",
   "id": "ac7b0ce8",
   "metadata": {},
   "source": [
    "## **Data Preparation**"
   ]
  },
  {
   "cell_type": "markdown",
   "id": "7b5909ba",
   "metadata": {},
   "source": [
    "- This is a fictive dataset from a car insurance company.\n",
    "- Column `OUTCOME` indicates 1 if a customer has claimed her insurance, else 0.\n",
    "- We will generate our target `DEFAULT` from column `CREDIT_SCORE`:\n",
    "    - `DEFAULT = 1` for default loan if `CREDIT_SCORE > 0.5`,\n",
    "    - `DEFAULT = 0` for non default loan if `CREDIT_SCORE <= 0.5`"
   ]
  },
  {
   "cell_type": "code",
   "execution_count": 11,
   "id": "df365787",
   "metadata": {},
   "outputs": [
    {
     "data": {
      "text/html": [
       "<div>\n",
       "<style scoped>\n",
       "    .dataframe tbody tr th:only-of-type {\n",
       "        vertical-align: middle;\n",
       "    }\n",
       "\n",
       "    .dataframe tbody tr th {\n",
       "        vertical-align: top;\n",
       "    }\n",
       "\n",
       "    .dataframe thead th {\n",
       "        text-align: right;\n",
       "    }\n",
       "</style>\n",
       "<table border=\"1\" class=\"dataframe\">\n",
       "  <thead>\n",
       "    <tr style=\"text-align: right;\">\n",
       "      <th></th>\n",
       "      <th>0</th>\n",
       "      <th>1</th>\n",
       "      <th>2</th>\n",
       "      <th>3</th>\n",
       "      <th>4</th>\n",
       "    </tr>\n",
       "  </thead>\n",
       "  <tbody>\n",
       "    <tr>\n",
       "      <th>ID</th>\n",
       "      <td>569520</td>\n",
       "      <td>750365</td>\n",
       "      <td>199901</td>\n",
       "      <td>478866</td>\n",
       "      <td>731664</td>\n",
       "    </tr>\n",
       "    <tr>\n",
       "      <th>AGE</th>\n",
       "      <td>65+</td>\n",
       "      <td>16-25</td>\n",
       "      <td>16-25</td>\n",
       "      <td>16-25</td>\n",
       "      <td>26-39</td>\n",
       "    </tr>\n",
       "    <tr>\n",
       "      <th>GENDER</th>\n",
       "      <td>female</td>\n",
       "      <td>male</td>\n",
       "      <td>female</td>\n",
       "      <td>male</td>\n",
       "      <td>male</td>\n",
       "    </tr>\n",
       "    <tr>\n",
       "      <th>RACE</th>\n",
       "      <td>majority</td>\n",
       "      <td>majority</td>\n",
       "      <td>majority</td>\n",
       "      <td>majority</td>\n",
       "      <td>majority</td>\n",
       "    </tr>\n",
       "    <tr>\n",
       "      <th>DRIVING_EXPERIENCE</th>\n",
       "      <td>0-9y</td>\n",
       "      <td>0-9y</td>\n",
       "      <td>0-9y</td>\n",
       "      <td>0-9y</td>\n",
       "      <td>10-19y</td>\n",
       "    </tr>\n",
       "    <tr>\n",
       "      <th>EDUCATION</th>\n",
       "      <td>high school</td>\n",
       "      <td>none</td>\n",
       "      <td>high school</td>\n",
       "      <td>university</td>\n",
       "      <td>none</td>\n",
       "    </tr>\n",
       "    <tr>\n",
       "      <th>INCOME</th>\n",
       "      <td>upper class</td>\n",
       "      <td>poverty</td>\n",
       "      <td>working class</td>\n",
       "      <td>working class</td>\n",
       "      <td>working class</td>\n",
       "    </tr>\n",
       "    <tr>\n",
       "      <th>CREDIT_SCORE</th>\n",
       "      <td>0.629027</td>\n",
       "      <td>0.357757</td>\n",
       "      <td>0.493146</td>\n",
       "      <td>0.206013</td>\n",
       "      <td>0.388366</td>\n",
       "    </tr>\n",
       "    <tr>\n",
       "      <th>VEHICLE_OWNERSHIP</th>\n",
       "      <td>1.0</td>\n",
       "      <td>0.0</td>\n",
       "      <td>1.0</td>\n",
       "      <td>1.0</td>\n",
       "      <td>1.0</td>\n",
       "    </tr>\n",
       "    <tr>\n",
       "      <th>VEHICLE_YEAR</th>\n",
       "      <td>after 2015</td>\n",
       "      <td>before 2015</td>\n",
       "      <td>before 2015</td>\n",
       "      <td>before 2015</td>\n",
       "      <td>before 2015</td>\n",
       "    </tr>\n",
       "    <tr>\n",
       "      <th>MARRIED</th>\n",
       "      <td>0.0</td>\n",
       "      <td>0.0</td>\n",
       "      <td>0.0</td>\n",
       "      <td>0.0</td>\n",
       "      <td>0.0</td>\n",
       "    </tr>\n",
       "    <tr>\n",
       "      <th>CHILDREN</th>\n",
       "      <td>1.0</td>\n",
       "      <td>0.0</td>\n",
       "      <td>0.0</td>\n",
       "      <td>1.0</td>\n",
       "      <td>0.0</td>\n",
       "    </tr>\n",
       "    <tr>\n",
       "      <th>POSTAL_CODE</th>\n",
       "      <td>10238</td>\n",
       "      <td>10238</td>\n",
       "      <td>10238</td>\n",
       "      <td>32765</td>\n",
       "      <td>32765</td>\n",
       "    </tr>\n",
       "    <tr>\n",
       "      <th>ANNUAL_MILEAGE</th>\n",
       "      <td>12000.0</td>\n",
       "      <td>16000.0</td>\n",
       "      <td>11000.0</td>\n",
       "      <td>11000.0</td>\n",
       "      <td>12000.0</td>\n",
       "    </tr>\n",
       "    <tr>\n",
       "      <th>VEHICLE_TYPE</th>\n",
       "      <td>sedan</td>\n",
       "      <td>sedan</td>\n",
       "      <td>sedan</td>\n",
       "      <td>sedan</td>\n",
       "      <td>sedan</td>\n",
       "    </tr>\n",
       "    <tr>\n",
       "      <th>SPEEDING_VIOLATIONS</th>\n",
       "      <td>0</td>\n",
       "      <td>0</td>\n",
       "      <td>0</td>\n",
       "      <td>0</td>\n",
       "      <td>2</td>\n",
       "    </tr>\n",
       "    <tr>\n",
       "      <th>DUIS</th>\n",
       "      <td>0</td>\n",
       "      <td>0</td>\n",
       "      <td>0</td>\n",
       "      <td>0</td>\n",
       "      <td>0</td>\n",
       "    </tr>\n",
       "    <tr>\n",
       "      <th>PAST_ACCIDENTS</th>\n",
       "      <td>0</td>\n",
       "      <td>0</td>\n",
       "      <td>0</td>\n",
       "      <td>0</td>\n",
       "      <td>1</td>\n",
       "    </tr>\n",
       "    <tr>\n",
       "      <th>OUTCOME</th>\n",
       "      <td>0.0</td>\n",
       "      <td>1.0</td>\n",
       "      <td>0.0</td>\n",
       "      <td>0.0</td>\n",
       "      <td>1.0</td>\n",
       "    </tr>\n",
       "  </tbody>\n",
       "</table>\n",
       "</div>"
      ],
      "text/plain": [
       "                               0            1              2              3  \\\n",
       "ID                        569520       750365         199901         478866   \n",
       "AGE                          65+        16-25          16-25          16-25   \n",
       "GENDER                    female         male         female           male   \n",
       "RACE                    majority     majority       majority       majority   \n",
       "DRIVING_EXPERIENCE          0-9y         0-9y           0-9y           0-9y   \n",
       "EDUCATION            high school         none    high school     university   \n",
       "INCOME               upper class      poverty  working class  working class   \n",
       "CREDIT_SCORE            0.629027     0.357757       0.493146       0.206013   \n",
       "VEHICLE_OWNERSHIP            1.0          0.0            1.0            1.0   \n",
       "VEHICLE_YEAR          after 2015  before 2015    before 2015    before 2015   \n",
       "MARRIED                      0.0          0.0            0.0            0.0   \n",
       "CHILDREN                     1.0          0.0            0.0            1.0   \n",
       "POSTAL_CODE                10238        10238          10238          32765   \n",
       "ANNUAL_MILEAGE           12000.0      16000.0        11000.0        11000.0   \n",
       "VEHICLE_TYPE               sedan        sedan          sedan          sedan   \n",
       "SPEEDING_VIOLATIONS            0            0              0              0   \n",
       "DUIS                           0            0              0              0   \n",
       "PAST_ACCIDENTS                 0            0              0              0   \n",
       "OUTCOME                      0.0          1.0            0.0            0.0   \n",
       "\n",
       "                                 4  \n",
       "ID                          731664  \n",
       "AGE                          26-39  \n",
       "GENDER                        male  \n",
       "RACE                      majority  \n",
       "DRIVING_EXPERIENCE          10-19y  \n",
       "EDUCATION                     none  \n",
       "INCOME               working class  \n",
       "CREDIT_SCORE              0.388366  \n",
       "VEHICLE_OWNERSHIP              1.0  \n",
       "VEHICLE_YEAR           before 2015  \n",
       "MARRIED                        0.0  \n",
       "CHILDREN                       0.0  \n",
       "POSTAL_CODE                  32765  \n",
       "ANNUAL_MILEAGE             12000.0  \n",
       "VEHICLE_TYPE                 sedan  \n",
       "SPEEDING_VIOLATIONS              2  \n",
       "DUIS                             0  \n",
       "PAST_ACCIDENTS                   1  \n",
       "OUTCOME                        1.0  "
      ]
     },
     "execution_count": 11,
     "metadata": {},
     "output_type": "execute_result"
    }
   ],
   "source": [
    "# Import dataset from csv file\n",
    "data = pd.read_csv('Car_Insurance.csv')\n",
    "\n",
    "# Table check\n",
    "data.head().T"
   ]
  },
  {
   "cell_type": "markdown",
   "id": "22445033",
   "metadata": {},
   "source": [
    "Now, Creating target variable which is **DEFAULT** that is related on Credit_score, based on several requirements :\n",
    " - If CREDIT_SCORE > 0.5, we assign 1\n",
    " - If CREDIT_SCORE < 0.5, we assign 0"
   ]
  },
  {
   "cell_type": "code",
   "execution_count": 12,
   "id": "b6239af9",
   "metadata": {},
   "outputs": [],
   "source": [
    "# Assign the Default Status\n",
    "data['DEFAULT'] = data['CREDIT_SCORE'].apply(lambda x:1 if x > 0.5 else 0)"
   ]
  },
  {
   "cell_type": "code",
   "execution_count": 13,
   "id": "e0371f8c",
   "metadata": {},
   "outputs": [
    {
     "data": {
      "text/html": [
       "<div>\n",
       "<style scoped>\n",
       "    .dataframe tbody tr th:only-of-type {\n",
       "        vertical-align: middle;\n",
       "    }\n",
       "\n",
       "    .dataframe tbody tr th {\n",
       "        vertical-align: top;\n",
       "    }\n",
       "\n",
       "    .dataframe thead th {\n",
       "        text-align: right;\n",
       "    }\n",
       "</style>\n",
       "<table border=\"1\" class=\"dataframe\">\n",
       "  <thead>\n",
       "    <tr style=\"text-align: right;\">\n",
       "      <th></th>\n",
       "      <th>0</th>\n",
       "      <th>1</th>\n",
       "      <th>2</th>\n",
       "      <th>3</th>\n",
       "      <th>4</th>\n",
       "    </tr>\n",
       "  </thead>\n",
       "  <tbody>\n",
       "    <tr>\n",
       "      <th>ID</th>\n",
       "      <td>569520</td>\n",
       "      <td>750365</td>\n",
       "      <td>199901</td>\n",
       "      <td>478866</td>\n",
       "      <td>731664</td>\n",
       "    </tr>\n",
       "    <tr>\n",
       "      <th>AGE</th>\n",
       "      <td>65+</td>\n",
       "      <td>16-25</td>\n",
       "      <td>16-25</td>\n",
       "      <td>16-25</td>\n",
       "      <td>26-39</td>\n",
       "    </tr>\n",
       "    <tr>\n",
       "      <th>GENDER</th>\n",
       "      <td>female</td>\n",
       "      <td>male</td>\n",
       "      <td>female</td>\n",
       "      <td>male</td>\n",
       "      <td>male</td>\n",
       "    </tr>\n",
       "    <tr>\n",
       "      <th>RACE</th>\n",
       "      <td>majority</td>\n",
       "      <td>majority</td>\n",
       "      <td>majority</td>\n",
       "      <td>majority</td>\n",
       "      <td>majority</td>\n",
       "    </tr>\n",
       "    <tr>\n",
       "      <th>DRIVING_EXPERIENCE</th>\n",
       "      <td>0-9y</td>\n",
       "      <td>0-9y</td>\n",
       "      <td>0-9y</td>\n",
       "      <td>0-9y</td>\n",
       "      <td>10-19y</td>\n",
       "    </tr>\n",
       "    <tr>\n",
       "      <th>EDUCATION</th>\n",
       "      <td>high school</td>\n",
       "      <td>none</td>\n",
       "      <td>high school</td>\n",
       "      <td>university</td>\n",
       "      <td>none</td>\n",
       "    </tr>\n",
       "    <tr>\n",
       "      <th>INCOME</th>\n",
       "      <td>upper class</td>\n",
       "      <td>poverty</td>\n",
       "      <td>working class</td>\n",
       "      <td>working class</td>\n",
       "      <td>working class</td>\n",
       "    </tr>\n",
       "    <tr>\n",
       "      <th>CREDIT_SCORE</th>\n",
       "      <td>0.629027</td>\n",
       "      <td>0.357757</td>\n",
       "      <td>0.493146</td>\n",
       "      <td>0.206013</td>\n",
       "      <td>0.388366</td>\n",
       "    </tr>\n",
       "    <tr>\n",
       "      <th>VEHICLE_OWNERSHIP</th>\n",
       "      <td>1.0</td>\n",
       "      <td>0.0</td>\n",
       "      <td>1.0</td>\n",
       "      <td>1.0</td>\n",
       "      <td>1.0</td>\n",
       "    </tr>\n",
       "    <tr>\n",
       "      <th>VEHICLE_YEAR</th>\n",
       "      <td>after 2015</td>\n",
       "      <td>before 2015</td>\n",
       "      <td>before 2015</td>\n",
       "      <td>before 2015</td>\n",
       "      <td>before 2015</td>\n",
       "    </tr>\n",
       "    <tr>\n",
       "      <th>MARRIED</th>\n",
       "      <td>0.0</td>\n",
       "      <td>0.0</td>\n",
       "      <td>0.0</td>\n",
       "      <td>0.0</td>\n",
       "      <td>0.0</td>\n",
       "    </tr>\n",
       "    <tr>\n",
       "      <th>CHILDREN</th>\n",
       "      <td>1.0</td>\n",
       "      <td>0.0</td>\n",
       "      <td>0.0</td>\n",
       "      <td>1.0</td>\n",
       "      <td>0.0</td>\n",
       "    </tr>\n",
       "    <tr>\n",
       "      <th>POSTAL_CODE</th>\n",
       "      <td>10238</td>\n",
       "      <td>10238</td>\n",
       "      <td>10238</td>\n",
       "      <td>32765</td>\n",
       "      <td>32765</td>\n",
       "    </tr>\n",
       "    <tr>\n",
       "      <th>ANNUAL_MILEAGE</th>\n",
       "      <td>12000.0</td>\n",
       "      <td>16000.0</td>\n",
       "      <td>11000.0</td>\n",
       "      <td>11000.0</td>\n",
       "      <td>12000.0</td>\n",
       "    </tr>\n",
       "    <tr>\n",
       "      <th>VEHICLE_TYPE</th>\n",
       "      <td>sedan</td>\n",
       "      <td>sedan</td>\n",
       "      <td>sedan</td>\n",
       "      <td>sedan</td>\n",
       "      <td>sedan</td>\n",
       "    </tr>\n",
       "    <tr>\n",
       "      <th>SPEEDING_VIOLATIONS</th>\n",
       "      <td>0</td>\n",
       "      <td>0</td>\n",
       "      <td>0</td>\n",
       "      <td>0</td>\n",
       "      <td>2</td>\n",
       "    </tr>\n",
       "    <tr>\n",
       "      <th>DUIS</th>\n",
       "      <td>0</td>\n",
       "      <td>0</td>\n",
       "      <td>0</td>\n",
       "      <td>0</td>\n",
       "      <td>0</td>\n",
       "    </tr>\n",
       "    <tr>\n",
       "      <th>PAST_ACCIDENTS</th>\n",
       "      <td>0</td>\n",
       "      <td>0</td>\n",
       "      <td>0</td>\n",
       "      <td>0</td>\n",
       "      <td>1</td>\n",
       "    </tr>\n",
       "    <tr>\n",
       "      <th>OUTCOME</th>\n",
       "      <td>0.0</td>\n",
       "      <td>1.0</td>\n",
       "      <td>0.0</td>\n",
       "      <td>0.0</td>\n",
       "      <td>1.0</td>\n",
       "    </tr>\n",
       "    <tr>\n",
       "      <th>DEFAULT</th>\n",
       "      <td>1</td>\n",
       "      <td>0</td>\n",
       "      <td>0</td>\n",
       "      <td>0</td>\n",
       "      <td>0</td>\n",
       "    </tr>\n",
       "  </tbody>\n",
       "</table>\n",
       "</div>"
      ],
      "text/plain": [
       "                               0            1              2              3  \\\n",
       "ID                        569520       750365         199901         478866   \n",
       "AGE                          65+        16-25          16-25          16-25   \n",
       "GENDER                    female         male         female           male   \n",
       "RACE                    majority     majority       majority       majority   \n",
       "DRIVING_EXPERIENCE          0-9y         0-9y           0-9y           0-9y   \n",
       "EDUCATION            high school         none    high school     university   \n",
       "INCOME               upper class      poverty  working class  working class   \n",
       "CREDIT_SCORE            0.629027     0.357757       0.493146       0.206013   \n",
       "VEHICLE_OWNERSHIP            1.0          0.0            1.0            1.0   \n",
       "VEHICLE_YEAR          after 2015  before 2015    before 2015    before 2015   \n",
       "MARRIED                      0.0          0.0            0.0            0.0   \n",
       "CHILDREN                     1.0          0.0            0.0            1.0   \n",
       "POSTAL_CODE                10238        10238          10238          32765   \n",
       "ANNUAL_MILEAGE           12000.0      16000.0        11000.0        11000.0   \n",
       "VEHICLE_TYPE               sedan        sedan          sedan          sedan   \n",
       "SPEEDING_VIOLATIONS            0            0              0              0   \n",
       "DUIS                           0            0              0              0   \n",
       "PAST_ACCIDENTS                 0            0              0              0   \n",
       "OUTCOME                      0.0          1.0            0.0            0.0   \n",
       "DEFAULT                        1            0              0              0   \n",
       "\n",
       "                                 4  \n",
       "ID                          731664  \n",
       "AGE                          26-39  \n",
       "GENDER                        male  \n",
       "RACE                      majority  \n",
       "DRIVING_EXPERIENCE          10-19y  \n",
       "EDUCATION                     none  \n",
       "INCOME               working class  \n",
       "CREDIT_SCORE              0.388366  \n",
       "VEHICLE_OWNERSHIP              1.0  \n",
       "VEHICLE_YEAR           before 2015  \n",
       "MARRIED                        0.0  \n",
       "CHILDREN                       0.0  \n",
       "POSTAL_CODE                  32765  \n",
       "ANNUAL_MILEAGE             12000.0  \n",
       "VEHICLE_TYPE                 sedan  \n",
       "SPEEDING_VIOLATIONS              2  \n",
       "DUIS                             0  \n",
       "PAST_ACCIDENTS                   1  \n",
       "OUTCOME                        1.0  \n",
       "DEFAULT                          0  "
      ]
     },
     "execution_count": 13,
     "metadata": {},
     "output_type": "execute_result"
    }
   ],
   "source": [
    "# Table check\n",
    "data.head().T"
   ]
  },
  {
   "cell_type": "code",
   "execution_count": 14,
   "id": "920fbdf6",
   "metadata": {},
   "outputs": [
    {
     "name": "stdout",
     "output_type": "stream",
     "text": [
      "<class 'pandas.core.frame.DataFrame'>\n",
      "RangeIndex: 10000 entries, 0 to 9999\n",
      "Data columns (total 20 columns):\n",
      " #   Column               Non-Null Count  Dtype  \n",
      "---  ------               --------------  -----  \n",
      " 0   ID                   10000 non-null  int64  \n",
      " 1   AGE                  10000 non-null  object \n",
      " 2   GENDER               10000 non-null  object \n",
      " 3   RACE                 10000 non-null  object \n",
      " 4   DRIVING_EXPERIENCE   10000 non-null  object \n",
      " 5   EDUCATION            10000 non-null  object \n",
      " 6   INCOME               10000 non-null  object \n",
      " 7   CREDIT_SCORE         9018 non-null   float64\n",
      " 8   VEHICLE_OWNERSHIP    10000 non-null  float64\n",
      " 9   VEHICLE_YEAR         10000 non-null  object \n",
      " 10  MARRIED              10000 non-null  float64\n",
      " 11  CHILDREN             10000 non-null  float64\n",
      " 12  POSTAL_CODE          10000 non-null  int64  \n",
      " 13  ANNUAL_MILEAGE       9043 non-null   float64\n",
      " 14  VEHICLE_TYPE         10000 non-null  object \n",
      " 15  SPEEDING_VIOLATIONS  10000 non-null  int64  \n",
      " 16  DUIS                 10000 non-null  int64  \n",
      " 17  PAST_ACCIDENTS       10000 non-null  int64  \n",
      " 18  OUTCOME              10000 non-null  float64\n",
      " 19  DEFAULT              10000 non-null  int64  \n",
      "dtypes: float64(6), int64(6), object(8)\n",
      "memory usage: 1.5+ MB\n"
     ]
    }
   ],
   "source": [
    "data.info()"
   ]
  },
  {
   "cell_type": "markdown",
   "id": "f4652e67",
   "metadata": {},
   "source": [
    "The Dataset have **10000** observations and **19 Variables** but only several variables that will be used"
   ]
  },
  {
   "cell_type": "code",
   "execution_count": 15,
   "id": "d93fc7ca",
   "metadata": {},
   "outputs": [],
   "source": [
    "data1 = data[['GENDER','POSTAL_CODE','DEFAULT']]"
   ]
  },
  {
   "cell_type": "code",
   "execution_count": 16,
   "id": "66c467ce",
   "metadata": {},
   "outputs": [
    {
     "data": {
      "text/html": [
       "<div>\n",
       "<style scoped>\n",
       "    .dataframe tbody tr th:only-of-type {\n",
       "        vertical-align: middle;\n",
       "    }\n",
       "\n",
       "    .dataframe tbody tr th {\n",
       "        vertical-align: top;\n",
       "    }\n",
       "\n",
       "    .dataframe thead th {\n",
       "        text-align: right;\n",
       "    }\n",
       "</style>\n",
       "<table border=\"1\" class=\"dataframe\">\n",
       "  <thead>\n",
       "    <tr style=\"text-align: right;\">\n",
       "      <th></th>\n",
       "      <th>GENDER</th>\n",
       "      <th>POSTAL_CODE</th>\n",
       "      <th>DEFAULT</th>\n",
       "    </tr>\n",
       "  </thead>\n",
       "  <tbody>\n",
       "    <tr>\n",
       "      <th>0</th>\n",
       "      <td>female</td>\n",
       "      <td>10238</td>\n",
       "      <td>1</td>\n",
       "    </tr>\n",
       "    <tr>\n",
       "      <th>1</th>\n",
       "      <td>male</td>\n",
       "      <td>10238</td>\n",
       "      <td>0</td>\n",
       "    </tr>\n",
       "    <tr>\n",
       "      <th>2</th>\n",
       "      <td>female</td>\n",
       "      <td>10238</td>\n",
       "      <td>0</td>\n",
       "    </tr>\n",
       "    <tr>\n",
       "      <th>3</th>\n",
       "      <td>male</td>\n",
       "      <td>32765</td>\n",
       "      <td>0</td>\n",
       "    </tr>\n",
       "    <tr>\n",
       "      <th>4</th>\n",
       "      <td>male</td>\n",
       "      <td>32765</td>\n",
       "      <td>0</td>\n",
       "    </tr>\n",
       "  </tbody>\n",
       "</table>\n",
       "</div>"
      ],
      "text/plain": [
       "   GENDER  POSTAL_CODE  DEFAULT\n",
       "0  female        10238        1\n",
       "1    male        10238        0\n",
       "2  female        10238        0\n",
       "3    male        32765        0\n",
       "4    male        32765        0"
      ]
     },
     "execution_count": 16,
     "metadata": {},
     "output_type": "execute_result"
    }
   ],
   "source": [
    "data1.head()"
   ]
  },
  {
   "cell_type": "markdown",
   "id": "46a8f426",
   "metadata": {},
   "source": [
    "Check missing value\n",
    "\n",
    "\n",
    "\n"
   ]
  },
  {
   "cell_type": "code",
   "execution_count": 17,
   "id": "89e07d03",
   "metadata": {},
   "outputs": [
    {
     "data": {
      "text/plain": [
       "GENDER         0\n",
       "POSTAL_CODE    0\n",
       "DEFAULT        0\n",
       "dtype: int64"
      ]
     },
     "execution_count": 17,
     "metadata": {},
     "output_type": "execute_result"
    }
   ],
   "source": [
    "data1.isna().sum()"
   ]
  },
  {
   "cell_type": "markdown",
   "id": "6126d9db",
   "metadata": {},
   "source": [
    "THere are not missing value in our dataset"
   ]
  },
  {
   "cell_type": "markdown",
   "id": "618d5e92",
   "metadata": {},
   "source": [
    "## **1. Contingency Table**"
   ]
  },
  {
   "cell_type": "markdown",
   "id": "b206346a",
   "metadata": {},
   "source": [
    "### **Create a Contingency Table**\n",
    "\n",
    "- You can use `pd.crosstab()` to create a Contingency Table.\n",
    "- Example:\n",
    "\n",
    "```python\n",
    "contingency_table = pd.crosstab(row_data,\n",
    "                                column_data,\n",
    "                                margins,\n",
    "                                normalize)\n",
    "```\n",
    "\n",
    "- Use `margins = True` if you want to add subtotals.\n",
    "- Use `normalize = True` if you want normalize all values by dividing it by the total values"
   ]
  },
  {
   "cell_type": "markdown",
   "id": "16638ed4",
   "metadata": {},
   "source": [
    "**Questions**\n",
    "\n",
    "- We want to answer several questions.\n",
    "  - What is the probability of female customers being default?\n",
    "  - What is the probability of default given they are women?\n",
    "  - What is the odds ratio of default between female and male debtors?\n",
    "  - What is the relative risk of default for female?\n",
    "  - What is the relative risk of default for male?"
   ]
  },
  {
   "cell_type": "markdown",
   "id": "edd0dff9",
   "metadata": {},
   "source": [
    "a. **What is the probability of female customers being default?**"
   ]
  },
  {
   "cell_type": "code",
   "execution_count": 18,
   "id": "1b6eff64",
   "metadata": {},
   "outputs": [],
   "source": [
    "# Contigency table for default by gender\n",
    "crosstab_gender = pd.crosstab(\n",
    "            data1['GENDER'],\n",
    "            data1['DEFAULT'],\n",
    "            margins = True\n",
    "\n",
    ")"
   ]
  },
  {
   "cell_type": "code",
   "execution_count": 19,
   "id": "7a2ece15",
   "metadata": {},
   "outputs": [
    {
     "data": {
      "text/html": [
       "<div>\n",
       "<style scoped>\n",
       "    .dataframe tbody tr th:only-of-type {\n",
       "        vertical-align: middle;\n",
       "    }\n",
       "\n",
       "    .dataframe tbody tr th {\n",
       "        vertical-align: top;\n",
       "    }\n",
       "\n",
       "    .dataframe thead th {\n",
       "        text-align: right;\n",
       "    }\n",
       "</style>\n",
       "<table border=\"1\" class=\"dataframe\">\n",
       "  <thead>\n",
       "    <tr style=\"text-align: right;\">\n",
       "      <th>DEFAULT</th>\n",
       "      <th>0</th>\n",
       "      <th>1</th>\n",
       "      <th>All</th>\n",
       "    </tr>\n",
       "    <tr>\n",
       "      <th>GENDER</th>\n",
       "      <th></th>\n",
       "      <th></th>\n",
       "      <th></th>\n",
       "    </tr>\n",
       "  </thead>\n",
       "  <tbody>\n",
       "    <tr>\n",
       "      <th>female</th>\n",
       "      <td>2324</td>\n",
       "      <td>2686</td>\n",
       "      <td>5010</td>\n",
       "    </tr>\n",
       "    <tr>\n",
       "      <th>male</th>\n",
       "      <td>2568</td>\n",
       "      <td>2422</td>\n",
       "      <td>4990</td>\n",
       "    </tr>\n",
       "    <tr>\n",
       "      <th>All</th>\n",
       "      <td>4892</td>\n",
       "      <td>5108</td>\n",
       "      <td>10000</td>\n",
       "    </tr>\n",
       "  </tbody>\n",
       "</table>\n",
       "</div>"
      ],
      "text/plain": [
       "DEFAULT     0     1    All\n",
       "GENDER                    \n",
       "female   2324  2686   5010\n",
       "male     2568  2422   4990\n",
       "All      4892  5108  10000"
      ]
     },
     "execution_count": 19,
     "metadata": {},
     "output_type": "execute_result"
    }
   ],
   "source": [
    "crosstab_gender"
   ]
  },
  {
   "cell_type": "code",
   "execution_count": 20,
   "id": "e5473a0a",
   "metadata": {},
   "outputs": [
    {
     "data": {
      "text/plain": [
       "0.2686"
      ]
     },
     "execution_count": 20,
     "metadata": {},
     "output_type": "execute_result"
    }
   ],
   "source": [
    "#P(female and default)---> Joint Probability\n",
    "2686/10000"
   ]
  },
  {
   "cell_type": "code",
   "execution_count": 21,
   "id": "ae9e170f",
   "metadata": {},
   "outputs": [],
   "source": [
    "# Contigency table for default by gender\n",
    "crosstab_gender_normalize = pd.crosstab(\n",
    "            data1['GENDER'],\n",
    "            data1['DEFAULT'],\n",
    "            margins = True,\n",
    "            normalize = True\n",
    "\n",
    ")"
   ]
  },
  {
   "cell_type": "code",
   "execution_count": 22,
   "id": "2901e01f",
   "metadata": {},
   "outputs": [
    {
     "data": {
      "text/html": [
       "<div>\n",
       "<style scoped>\n",
       "    .dataframe tbody tr th:only-of-type {\n",
       "        vertical-align: middle;\n",
       "    }\n",
       "\n",
       "    .dataframe tbody tr th {\n",
       "        vertical-align: top;\n",
       "    }\n",
       "\n",
       "    .dataframe thead th {\n",
       "        text-align: right;\n",
       "    }\n",
       "</style>\n",
       "<table border=\"1\" class=\"dataframe\">\n",
       "  <thead>\n",
       "    <tr style=\"text-align: right;\">\n",
       "      <th>DEFAULT</th>\n",
       "      <th>0</th>\n",
       "      <th>1</th>\n",
       "      <th>All</th>\n",
       "    </tr>\n",
       "    <tr>\n",
       "      <th>GENDER</th>\n",
       "      <th></th>\n",
       "      <th></th>\n",
       "      <th></th>\n",
       "    </tr>\n",
       "  </thead>\n",
       "  <tbody>\n",
       "    <tr>\n",
       "      <th>female</th>\n",
       "      <td>0.2324</td>\n",
       "      <td>0.2686</td>\n",
       "      <td>0.501</td>\n",
       "    </tr>\n",
       "    <tr>\n",
       "      <th>male</th>\n",
       "      <td>0.2568</td>\n",
       "      <td>0.2422</td>\n",
       "      <td>0.499</td>\n",
       "    </tr>\n",
       "    <tr>\n",
       "      <th>All</th>\n",
       "      <td>0.4892</td>\n",
       "      <td>0.5108</td>\n",
       "      <td>1.000</td>\n",
       "    </tr>\n",
       "  </tbody>\n",
       "</table>\n",
       "</div>"
      ],
      "text/plain": [
       "DEFAULT       0       1    All\n",
       "GENDER                        \n",
       "female   0.2324  0.2686  0.501\n",
       "male     0.2568  0.2422  0.499\n",
       "All      0.4892  0.5108  1.000"
      ]
     },
     "execution_count": 22,
     "metadata": {},
     "output_type": "execute_result"
    }
   ],
   "source": [
    "crosstab_gender_normalize"
   ]
  },
  {
   "cell_type": "code",
   "execution_count": 23,
   "id": "b592b5ee",
   "metadata": {},
   "outputs": [
    {
     "data": {
      "text/plain": [
       "2686"
      ]
     },
     "execution_count": 23,
     "metadata": {},
     "output_type": "execute_result"
    }
   ],
   "source": [
    "female_and_default = crosstab_gender[1]['female']\n",
    "margin_total = crosstab_gender.sum()\n",
    "\n",
    "female_and_default"
   ]
  },
  {
   "cell_type": "code",
   "execution_count": 24,
   "id": "0c104984",
   "metadata": {},
   "outputs": [
    {
     "data": {
      "text/plain": [
       "40000"
      ]
     },
     "execution_count": 24,
     "metadata": {},
     "output_type": "execute_result"
    }
   ],
   "source": [
    "margin_total.sum()"
   ]
  },
  {
   "cell_type": "code",
   "execution_count": 25,
   "id": "0b43736e",
   "metadata": {},
   "outputs": [],
   "source": [
    "p_female_and_default = female_and_default/margin_total.sum()"
   ]
  },
  {
   "cell_type": "code",
   "execution_count": 26,
   "id": "21f85231",
   "metadata": {},
   "outputs": [
    {
     "data": {
      "text/plain": [
       "0.06715"
      ]
     },
     "execution_count": 26,
     "metadata": {},
     "output_type": "execute_result"
    }
   ],
   "source": [
    "p_female_and_default"
   ]
  },
  {
   "cell_type": "markdown",
   "id": "5376f8be",
   "metadata": {},
   "source": [
    "**2. - What is the probability of default given they are women?**"
   ]
  },
  {
   "cell_type": "markdown",
   "id": "96c31429",
   "metadata": {},
   "source": [
    "P(default | women)--> Conditional Probability"
   ]
  },
  {
   "cell_type": "code",
   "execution_count": 27,
   "id": "247777e8",
   "metadata": {},
   "outputs": [],
   "source": [
    "crosstab_gender_2 = crosstab_gender = pd.crosstab(\n",
    "            data1['GENDER'],\n",
    "            data1['DEFAULT'],\n",
    "            margins = False\n",
    "\n",
    ")"
   ]
  },
  {
   "cell_type": "code",
   "execution_count": 28,
   "id": "55214402",
   "metadata": {},
   "outputs": [
    {
     "data": {
      "text/html": [
       "<div>\n",
       "<style scoped>\n",
       "    .dataframe tbody tr th:only-of-type {\n",
       "        vertical-align: middle;\n",
       "    }\n",
       "\n",
       "    .dataframe tbody tr th {\n",
       "        vertical-align: top;\n",
       "    }\n",
       "\n",
       "    .dataframe thead th {\n",
       "        text-align: right;\n",
       "    }\n",
       "</style>\n",
       "<table border=\"1\" class=\"dataframe\">\n",
       "  <thead>\n",
       "    <tr style=\"text-align: right;\">\n",
       "      <th>DEFAULT</th>\n",
       "      <th>0</th>\n",
       "      <th>1</th>\n",
       "    </tr>\n",
       "    <tr>\n",
       "      <th>GENDER</th>\n",
       "      <th></th>\n",
       "      <th></th>\n",
       "    </tr>\n",
       "  </thead>\n",
       "  <tbody>\n",
       "    <tr>\n",
       "      <th>female</th>\n",
       "      <td>2324</td>\n",
       "      <td>2686</td>\n",
       "    </tr>\n",
       "    <tr>\n",
       "      <th>male</th>\n",
       "      <td>2568</td>\n",
       "      <td>2422</td>\n",
       "    </tr>\n",
       "  </tbody>\n",
       "</table>\n",
       "</div>"
      ],
      "text/plain": [
       "DEFAULT     0     1\n",
       "GENDER             \n",
       "female   2324  2686\n",
       "male     2568  2422"
      ]
     },
     "execution_count": 28,
     "metadata": {},
     "output_type": "execute_result"
    }
   ],
   "source": [
    "crosstab_gender_2"
   ]
  },
  {
   "cell_type": "code",
   "execution_count": 29,
   "id": "aa302403",
   "metadata": {},
   "outputs": [
    {
     "data": {
      "text/plain": [
       "0.5258418167580267"
      ]
     },
     "execution_count": 29,
     "metadata": {},
     "output_type": "execute_result"
    }
   ],
   "source": [
    "2686/5108"
   ]
  },
  {
   "cell_type": "code",
   "execution_count": 30,
   "id": "5bd8039b",
   "metadata": {},
   "outputs": [
    {
     "data": {
      "text/plain": [
       "0.536127744510978"
      ]
     },
     "execution_count": 30,
     "metadata": {},
     "output_type": "execute_result"
    }
   ],
   "source": [
    "female_and_default = crosstab_gender_2[1]['female'] # 2686\n",
    "total_female = crosstab_gender_2.iloc[0].sum() # 5101b\n",
    "\n",
    "p_default_given_female = female_and_default/total_female\n",
    "p_default_given_female"
   ]
  },
  {
   "cell_type": "code",
   "execution_count": 31,
   "id": "0e739825",
   "metadata": {},
   "outputs": [
    {
     "data": {
      "text/plain": [
       "5010"
      ]
     },
     "execution_count": 31,
     "metadata": {},
     "output_type": "execute_result"
    }
   ],
   "source": [
    "crosstab_gender_2.iloc[0].sum() # Compute sum of female regardless default or not"
   ]
  },
  {
   "cell_type": "code",
   "execution_count": 32,
   "id": "47170925",
   "metadata": {},
   "outputs": [],
   "source": [
    "female_and_default = crosstab_gender_2[1]['female'] # compute number od female who default"
   ]
  },
  {
   "cell_type": "code",
   "execution_count": 33,
   "id": "88aade46",
   "metadata": {},
   "outputs": [
    {
     "data": {
      "text/plain": [
       "2686"
      ]
     },
     "execution_count": 33,
     "metadata": {},
     "output_type": "execute_result"
    }
   ],
   "source": [
    "female_and_default"
   ]
  },
  {
   "cell_type": "markdown",
   "id": "15d4e2fd",
   "metadata": {},
   "source": [
    "**3. What is the odds ratio of default between female and male debtors?**"
   ]
  },
  {
   "cell_type": "code",
   "execution_count": 65,
   "id": "40d1fcec",
   "metadata": {},
   "outputs": [
    {
     "data": {
      "text/html": [
       "<div>\n",
       "<style scoped>\n",
       "    .dataframe tbody tr th:only-of-type {\n",
       "        vertical-align: middle;\n",
       "    }\n",
       "\n",
       "    .dataframe tbody tr th {\n",
       "        vertical-align: top;\n",
       "    }\n",
       "\n",
       "    .dataframe thead th {\n",
       "        text-align: right;\n",
       "    }\n",
       "</style>\n",
       "<table border=\"1\" class=\"dataframe\">\n",
       "  <thead>\n",
       "    <tr style=\"text-align: right;\">\n",
       "      <th>DEFAULT</th>\n",
       "      <th>0</th>\n",
       "      <th>1</th>\n",
       "    </tr>\n",
       "    <tr>\n",
       "      <th>GENDER</th>\n",
       "      <th></th>\n",
       "      <th></th>\n",
       "    </tr>\n",
       "  </thead>\n",
       "  <tbody>\n",
       "    <tr>\n",
       "      <th>female</th>\n",
       "      <td>2324</td>\n",
       "      <td>2686</td>\n",
       "    </tr>\n",
       "    <tr>\n",
       "      <th>male</th>\n",
       "      <td>2568</td>\n",
       "      <td>2422</td>\n",
       "    </tr>\n",
       "  </tbody>\n",
       "</table>\n",
       "</div>"
      ],
      "text/plain": [
       "DEFAULT     0     1\n",
       "GENDER             \n",
       "female   2324  2686\n",
       "male     2568  2422"
      ]
     },
     "execution_count": 65,
     "metadata": {},
     "output_type": "execute_result"
    }
   ],
   "source": [
    "# Display the contingency table\n",
    "crosstab_gender"
   ]
  },
  {
   "cell_type": "code",
   "execution_count": 69,
   "id": "c76f2a1b",
   "metadata": {},
   "outputs": [],
   "source": []
  },
  {
   "cell_type": "code",
   "execution_count": 70,
   "id": "01958717",
   "metadata": {},
   "outputs": [],
   "source": [
    "WOE_female = math.log(relative_risk/relative_risk_male)"
   ]
  },
  {
   "cell_type": "code",
   "execution_count": 71,
   "id": "8921a30b",
   "metadata": {},
   "outputs": [
    {
     "data": {
      "text/plain": [
       "0.20329699980819546"
      ]
     },
     "execution_count": 71,
     "metadata": {},
     "output_type": "execute_result"
    }
   ],
   "source": [
    "WOE_female"
   ]
  },
  {
   "cell_type": "code",
   "execution_count": 35,
   "id": "60e1af6c",
   "metadata": {},
   "outputs": [],
   "source": [
    "# Define number sample in group\n",
    "female_and_default = crosstab_gender[1]['female']\n",
    "female_and_non_default = crosstab_gender[0]['female']\n",
    "\n",
    "# Calculate odds of female (odds of default female)\n",
    "odds_female = female_and_default/female_and_non_default"
   ]
  },
  {
   "cell_type": "code",
   "execution_count": 36,
   "id": "69d33ad7",
   "metadata": {},
   "outputs": [
    {
     "name": "stdout",
     "output_type": "stream",
     "text": [
      "Odds female is 1.16.\n"
     ]
    }
   ],
   "source": [
    "print(f\"Odds female is {odds_female:.2f}.\")"
   ]
  },
  {
   "cell_type": "code",
   "execution_count": 37,
   "id": "856e277d",
   "metadata": {},
   "outputs": [],
   "source": [
    "# Define number sample in group\n",
    "male_and_default = crosstab_gender[1]['male']\n",
    "male_and_non_default = crosstab_gender[0]['male']\n",
    "\n",
    "# Calculate odds of female (odds of default female)\n",
    "odds_male = male_and_default/male_and_non_default"
   ]
  },
  {
   "cell_type": "code",
   "execution_count": 38,
   "id": "1c167c8f",
   "metadata": {},
   "outputs": [
    {
     "name": "stdout",
     "output_type": "stream",
     "text": [
      "Odds male is 0.94.\n"
     ]
    }
   ],
   "source": [
    "print(f\"Odds male is {odds_male:.2f}.\")"
   ]
  },
  {
   "cell_type": "code",
   "execution_count": 39,
   "id": "8eccc813",
   "metadata": {},
   "outputs": [],
   "source": [
    "# Calculate odds ratio between female and male\n",
    "odds_ratio = odds_female/ odds_male"
   ]
  },
  {
   "cell_type": "code",
   "execution_count": 40,
   "id": "2a089c28",
   "metadata": {},
   "outputs": [
    {
     "name": "stdout",
     "output_type": "stream",
     "text": [
      "Odds ratio between female and male is 1.23.\n"
     ]
    }
   ],
   "source": [
    "print(f\"Odds ratio between female and male is {odds_ratio:.2f}.\")"
   ]
  },
  {
   "cell_type": "markdown",
   "id": "0536255c",
   "metadata": {},
   "source": [
    "**What Does it mean ?**\n",
    "- Female odds higher than male odds\n",
    "- Female odds greater that 1 so female is more likely to default\n",
    "- Female debtors is more likely to default than male based on odds ratio greater than 1"
   ]
  },
  {
   "cell_type": "markdown",
   "id": "02f7077f",
   "metadata": {},
   "source": [
    "**4. What is the relative risk of default for female?**"
   ]
  },
  {
   "cell_type": "code",
   "execution_count": 41,
   "id": "26bf305f",
   "metadata": {},
   "outputs": [
    {
     "data": {
      "text/html": [
       "<div>\n",
       "<style scoped>\n",
       "    .dataframe tbody tr th:only-of-type {\n",
       "        vertical-align: middle;\n",
       "    }\n",
       "\n",
       "    .dataframe tbody tr th {\n",
       "        vertical-align: top;\n",
       "    }\n",
       "\n",
       "    .dataframe thead th {\n",
       "        text-align: right;\n",
       "    }\n",
       "</style>\n",
       "<table border=\"1\" class=\"dataframe\">\n",
       "  <thead>\n",
       "    <tr style=\"text-align: right;\">\n",
       "      <th>DEFAULT</th>\n",
       "      <th>0</th>\n",
       "      <th>1</th>\n",
       "    </tr>\n",
       "    <tr>\n",
       "      <th>GENDER</th>\n",
       "      <th></th>\n",
       "      <th></th>\n",
       "    </tr>\n",
       "  </thead>\n",
       "  <tbody>\n",
       "    <tr>\n",
       "      <th>female</th>\n",
       "      <td>2324</td>\n",
       "      <td>2686</td>\n",
       "    </tr>\n",
       "    <tr>\n",
       "      <th>male</th>\n",
       "      <td>2568</td>\n",
       "      <td>2422</td>\n",
       "    </tr>\n",
       "  </tbody>\n",
       "</table>\n",
       "</div>"
      ],
      "text/plain": [
       "DEFAULT     0     1\n",
       "GENDER             \n",
       "female   2324  2686\n",
       "male     2568  2422"
      ]
     },
     "execution_count": 41,
     "metadata": {},
     "output_type": "execute_result"
    }
   ],
   "source": [
    "# Display the contingency table\n",
    "crosstab_gender"
   ]
  },
  {
   "cell_type": "code",
   "execution_count": 42,
   "id": "3c948303",
   "metadata": {},
   "outputs": [],
   "source": [
    "# Calculate the total probability female and male who default\n",
    "total_default_male_female = crosstab_gender[1]['female'] + crosstab_gender[1]['male']"
   ]
  },
  {
   "cell_type": "code",
   "execution_count": 43,
   "id": "4ba1286f",
   "metadata": {},
   "outputs": [
    {
     "data": {
      "text/plain": [
       "5108"
      ]
     },
     "execution_count": 43,
     "metadata": {},
     "output_type": "execute_result"
    }
   ],
   "source": [
    "total_default_male_female"
   ]
  },
  {
   "cell_type": "code",
   "execution_count": 44,
   "id": "3cb81dbc",
   "metadata": {},
   "outputs": [
    {
     "data": {
      "text/plain": [
       "2686"
      ]
     },
     "execution_count": 44,
     "metadata": {},
     "output_type": "execute_result"
    }
   ],
   "source": [
    "# Calculate the conditional probability female given default\n",
    "# first calculate probability female who default\n",
    "crosstab_gender[1]['female']"
   ]
  },
  {
   "cell_type": "code",
   "execution_count": 45,
   "id": "16de19d5",
   "metadata": {},
   "outputs": [
    {
     "data": {
      "text/plain": [
       "2422"
      ]
     },
     "execution_count": 45,
     "metadata": {},
     "output_type": "execute_result"
    }
   ],
   "source": [
    "#  calculate probability male who default\n",
    "crosstab_gender[1]['male']"
   ]
  },
  {
   "cell_type": "code",
   "execution_count": 46,
   "id": "efc44beb",
   "metadata": {},
   "outputs": [
    {
     "name": "stdout",
     "output_type": "stream",
     "text": [
      "Conditional probability of female given default = 0.53.\n"
     ]
    }
   ],
   "source": [
    "# Calculate the conditional probability female given default\n",
    "p_female_given_default = crosstab_gender[1]['female']/total_default_male_female\n",
    "print(f\"Conditional probability of female given default = {p_female_given_default:.2f}.\")"
   ]
  },
  {
   "cell_type": "code",
   "execution_count": 47,
   "id": "753130d9",
   "metadata": {},
   "outputs": [
    {
     "data": {
      "text/plain": [
       "4892"
      ]
     },
     "execution_count": 47,
     "metadata": {},
     "output_type": "execute_result"
    }
   ],
   "source": [
    "#  calculate probability female who is no default\n",
    "crosstab_gender[0]['female']\n",
    "crosstab_gender[0]['male']\n",
    "total_no_default_male_female =crosstab_gender[0]['female']+ crosstab_gender[0]['male']\n",
    "total_no_default_male_female"
   ]
  },
  {
   "cell_type": "code",
   "execution_count": 48,
   "id": "5302acda",
   "metadata": {},
   "outputs": [
    {
     "name": "stdout",
     "output_type": "stream",
     "text": [
      "Conditional probability of female given no default = 0.48.\n"
     ]
    }
   ],
   "source": [
    "p_female_given_no_default = crosstab_gender[0]['female'] /total_no_default_male_female\n",
    "print(f\"Conditional probability of female given no default = {p_female_given_no_default:.2f}.\")"
   ]
  },
  {
   "cell_type": "code",
   "execution_count": 49,
   "id": "79031d0d",
   "metadata": {},
   "outputs": [
    {
     "name": "stdout",
     "output_type": "stream",
     "text": [
      "relative_risk_female_default = 1.11.\n"
     ]
    }
   ],
   "source": [
    "# Calculate Relative Risk Default for female\n",
    "relative_risk = p_female_given_default / p_female_given_no_default\n",
    "print(f\"relative_risk_female_default = {relative_risk:.2f}.\")"
   ]
  },
  {
   "cell_type": "markdown",
   "id": "7da934a9",
   "metadata": {},
   "source": [
    "- Relative risk greater than 1\n",
    "- so for female debtors, it is likely to default than no default"
   ]
  },
  {
   "cell_type": "markdown",
   "id": "68421a79",
   "metadata": {},
   "source": [
    "**4. What is the relative risk of default for male?**"
   ]
  },
  {
   "cell_type": "code",
   "execution_count": 50,
   "id": "defb12ca",
   "metadata": {},
   "outputs": [
    {
     "data": {
      "text/html": [
       "<div>\n",
       "<style scoped>\n",
       "    .dataframe tbody tr th:only-of-type {\n",
       "        vertical-align: middle;\n",
       "    }\n",
       "\n",
       "    .dataframe tbody tr th {\n",
       "        vertical-align: top;\n",
       "    }\n",
       "\n",
       "    .dataframe thead th {\n",
       "        text-align: right;\n",
       "    }\n",
       "</style>\n",
       "<table border=\"1\" class=\"dataframe\">\n",
       "  <thead>\n",
       "    <tr style=\"text-align: right;\">\n",
       "      <th>DEFAULT</th>\n",
       "      <th>0</th>\n",
       "      <th>1</th>\n",
       "    </tr>\n",
       "    <tr>\n",
       "      <th>GENDER</th>\n",
       "      <th></th>\n",
       "      <th></th>\n",
       "    </tr>\n",
       "  </thead>\n",
       "  <tbody>\n",
       "    <tr>\n",
       "      <th>female</th>\n",
       "      <td>2324</td>\n",
       "      <td>2686</td>\n",
       "    </tr>\n",
       "    <tr>\n",
       "      <th>male</th>\n",
       "      <td>2568</td>\n",
       "      <td>2422</td>\n",
       "    </tr>\n",
       "  </tbody>\n",
       "</table>\n",
       "</div>"
      ],
      "text/plain": [
       "DEFAULT     0     1\n",
       "GENDER             \n",
       "female   2324  2686\n",
       "male     2568  2422"
      ]
     },
     "execution_count": 50,
     "metadata": {},
     "output_type": "execute_result"
    }
   ],
   "source": [
    "# Display the contingency table\n",
    "crosstab_gender"
   ]
  },
  {
   "cell_type": "code",
   "execution_count": 51,
   "id": "fd946545",
   "metadata": {},
   "outputs": [
    {
     "name": "stdout",
     "output_type": "stream",
     "text": [
      "Conditional probability of male given default = 0.47.\n",
      "Conditional probability of male given non default = 0.52.\n"
     ]
    }
   ],
   "source": [
    "# Calculate the conditional probability\n",
    "p_male_given_default = 2422/(2686 + 2422)\n",
    "p_male_given_non_default = 2568/(2324 + 2568)\n",
    "\n",
    "print(f\"Conditional probability of male given default = {p_male_given_default:.2f}.\")\n",
    "print(f\"Conditional probability of male given non default = {p_male_given_non_default:.2f}.\")"
   ]
  },
  {
   "cell_type": "code",
   "execution_count": 52,
   "id": "b746f1f0",
   "metadata": {},
   "outputs": [],
   "source": [
    "# Calculate the total probability female and male who default\n",
    "total_default_male_female = crosstab_gender[1]['female'] + crosstab_gender[1]['male']"
   ]
  },
  {
   "cell_type": "code",
   "execution_count": 53,
   "id": "3681151b",
   "metadata": {},
   "outputs": [
    {
     "data": {
      "text/plain": [
       "2422"
      ]
     },
     "execution_count": 53,
     "metadata": {},
     "output_type": "execute_result"
    }
   ],
   "source": [
    "# Calculate the conditional probability male given default\n",
    "# first calculate probability male who default\n",
    "crosstab_gender[1]['male']"
   ]
  },
  {
   "cell_type": "code",
   "execution_count": 54,
   "id": "9e61cd63",
   "metadata": {},
   "outputs": [
    {
     "name": "stdout",
     "output_type": "stream",
     "text": [
      "Conditional probability of male given default = 0.47.\n"
     ]
    }
   ],
   "source": [
    "# Calculate the conditional probability female given default\n",
    "p_male_given_default = crosstab_gender[1]['male']/total_default_male_female\n",
    "print(f\"Conditional probability of male given default = {p_male_given_default:.2f}.\")"
   ]
  },
  {
   "cell_type": "code",
   "execution_count": 55,
   "id": "836a1e1e",
   "metadata": {},
   "outputs": [
    {
     "data": {
      "text/plain": [
       "4892"
      ]
     },
     "execution_count": 55,
     "metadata": {},
     "output_type": "execute_result"
    }
   ],
   "source": [
    "#  calculate probability female who is no default\n",
    "crosstab_gender[0]['female']\n",
    "crosstab_gender[0]['male']\n",
    "total_no_default_male_female =crosstab_gender[0]['female']+ crosstab_gender[0]['male']\n",
    "total_no_default_male_female"
   ]
  },
  {
   "cell_type": "code",
   "execution_count": 56,
   "id": "26d37228",
   "metadata": {},
   "outputs": [
    {
     "name": "stdout",
     "output_type": "stream",
     "text": [
      "Conditional probability of female given no default = 0.48.\n"
     ]
    }
   ],
   "source": [
    "p_male_given_no_default = crosstab_gender[0]['male'] /total_no_default_male_female\n",
    "print(f\"Conditional probability of female given no default = {p_female_given_no_default:.2f}.\")"
   ]
  },
  {
   "cell_type": "code",
   "execution_count": 57,
   "id": "0a68c47c",
   "metadata": {},
   "outputs": [
    {
     "name": "stdout",
     "output_type": "stream",
     "text": [
      "relative_risk_male_default = 0.90.\n"
     ]
    }
   ],
   "source": [
    "# Calculate Relative Risk Default for male\n",
    "relative_risk_male = p_male_given_default / p_male_given_no_default\n",
    "print(f\"relative_risk_male_default = {relative_risk_male :.2f}.\")"
   ]
  },
  {
   "cell_type": "markdown",
   "id": "a7cfc7e0",
   "metadata": {},
   "source": [
    "- Relative risk less than 1\n",
    "- so for male debtors, the default risk is lower"
   ]
  },
  {
   "cell_type": "markdown",
   "id": "5298795e",
   "metadata": {},
   "source": [
    "## **2. Test of Independence**\n"
   ]
  },
  {
   "cell_type": "markdown",
   "id": "58220bee",
   "metadata": {},
   "source": [
    "- You need a contingency_table from `pd.crosstab()` to run the test.\n",
    "- Run the Chi-sq test of independence:\n",
    "\n",
    "```python\n",
    "stats.chi2_contingency(contingency_table)\n",
    "```\n",
    "\n",
    "- The output from the test returns:\n",
    "  - `statistic` : the test statistic.\n",
    "  - `pvalue` : the p-value of the test.\n",
    "  - `dof` : the degrees of freedom $(I-1) \\times (J-1)$\n",
    "  - `expected_freq`: the expected frequency for each cell in contingency table.\n",
    "  $$\n",
    "  \\mu _{ij}=\\frac{(n_{i+})(n_{+j})}{n}\n",
    "  $$"
   ]
  },
  {
   "cell_type": "markdown",
   "id": "505435cc",
   "metadata": {},
   "source": [
    "---\n",
    "**1. Is the probability of default dependent on gender?**"
   ]
  },
  {
   "cell_type": "markdown",
   "id": "36fca1ee",
   "metadata": {},
   "source": [
    "State the hypotheses:\n",
    "- **Null Hypothesis:**\n",
    "  - The probability of default is independent of gender.\n",
    "- **Alternative Hypothesis:**\n",
    "  - The probability of default is not independent of gender.\n",
    "\n",
    "- **Rejection Region:**\n",
    "\n",
    "$$\n",
    "\\begin{align*}\n",
    "\\chi^{2} &> \\chi^{2}_{\\alpha} \\\\\n",
    "&\\text{or} \\\\\n",
    "P_{\\text{value}} &< \\alpha\n",
    "\\end{align*}\n",
    "$$"
   ]
  },
  {
   "cell_type": "code",
   "execution_count": 58,
   "id": "7cbe09fc",
   "metadata": {},
   "outputs": [],
   "source": [
    "# Load package\n",
    "import scipy.stats as stats\n",
    "from scipy.stats import chi2_contingency"
   ]
  },
  {
   "cell_type": "code",
   "execution_count": 59,
   "id": "61e207e3",
   "metadata": {},
   "outputs": [
    {
     "data": {
      "text/plain": [
       "Chi2ContingencyResult(statistic=25.57193334363074, pvalue=4.2619373946694464e-07, dof=1, expected_freq=array([[2450.892, 2559.108],\n",
       "       [2441.108, 2548.892]]))"
      ]
     },
     "execution_count": 59,
     "metadata": {},
     "output_type": "execute_result"
    }
   ],
   "source": [
    "# Test whether probability of DEFAULT is independent of GENDER\n",
    "stats.chi2_contingency(crosstab_gender)"
   ]
  },
  {
   "cell_type": "code",
   "execution_count": 60,
   "id": "dff7668b",
   "metadata": {},
   "outputs": [
    {
     "name": "stdout",
     "output_type": "stream",
     "text": [
      "Chi Square   : 25.5719\n",
      "p-value  : 0.0000\n"
     ]
    }
   ],
   "source": [
    "# Result of independence test\n",
    "result = stats.chi2_contingency(crosstab_gender)\n",
    "\n",
    "# Extract the test result\n",
    "stat = result[0]\n",
    "pval = result[1]\n",
    "\n",
    "print(f\"Chi Square   : {stat:.4f}\")\n",
    "print(f\"p-value  : {pval:.4f}\")"
   ]
  },
  {
   "cell_type": "markdown",
   "id": "884bc3e6",
   "metadata": {},
   "source": [
    "Yes, with $\\alpha=0.05$, the probability of default is dependent on gender.\n",
    "  - Since P-value=0.00 < $\\alpha$, we reject the null hypothesis at $\\alpha=0.05$."
   ]
  },
  {
   "cell_type": "markdown",
   "id": "028a1fa3",
   "metadata": {},
   "source": [
    "**2. Is the probability of default dependent on postal code?**"
   ]
  },
  {
   "cell_type": "markdown",
   "id": "a9f6a778",
   "metadata": {},
   "source": [
    "State the hypotheses:\n",
    "- **Null Hypothesis:**\n",
    "  - The probability of default is independent of postal code.\n",
    "- **Alternative Hypothesis:**\n",
    "  - The probability of default is not independent of postal code."
   ]
  },
  {
   "cell_type": "code",
   "execution_count": 61,
   "id": "367d9142",
   "metadata": {},
   "outputs": [],
   "source": [
    "crosstab_postal = pd.crosstab(\n",
    "            data1['POSTAL_CODE'],\n",
    "            data1['DEFAULT'],\n",
    "            margins = False\n",
    "\n",
    ")"
   ]
  },
  {
   "cell_type": "code",
   "execution_count": 62,
   "id": "75559de3",
   "metadata": {},
   "outputs": [
    {
     "data": {
      "text/html": [
       "<div>\n",
       "<style scoped>\n",
       "    .dataframe tbody tr th:only-of-type {\n",
       "        vertical-align: middle;\n",
       "    }\n",
       "\n",
       "    .dataframe tbody tr th {\n",
       "        vertical-align: top;\n",
       "    }\n",
       "\n",
       "    .dataframe thead th {\n",
       "        text-align: right;\n",
       "    }\n",
       "</style>\n",
       "<table border=\"1\" class=\"dataframe\">\n",
       "  <thead>\n",
       "    <tr style=\"text-align: right;\">\n",
       "      <th>DEFAULT</th>\n",
       "      <th>0</th>\n",
       "      <th>1</th>\n",
       "    </tr>\n",
       "    <tr>\n",
       "      <th>POSTAL_CODE</th>\n",
       "      <th></th>\n",
       "      <th></th>\n",
       "    </tr>\n",
       "  </thead>\n",
       "  <tbody>\n",
       "    <tr>\n",
       "      <th>10238</th>\n",
       "      <td>3416</td>\n",
       "      <td>3524</td>\n",
       "    </tr>\n",
       "    <tr>\n",
       "      <th>21217</th>\n",
       "      <td>50</td>\n",
       "      <td>70</td>\n",
       "    </tr>\n",
       "    <tr>\n",
       "      <th>32765</th>\n",
       "      <td>1194</td>\n",
       "      <td>1262</td>\n",
       "    </tr>\n",
       "    <tr>\n",
       "      <th>92101</th>\n",
       "      <td>232</td>\n",
       "      <td>252</td>\n",
       "    </tr>\n",
       "  </tbody>\n",
       "</table>\n",
       "</div>"
      ],
      "text/plain": [
       "DEFAULT         0     1\n",
       "POSTAL_CODE            \n",
       "10238        3416  3524\n",
       "21217          50    70\n",
       "32765        1194  1262\n",
       "92101         232   252"
      ]
     },
     "execution_count": 62,
     "metadata": {},
     "output_type": "execute_result"
    }
   ],
   "source": [
    "crosstab_postal"
   ]
  },
  {
   "cell_type": "code",
   "execution_count": 63,
   "id": "7f4e6cea",
   "metadata": {},
   "outputs": [
    {
     "data": {
      "text/plain": [
       "Chi2ContingencyResult(statistic=3.0590346365281826, pvalue=0.3826124539284613, dof=3, expected_freq=array([[3395.048 , 3544.952 ],\n",
       "       [  58.704 ,   61.296 ],\n",
       "       [1201.4752, 1254.5248],\n",
       "       [ 236.7728,  247.2272]]))"
      ]
     },
     "execution_count": 63,
     "metadata": {},
     "output_type": "execute_result"
    }
   ],
   "source": [
    "# Test whether probability of DEFAULT is independent of POSTAL\n",
    "stats.chi2_contingency(crosstab_postal)"
   ]
  },
  {
   "cell_type": "code",
   "execution_count": 64,
   "id": "9e19f109",
   "metadata": {},
   "outputs": [
    {
     "name": "stdout",
     "output_type": "stream",
     "text": [
      "Chi Square   : 3.0590\n",
      "p-value  : 0.3826\n"
     ]
    }
   ],
   "source": [
    "# Result of independence test\n",
    "result = stats.chi2_contingency(crosstab_postal)\n",
    "\n",
    "# Extract the test result\n",
    "stat = result[0]\n",
    "pval = result[1]\n",
    "\n",
    "print(f\"Chi Square   : {stat:.4f}\")\n",
    "print(f\"p-value  : {pval:.4f}\")"
   ]
  },
  {
   "cell_type": "markdown",
   "id": "df591376",
   "metadata": {},
   "source": [
    "Yes, with $\\alpha=0.05$, the probability of default is **independent** on postal code.\n",
    "  - Since P-value=0.3826 > $\\alpha$, we fail reject the null hypothesis at $\\alpha=0.05$."
   ]
  }
 ],
 "metadata": {
  "kernelspec": {
   "display_name": "dss_mice",
   "language": "python",
   "name": "dss_mice"
  },
  "language_info": {
   "codemirror_mode": {
    "name": "ipython",
    "version": 3
   },
   "file_extension": ".py",
   "mimetype": "text/x-python",
   "name": "python",
   "nbconvert_exporter": "python",
   "pygments_lexer": "ipython3",
   "version": "3.10.9"
  }
 },
 "nbformat": 4,
 "nbformat_minor": 5
}
