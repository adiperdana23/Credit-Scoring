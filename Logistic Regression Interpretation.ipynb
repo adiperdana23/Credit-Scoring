{
 "cells": [
  {
   "cell_type": "markdown",
   "id": "8ddff3ca",
   "metadata": {},
   "source": [
    "## **1. Categorical Predictor**"
   ]
  },
  {
   "cell_type": "markdown",
   "id": "e9e69b50",
   "metadata": {},
   "source": [
    "### **1.1. Binary Predictor**"
   ]
  },
  {
   "cell_type": "markdown",
   "id": "47c7678e",
   "metadata": {},
   "source": [
    "- Predictor $(X)$ : independent variable, explanatory variable, feature.\n",
    "- Binary predictor : categorical predictor with only 2 categories.\n",
    "- Reference cell coding (\"zero-one\" coding)\n",
    "  - Assigns the zero value to the lower code for $x$ as a reference, and one to the higher code.\n",
    "  - $x=0$ as the reference.\n",
    "- **Interpretation**:\n",
    "\n",
    "> The estimate of the odds ratio between category 1 and category 0 is $\\text{OR}=\\exp(\\beta_{1})$.\n"
   ]
  },
  {
   "cell_type": "markdown",
   "id": "04bf4621",
   "metadata": {},
   "source": [
    "### **1.2. Multicategory Predictor**"
   ]
  },
  {
   "cell_type": "markdown",
   "id": "73df9b79",
   "metadata": {},
   "source": [
    "- Multicategory predictor : categorical predictor with more than 2 categories.\n",
    "- Reference cell coding:\n",
    "  - Assigns the zero value as the reference category for $x$ and use indicator/dummy variables for others.\n",
    "  - Thus, a predictor with $c$ categories will have one reference category and $c-1$ indicator/dummy variables.\n",
    "- For example, the original label/code for predictor Color $(c)$ with 4 categories:\n",
    "\n",
    "<center>\n",
    "\n",
    "|Color $(x)$|Code|\n",
    "|:--:|:--:|\n",
    "|Medium Light|1|\n",
    "|Medium|2|\n",
    "|Medium Dark|3|\n",
    "|Dark|4|\n",
    "\n",
    "</center>\n",
    "\n",
    "- With reference cell coding, predictor Color become 3 indicator/dummy variable. Color **Dark as reference**:\n",
    "\n",
    "<center>\n",
    "\n",
    "|Color|$c_{1}$|$c_{2}$|$c_{3}$|\n",
    "|:--:|:--:|:--:|:--:|\n",
    "|Medium Light|1|0|0|\n",
    "|Medium|0|1|0|\n",
    "|Medium Dark|0|0|1|\n",
    "|Dark|0|0|0|\n",
    "\n",
    "</center>\n",
    "\n",
    "- Thus, the logit model becomes:\n",
    "\n",
    "$$\n",
    "\\text{log(odds)} = \\beta_{0}+\\beta_{1}c_{1}+\\beta_{2}c_{2}+\\beta_{3}c_{3}\n",
    "$$\n",
    "\n",
    "- With reference cell coding,\n",
    "  - $c_{1}=1$ for color = medium light, $0$ otherwise\n",
    "  - $c_{2}=1$ for color = medium, $0$ otherwise\n",
    "  - $c_{3}=1$ for color = medium dark, $0$ otherwise\n",
    "  - Color is dark when $c_{1}=c_{2}=c_{3}=0$\n",
    "\n",
    "- **Interpretation**:\n",
    "> The estimate of the odds ratio between category $k$ and reference category is $\\text{OR}(k,\\text{reference})=\\exp(\\beta_{k})$, with $k=1,2,\\dots,c$.\n",
    "\n",
    "- In general, to interpret the odds ratio between two category:\n",
    "  1. Calculate the logit difference.\n",
    "  2. Interpret in terms of the odds ratio.\n",
    "- Thus, the odds ratio between two category, say category $a$ and $b$ is $\\text{OR}(a,b)=\\exp(\\beta_{a}-\\beta_{b})$\n",
    "\n",
    "- **Interpretation**:\n",
    "> The odds of success at $x$ = category $a$  equals $\\exp(\\beta_{a}-\\beta_{b})$ times the odds of success at $x$ = category $b$.\n"
   ]
  },
  {
   "cell_type": "markdown",
   "id": "737730c5",
   "metadata": {},
   "source": [
    "### **1.3. Ordinal Predictor**\n",
    "---"
   ]
  },
  {
   "cell_type": "markdown",
   "id": "a8e4d22f",
   "metadata": {},
   "source": [
    "- Ordinal predictor : predictor with ordered scale categories, e.g: low, medium, high.\n",
    "- Ordinal predictors treated in a quantitative manner (continuous scale).\n",
    "- Thus the code:\n",
    "  - $x=1$ --> low\n",
    "  - $x=2$ --> medium\n",
    "  - $x=3$ --> high"
   ]
  },
  {
   "cell_type": "markdown",
   "id": "5746c3dc",
   "metadata": {},
   "source": [
    "## **2. Continuous Predictor**"
   ]
  },
  {
   "cell_type": "markdown",
   "id": "09e384a0",
   "metadata": {},
   "source": [
    "### **2.1. The Intercept**"
   ]
  },
  {
   "cell_type": "markdown",
   "id": "7be90884",
   "metadata": {},
   "source": [
    "- Intercept value is the logit value when $x=0$.\n",
    "$$\n",
    "\\begin{align*}\n",
    "\\text{logit}(\\pi(x)) &= \\beta_{0}+\\beta_{1}(x) \\\\\n",
    "\\text{logit}(\\pi(0)) &= \\beta_{0}+\\beta_{1}(0) \\\\\n",
    "\\text{logit}(\\pi(0)) &= \\beta_{0} \\\\\n",
    "\\end{align*}\n",
    "$$\n",
    "<br>\n",
    "- For example, the logit model from the horseshoe crab data:\n",
    "$$\n",
    "\\begin{align*}\n",
    "\\text{logit(Width=0)} &= -12.3508 + 0.4972 (0) \\\\\n",
    "\\text{logit(Width=0)} &= -12.3508\n",
    "\\end{align*}\n",
    "$$\n",
    "  - Interpretation: the estimated odds of a crab having any satellite is $\\exp(-12.3508)$ when its width is 0 cm.\n",
    "  - \"Zero width\" crab sounds non reasonable.\n",
    "  - Intercept is not meaningful and difficult to interpret.\n",
    "- To make it interpretable, we can transform predictor $x$ by centering its value.\n",
    "  - `c_width = width - np.mean(width)`\n",
    "  - Thus, `c_width = 0` represents the mean value of width.\n",
    "  - In general, zero value for the centered predictor represents the average value of the predictor."
   ]
  },
  {
   "cell_type": "markdown",
   "id": "942b769b",
   "metadata": {},
   "source": [
    "### **2.2. The Effect of Continuous Predictor**"
   ]
  },
  {
   "cell_type": "markdown",
   "id": "7bd0d08c",
   "metadata": {},
   "source": [
    "- Under the assumption that the logit is linear in the continuous predictor $x$, the equation for the logit is:\n",
    "\n",
    "$$\n",
    "\\text{logit}(\\pi(x)) = \\beta_{0}+\\beta_{1}(x)\n",
    "$$\n",
    "<br>\n",
    "- Slope coefficient, $\\beta_{1}$, gives the change in the log odds for an increase of 1 unit in $x$.\n",
    "- Thus, the odds of success multiply by $\\exp(\\beta_{1})$ for every 1 unit increase in $x$.\n",
    "  - But if $x$ in range [0,1], then a change of 1 is too large. Change of 0.01 may be more realistic.\n",
    "  - In another case, a 1 ml increase in coffee consumption may be too small to be considered important.\n",
    "Change of 50 or 100 ml may be more realistic.\n",
    "  - **Solution : use the term “$c$” for the change of $x$.**\n",
    "- The interpretation for $c$ unit change in $x$:\n",
    "> The odds of success multiply by $\\exp(c\\times\\beta_{1})$ for every $c$ unit increase in $x$."
   ]
  },
  {
   "cell_type": "markdown",
   "id": "dc2ef457",
   "metadata": {},
   "source": [
    "## **3. Multiple Predictors**"
   ]
  },
  {
   "cell_type": "markdown",
   "id": "676b0735",
   "metadata": {},
   "source": [
    "- Denote the $k$ predictors for a binary response $Y$ by $X = x_{1}, x_{2}, \\dots, x_{k}$. The model for the log odds is:\n",
    "$$\n",
    "\\text{logit}(\\pi(X)) = \\beta_{0} + \\beta_{1}x_{1} + \\beta_{2}x_{2} + \\dots + \\beta_{k}x_{k}\n",
    "$$\n",
    "<br>\n",
    "- The parameter $\\beta_{j}$ refers to the effect of $x_{j}$ on the log odds that $Y = 1$, controlling the other $x$.\n",
    "- Interpretation:\n",
    "\n",
    "> The odds of success multiply by $\\exp(\\beta_{j})$ for 1 unit increase in $x_{j}$, at fixed levels of the other $x$."
   ]
  },
  {
   "cell_type": "markdown",
   "id": "558ed294",
   "metadata": {},
   "source": [
    "# **Case: Categorical Predictor**"
   ]
  },
  {
   "cell_type": "markdown",
   "id": "112cb39b",
   "metadata": {},
   "source": [
    "Note:\n",
    "- Ideally, we perform the significance test for each parameter estimate before interpreting the logistic regression model.\n",
    "- We don't perform significance test in this section since we learned how to conduct significance test last week.\n",
    "- Fortunately, all models in this section yield significant parameter estimates (P-value < $\\alpha=0.05$)."
   ]
  },
  {
   "cell_type": "markdown",
   "id": "93a85291",
   "metadata": {},
   "source": [
    "## **Load Data**"
   ]
  },
  {
   "cell_type": "markdown",
   "id": "9068371a",
   "metadata": {},
   "source": [
    "The sample we will use in this example is a fictive dataset from [here](https://www.kaggle.com/datasets/laotse/credit-risk-dataset).\n",
    "\n",
    "The sample consist of some demographic, bureau, and financial information.\n",
    "\n",
    "Note that we are not defining the default or bad status from our dataset here. Instead, we already have the binary response variable:\n",
    "\n",
    "- `loan_status`\n",
    "  - `loan_status = 0` for non default loan.\n",
    "  - `loan_status = 1` for default loan.\n",
    "\n",
    "The potential predictors for predicting the response variable are:\n",
    "\n",
    "1. `person age` : age of the debtor.\n",
    "2. `person_income` : annual income of the debtor.\n",
    "3. `person_home_ownership`\n",
    "  - `RENT`\n",
    "  - `MORTGAGE`\n",
    "  - `OWN`\n",
    "  - `OTHER`\n",
    "4. `person_emp_length` : employment length of debtor (in years).\n",
    "5. `loan_intent` : purpose of the loan.\n",
    "  - `EDUCATION`\n",
    "  - `MEDICAL`\n",
    "  - `VENTURE`\n",
    "  - `PERSONAL`\n",
    "  - `DEBTCONSOLIDATION`\n",
    "6. `loan_grade`\n",
    "7.  `loan_amnt`\t: amount of the loan.\n",
    "8. `loan_int_rate` : interest rate of the loan.\n",
    "10. `loan_percent_income`\t: percent loan of the debtor's income.\n",
    "11. `cb_person_default_on_file`\t: historical default.\n",
    "  - `0` : the debtor does not have any history of defaults.\n",
    "  - `1` : the debtor has a history of defaults on their credit file.\n",
    "12. `cb_preson_cred_hist_length` : length of the credit history."
   ]
  },
  {
   "cell_type": "code",
   "execution_count": 2,
   "id": "9236e05f",
   "metadata": {},
   "outputs": [],
   "source": [
    "import seaborn as sns"
   ]
  },
  {
   "cell_type": "code",
   "execution_count": 1,
   "id": "15079dcc",
   "metadata": {},
   "outputs": [],
   "source": [
    "# Load data manipulation package\n",
    "import numpy as np\n",
    "import pandas as pd\n",
    "\n",
    "# Load data visualization package\n",
    "import matplotlib.pyplot as plt\n",
    "\n",
    "\n",
    "# Load Statistics package\n",
    "import statsmodels.api as sm\n",
    "import statsmodels.formula.api as smf\n",
    "from sklearn.linear_model import LogisticRegression"
   ]
  },
  {
   "cell_type": "code",
   "execution_count": 3,
   "id": "9c990d40",
   "metadata": {},
   "outputs": [
    {
     "data": {
      "text/html": [
       "<div>\n",
       "<style scoped>\n",
       "    .dataframe tbody tr th:only-of-type {\n",
       "        vertical-align: middle;\n",
       "    }\n",
       "\n",
       "    .dataframe tbody tr th {\n",
       "        vertical-align: top;\n",
       "    }\n",
       "\n",
       "    .dataframe thead th {\n",
       "        text-align: right;\n",
       "    }\n",
       "</style>\n",
       "<table border=\"1\" class=\"dataframe\">\n",
       "  <thead>\n",
       "    <tr style=\"text-align: right;\">\n",
       "      <th></th>\n",
       "      <th>0</th>\n",
       "      <th>1</th>\n",
       "      <th>2</th>\n",
       "      <th>3</th>\n",
       "      <th>4</th>\n",
       "    </tr>\n",
       "  </thead>\n",
       "  <tbody>\n",
       "    <tr>\n",
       "      <th>person_age</th>\n",
       "      <td>22</td>\n",
       "      <td>21</td>\n",
       "      <td>25</td>\n",
       "      <td>23</td>\n",
       "      <td>24</td>\n",
       "    </tr>\n",
       "    <tr>\n",
       "      <th>person_income</th>\n",
       "      <td>59000</td>\n",
       "      <td>9600</td>\n",
       "      <td>9600</td>\n",
       "      <td>65500</td>\n",
       "      <td>54400</td>\n",
       "    </tr>\n",
       "    <tr>\n",
       "      <th>person_home_ownership</th>\n",
       "      <td>RENT</td>\n",
       "      <td>OWN</td>\n",
       "      <td>MORTGAGE</td>\n",
       "      <td>RENT</td>\n",
       "      <td>RENT</td>\n",
       "    </tr>\n",
       "    <tr>\n",
       "      <th>person_emp_length</th>\n",
       "      <td>123.0</td>\n",
       "      <td>5.0</td>\n",
       "      <td>1.0</td>\n",
       "      <td>4.0</td>\n",
       "      <td>8.0</td>\n",
       "    </tr>\n",
       "    <tr>\n",
       "      <th>loan_intent</th>\n",
       "      <td>PERSONAL</td>\n",
       "      <td>EDUCATION</td>\n",
       "      <td>MEDICAL</td>\n",
       "      <td>MEDICAL</td>\n",
       "      <td>MEDICAL</td>\n",
       "    </tr>\n",
       "    <tr>\n",
       "      <th>loan_grade</th>\n",
       "      <td>D</td>\n",
       "      <td>B</td>\n",
       "      <td>C</td>\n",
       "      <td>C</td>\n",
       "      <td>C</td>\n",
       "    </tr>\n",
       "    <tr>\n",
       "      <th>loan_amnt</th>\n",
       "      <td>35000</td>\n",
       "      <td>1000</td>\n",
       "      <td>5500</td>\n",
       "      <td>35000</td>\n",
       "      <td>35000</td>\n",
       "    </tr>\n",
       "    <tr>\n",
       "      <th>loan_int_rate</th>\n",
       "      <td>16.02</td>\n",
       "      <td>11.14</td>\n",
       "      <td>12.87</td>\n",
       "      <td>15.23</td>\n",
       "      <td>14.27</td>\n",
       "    </tr>\n",
       "    <tr>\n",
       "      <th>loan_status</th>\n",
       "      <td>1</td>\n",
       "      <td>0</td>\n",
       "      <td>1</td>\n",
       "      <td>1</td>\n",
       "      <td>1</td>\n",
       "    </tr>\n",
       "    <tr>\n",
       "      <th>loan_percent_income</th>\n",
       "      <td>0.59</td>\n",
       "      <td>0.1</td>\n",
       "      <td>0.57</td>\n",
       "      <td>0.53</td>\n",
       "      <td>0.55</td>\n",
       "    </tr>\n",
       "    <tr>\n",
       "      <th>cb_person_default_on_file</th>\n",
       "      <td>Y</td>\n",
       "      <td>N</td>\n",
       "      <td>N</td>\n",
       "      <td>N</td>\n",
       "      <td>Y</td>\n",
       "    </tr>\n",
       "    <tr>\n",
       "      <th>cb_person_cred_hist_length</th>\n",
       "      <td>3</td>\n",
       "      <td>2</td>\n",
       "      <td>3</td>\n",
       "      <td>2</td>\n",
       "      <td>4</td>\n",
       "    </tr>\n",
       "  </tbody>\n",
       "</table>\n",
       "</div>"
      ],
      "text/plain": [
       "                                   0          1         2        3        4\n",
       "person_age                        22         21        25       23       24\n",
       "person_income                  59000       9600      9600    65500    54400\n",
       "person_home_ownership           RENT        OWN  MORTGAGE     RENT     RENT\n",
       "person_emp_length              123.0        5.0       1.0      4.0      8.0\n",
       "loan_intent                 PERSONAL  EDUCATION   MEDICAL  MEDICAL  MEDICAL\n",
       "loan_grade                         D          B         C        C        C\n",
       "loan_amnt                      35000       1000      5500    35000    35000\n",
       "loan_int_rate                  16.02      11.14     12.87    15.23    14.27\n",
       "loan_status                        1          0         1        1        1\n",
       "loan_percent_income             0.59        0.1      0.57     0.53     0.55\n",
       "cb_person_default_on_file          Y          N         N        N        Y\n",
       "cb_person_cred_hist_length         3          2         3        2        4"
      ]
     },
     "execution_count": 3,
     "metadata": {},
     "output_type": "execute_result"
    }
   ],
   "source": [
    "# Import dataset from csv file\n",
    "data = pd.read_csv('credit_risk_dataset.csv')\n",
    "\n",
    "# Table check\n",
    "data.head().T"
   ]
  },
  {
   "cell_type": "code",
   "execution_count": 4,
   "id": "cb6dc511",
   "metadata": {},
   "outputs": [
    {
     "data": {
      "text/plain": [
       "(32581, 12)"
      ]
     },
     "execution_count": 4,
     "metadata": {},
     "output_type": "execute_result"
    }
   ],
   "source": [
    "# Check the data shape\n",
    "data.shape"
   ]
  },
  {
   "cell_type": "markdown",
   "id": "5d25b51f",
   "metadata": {},
   "source": [
    "Our sample contains 12 variables from 32,581 credit records.\n",
    "- 1 response variable, `loan_status`,\n",
    "- and 11 potential predictors/characteristics."
   ]
  },
  {
   "cell_type": "markdown",
   "id": "ee5801ff",
   "metadata": {},
   "source": [
    "Before modeling,  split the data first for model validation.\n",
    "\n",
    "In the classification case, check the proportion of response variable first to decide the splitting strategy."
   ]
  },
  {
   "cell_type": "code",
   "execution_count": 5,
   "id": "955b0246",
   "metadata": {},
   "outputs": [
    {
     "data": {
      "text/plain": [
       "0    0.781836\n",
       "1    0.218164\n",
       "Name: loan_status, dtype: float64"
      ]
     },
     "execution_count": 5,
     "metadata": {},
     "output_type": "execute_result"
    }
   ],
   "source": [
    "# Define response variable\n",
    "response_variable = 'loan_status'\n",
    "\n",
    "# Check the proportion of response variable\n",
    "data[response_variable].value_counts(normalize = True)"
   ]
  },
  {
   "cell_type": "markdown",
   "id": "a2ef0131",
   "metadata": {},
   "source": [
    "The proportion of the response variable, `loan status`, is not quite balanced (in a ratio of 78:22).\n",
    "\n",
    "To get the same ratio in training and testing set, define a stratified splitting based on the response variable, `loan_status`."
   ]
  },
  {
   "cell_type": "markdown",
   "id": "a3073b2f",
   "metadata": {},
   "source": [
    "## **Sample Splitting**\n",
    "---"
   ]
  },
  {
   "cell_type": "markdown",
   "id": "140e3b46",
   "metadata": {},
   "source": [
    "First, define the predictors (X) and the response (y)."
   ]
  },
  {
   "cell_type": "code",
   "execution_count": 6,
   "id": "2cdfe4c2",
   "metadata": {},
   "outputs": [
    {
     "name": "stdout",
     "output_type": "stream",
     "text": [
      "y shape : (32581,)\n",
      "X shape : (32581, 11)\n"
     ]
    }
   ],
   "source": [
    "# Split response and predictors\n",
    "y = data[response_variable]\n",
    "X = data.drop(columns = [response_variable],\n",
    "              axis = 1)\n",
    "\n",
    "# Validate the splitting\n",
    "print('y shape :', y.shape)\n",
    "print('X shape :', X.shape)"
   ]
  },
  {
   "cell_type": "markdown",
   "id": "0b8a0bc7",
   "metadata": {},
   "source": [
    "Next, split the training and testing set from each predictors (X) and response (y).\n",
    "- Set `stratify = y` for splitting the sample with stratify, based on the proportion of response y.\n",
    "- Set `test_size = 0.3` for holding 30% of the sample as a testing set.\n",
    "- Set `random_state = 42` for reproducibility."
   ]
  },
  {
   "cell_type": "code",
   "execution_count": 7,
   "id": "46c4bd59",
   "metadata": {},
   "outputs": [
    {
     "name": "stdout",
     "output_type": "stream",
     "text": [
      "X train shape : (22806, 11)\n",
      "y train shape : (22806,)\n",
      "X test shape  : (9775, 11)\n",
      "y test shape  : (9775,)\n"
     ]
    }
   ],
   "source": [
    "from sklearn.model_selection import train_test_split\n",
    "\n",
    "# Split the data\n",
    "X_train, X_test, y_train, y_test = train_test_split(X,\n",
    "                                                    y,\n",
    "                                                    stratify = y,\n",
    "                                                    test_size = 0.3,\n",
    "                                                    random_state = 42)\n",
    "\n",
    "# Validate splitting\n",
    "print('X train shape :', X_train.shape)\n",
    "print('y train shape :', y_train.shape)\n",
    "print('X test shape  :', X_test.shape)\n",
    "print('y test shape  :', y_test.shape)"
   ]
  },
  {
   "cell_type": "markdown",
   "id": "90c2d4e0",
   "metadata": {},
   "source": [
    "Check the proportion of response y in each training and testing set."
   ]
  },
  {
   "cell_type": "code",
   "execution_count": 8,
   "id": "661227ac",
   "metadata": {},
   "outputs": [
    {
     "data": {
      "text/plain": [
       "0    0.781856\n",
       "1    0.218144\n",
       "Name: loan_status, dtype: float64"
      ]
     },
     "execution_count": 8,
     "metadata": {},
     "output_type": "execute_result"
    }
   ],
   "source": [
    "y_train.value_counts(normalize = True)"
   ]
  },
  {
   "cell_type": "code",
   "execution_count": 9,
   "id": "7f84d388",
   "metadata": {},
   "outputs": [
    {
     "data": {
      "text/plain": [
       "0    0.78179\n",
       "1    0.21821\n",
       "Name: loan_status, dtype: float64"
      ]
     },
     "execution_count": 9,
     "metadata": {},
     "output_type": "execute_result"
    }
   ],
   "source": [
    "y_test.value_counts(normalize = True)"
   ]
  },
  {
   "cell_type": "code",
   "execution_count": 10,
   "id": "04715485",
   "metadata": {},
   "outputs": [
    {
     "name": "stdout",
     "output_type": "stream",
     "text": [
      "Train data shape: (22806, 12)\n"
     ]
    },
    {
     "data": {
      "text/html": [
       "<div>\n",
       "<style scoped>\n",
       "    .dataframe tbody tr th:only-of-type {\n",
       "        vertical-align: middle;\n",
       "    }\n",
       "\n",
       "    .dataframe tbody tr th {\n",
       "        vertical-align: top;\n",
       "    }\n",
       "\n",
       "    .dataframe thead th {\n",
       "        text-align: right;\n",
       "    }\n",
       "</style>\n",
       "<table border=\"1\" class=\"dataframe\">\n",
       "  <thead>\n",
       "    <tr style=\"text-align: right;\">\n",
       "      <th></th>\n",
       "      <th>person_age</th>\n",
       "      <th>person_income</th>\n",
       "      <th>person_home_ownership</th>\n",
       "      <th>person_emp_length</th>\n",
       "      <th>loan_intent</th>\n",
       "      <th>loan_grade</th>\n",
       "      <th>loan_amnt</th>\n",
       "      <th>loan_int_rate</th>\n",
       "      <th>loan_percent_income</th>\n",
       "      <th>cb_person_default_on_file</th>\n",
       "      <th>cb_person_cred_hist_length</th>\n",
       "      <th>loan_status</th>\n",
       "    </tr>\n",
       "  </thead>\n",
       "  <tbody>\n",
       "    <tr>\n",
       "      <th>11491</th>\n",
       "      <td>26</td>\n",
       "      <td>62000</td>\n",
       "      <td>RENT</td>\n",
       "      <td>1.0</td>\n",
       "      <td>DEBTCONSOLIDATION</td>\n",
       "      <td>B</td>\n",
       "      <td>10000</td>\n",
       "      <td>11.26</td>\n",
       "      <td>0.16</td>\n",
       "      <td>N</td>\n",
       "      <td>2</td>\n",
       "      <td>0</td>\n",
       "    </tr>\n",
       "    <tr>\n",
       "      <th>3890</th>\n",
       "      <td>23</td>\n",
       "      <td>39000</td>\n",
       "      <td>MORTGAGE</td>\n",
       "      <td>3.0</td>\n",
       "      <td>EDUCATION</td>\n",
       "      <td>C</td>\n",
       "      <td>5000</td>\n",
       "      <td>12.98</td>\n",
       "      <td>0.13</td>\n",
       "      <td>N</td>\n",
       "      <td>4</td>\n",
       "      <td>0</td>\n",
       "    </tr>\n",
       "    <tr>\n",
       "      <th>17344</th>\n",
       "      <td>24</td>\n",
       "      <td>35000</td>\n",
       "      <td>RENT</td>\n",
       "      <td>1.0</td>\n",
       "      <td>DEBTCONSOLIDATION</td>\n",
       "      <td>A</td>\n",
       "      <td>12000</td>\n",
       "      <td>6.54</td>\n",
       "      <td>0.34</td>\n",
       "      <td>N</td>\n",
       "      <td>2</td>\n",
       "      <td>1</td>\n",
       "    </tr>\n",
       "    <tr>\n",
       "      <th>13023</th>\n",
       "      <td>24</td>\n",
       "      <td>86000</td>\n",
       "      <td>RENT</td>\n",
       "      <td>1.0</td>\n",
       "      <td>HOMEIMPROVEMENT</td>\n",
       "      <td>B</td>\n",
       "      <td>12000</td>\n",
       "      <td>10.65</td>\n",
       "      <td>0.14</td>\n",
       "      <td>N</td>\n",
       "      <td>3</td>\n",
       "      <td>0</td>\n",
       "    </tr>\n",
       "    <tr>\n",
       "      <th>29565</th>\n",
       "      <td>42</td>\n",
       "      <td>38400</td>\n",
       "      <td>RENT</td>\n",
       "      <td>4.0</td>\n",
       "      <td>MEDICAL</td>\n",
       "      <td>B</td>\n",
       "      <td>13000</td>\n",
       "      <td>NaN</td>\n",
       "      <td>0.34</td>\n",
       "      <td>N</td>\n",
       "      <td>11</td>\n",
       "      <td>1</td>\n",
       "    </tr>\n",
       "  </tbody>\n",
       "</table>\n",
       "</div>"
      ],
      "text/plain": [
       "       person_age  person_income person_home_ownership  person_emp_length  \\\n",
       "11491          26          62000                  RENT                1.0   \n",
       "3890           23          39000              MORTGAGE                3.0   \n",
       "17344          24          35000                  RENT                1.0   \n",
       "13023          24          86000                  RENT                1.0   \n",
       "29565          42          38400                  RENT                4.0   \n",
       "\n",
       "             loan_intent loan_grade  loan_amnt  loan_int_rate  \\\n",
       "11491  DEBTCONSOLIDATION          B      10000          11.26   \n",
       "3890           EDUCATION          C       5000          12.98   \n",
       "17344  DEBTCONSOLIDATION          A      12000           6.54   \n",
       "13023    HOMEIMPROVEMENT          B      12000          10.65   \n",
       "29565            MEDICAL          B      13000            NaN   \n",
       "\n",
       "       loan_percent_income cb_person_default_on_file  \\\n",
       "11491                 0.16                         N   \n",
       "3890                  0.13                         N   \n",
       "17344                 0.34                         N   \n",
       "13023                 0.14                         N   \n",
       "29565                 0.34                         N   \n",
       "\n",
       "       cb_person_cred_hist_length  loan_status  \n",
       "11491                           2            0  \n",
       "3890                            4            0  \n",
       "17344                           2            1  \n",
       "13023                           3            0  \n",
       "29565                          11            1  "
      ]
     },
     "execution_count": 10,
     "metadata": {},
     "output_type": "execute_result"
    }
   ],
   "source": [
    "# Concatenate X_train and y_train as data_train\n",
    "data_train = pd.concat((X_train, y_train),\n",
    "                       axis = 1)\n",
    "\n",
    "# Validate data_train\n",
    "print('Train data shape:', data_train.shape)\n",
    "data_train.head()"
   ]
  },
  {
   "cell_type": "markdown",
   "id": "c7d34fe6",
   "metadata": {},
   "source": [
    "## **Binary Predictor**"
   ]
  },
  {
   "cell_type": "markdown",
   "id": "be24ddb4",
   "metadata": {},
   "source": [
    "- We will use variable `cb_person_default_on_file` as the binary predictor for response `loan_status`.\n",
    "- `cb_person_default_on_file` $(x)$ has 2 categories:\n",
    "  - $x$ = N --> the debtor does not have any history of defaults.\n",
    "  - $x$ = Y --> the debtor has a history of defaults on their credit file.\n",
    "- Thus, the logit model becomes: $\\text{logit} =\\beta_{0} + \\beta_{1}x$"
   ]
  },
  {
   "cell_type": "markdown",
   "id": "480facc4",
   "metadata": {},
   "source": [
    "### Model Fitting"
   ]
  },
  {
   "cell_type": "code",
   "execution_count": 11,
   "id": "062f915f",
   "metadata": {},
   "outputs": [
    {
     "data": {
      "text/plain": [
       "11491    N\n",
       "3890     N\n",
       "17344    N\n",
       "13023    N\n",
       "29565    N\n",
       "Name: cb_person_default_on_file, dtype: object"
      ]
     },
     "execution_count": 11,
     "metadata": {},
     "output_type": "execute_result"
    }
   ],
   "source": [
    "# Define the response 'default' and binary predictor 'history'\n",
    "default = data_train[response_variable]\n",
    "history = data_train['cb_person_default_on_file']\n",
    "\n",
    "history.head()"
   ]
  },
  {
   "cell_type": "code",
   "execution_count": 12,
   "id": "4f814af4",
   "metadata": {},
   "outputs": [
    {
     "data": {
      "text/plain": [
       "11491    0\n",
       "3890     0\n",
       "17344    1\n",
       "13023    0\n",
       "29565    1\n",
       "        ..\n",
       "22095    0\n",
       "18736    0\n",
       "1663     0\n",
       "18257    0\n",
       "10456    1\n",
       "Name: loan_status, Length: 22806, dtype: int64"
      ]
     },
     "execution_count": 12,
     "metadata": {},
     "output_type": "execute_result"
    }
   ],
   "source": [
    "default"
   ]
  },
  {
   "cell_type": "code",
   "execution_count": 13,
   "id": "8aef4618",
   "metadata": {},
   "outputs": [
    {
     "data": {
      "text/plain": [
       "11491    N\n",
       "3890     N\n",
       "17344    N\n",
       "13023    N\n",
       "29565    N\n",
       "22677    N\n",
       "25029    N\n",
       "23700    N\n",
       "4299     Y\n",
       "29314    N\n",
       "26465    N\n",
       "24675    N\n",
       "1446     N\n",
       "411      N\n",
       "18178    N\n",
       "179      N\n",
       "2871     N\n",
       "22287    N\n",
       "9171     N\n",
       "931      N\n",
       "Name: cb_person_default_on_file, dtype: object"
      ]
     },
     "execution_count": 13,
     "metadata": {},
     "output_type": "execute_result"
    }
   ],
   "source": [
    "history.head(20)"
   ]
  },
  {
   "cell_type": "code",
   "execution_count": 15,
   "id": "25fcd9c3",
   "metadata": {},
   "outputs": [
    {
     "data": {
      "text/html": [
       "<div>\n",
       "<style scoped>\n",
       "    .dataframe tbody tr th:only-of-type {\n",
       "        vertical-align: middle;\n",
       "    }\n",
       "\n",
       "    .dataframe tbody tr th {\n",
       "        vertical-align: top;\n",
       "    }\n",
       "\n",
       "    .dataframe thead th {\n",
       "        text-align: right;\n",
       "    }\n",
       "</style>\n",
       "<table border=\"1\" class=\"dataframe\">\n",
       "  <thead>\n",
       "    <tr style=\"text-align: right;\">\n",
       "      <th></th>\n",
       "      <th>history_default</th>\n",
       "    </tr>\n",
       "  </thead>\n",
       "  <tbody>\n",
       "    <tr>\n",
       "      <th>11491</th>\n",
       "      <td>0</td>\n",
       "    </tr>\n",
       "    <tr>\n",
       "      <th>3890</th>\n",
       "      <td>0</td>\n",
       "    </tr>\n",
       "    <tr>\n",
       "      <th>17344</th>\n",
       "      <td>0</td>\n",
       "    </tr>\n",
       "    <tr>\n",
       "      <th>13023</th>\n",
       "      <td>0</td>\n",
       "    </tr>\n",
       "    <tr>\n",
       "      <th>29565</th>\n",
       "      <td>0</td>\n",
       "    </tr>\n",
       "  </tbody>\n",
       "</table>\n",
       "</div>"
      ],
      "text/plain": [
       "       history_default\n",
       "11491                0\n",
       "3890                 0\n",
       "17344                0\n",
       "13023                0\n",
       "29565                0"
      ]
     },
     "execution_count": 15,
     "metadata": {},
     "output_type": "execute_result"
    }
   ],
   "source": [
    "# Make dummy variable where 'N' (never default) is the reference for 'history'\n",
    "# history_default = 0 --> does not have any history of defaults\n",
    "history_default = pd.get_dummies(history,\n",
    "                                 drop_first = True)\n",
    "\n",
    "# Rename the column\n",
    "history_default.columns = ['history_default']\n",
    "\n",
    "history_default.head()"
   ]
  },
  {
   "cell_type": "code",
   "execution_count": 16,
   "id": "f84f28c0",
   "metadata": {},
   "outputs": [
    {
     "name": "stdout",
     "output_type": "stream",
     "text": [
      "Optimization terminated successfully.\n",
      "         Current function value: 0.510410\n",
      "         Iterations 5\n",
      "                           Logit Regression Results                           \n",
      "==============================================================================\n",
      "Dep. Variable:            loan_status   No. Observations:                22806\n",
      "Model:                          Logit   Df Residuals:                    22804\n",
      "Method:                           MLE   Df Model:                            1\n",
      "Date:                Sat, 07 Oct 2023   Pseudo R-squ.:                 0.02695\n",
      "Time:                        12:35:11   Log-Likelihood:                -11640.\n",
      "converged:                       True   LL-Null:                       -11963.\n",
      "Covariance Type:            nonrobust   LLR p-value:                2.876e-142\n",
      "===================================================================================\n",
      "                      coef    std err          z      P>|z|      [0.025      0.975]\n",
      "-----------------------------------------------------------------------------------\n",
      "const              -1.4879      0.019    -79.001      0.000      -1.525      -1.451\n",
      "history_default     0.9781      0.038     26.062      0.000       0.905       1.052\n",
      "===================================================================================\n"
     ]
    }
   ],
   "source": [
    "# Modeling with statsmodels\n",
    "# Use dummy variable 'history_default' as predictor\n",
    "# endog : variable output\n",
    "# Load the package\n",
    "import statsmodels.api as sm\n",
    "\n",
    "# Add constant to predictor\n",
    "history_default_sm = sm.add_constant(history_default)\n",
    "\n",
    "# Model fitting\n",
    "model_history_default = sm.Logit(endog = default,\n",
    "                                 exog = history_default_sm)\n",
    "result_history_default = model_history_default.fit()\n",
    "\n",
    "# Print the result\n",
    "print(result_history_default.summary())"
   ]
  },
  {
   "cell_type": "markdown",
   "id": "e13f2aa5",
   "metadata": {},
   "source": [
    "- Thus, we have the logit model:\n",
    "$$\n",
    "\\begin{align*}\n",
    "\\text{logit(history_default)} &=\\beta_{0} + \\beta_{1}(\\text{history_default}) \\\\\n",
    "\\text{logit(history_default)} &=-1.4879 + 0.9781(\\text{history_default}) \\\\\n",
    "\\end{align*}\n",
    "$$"
   ]
  },
  {
   "cell_type": "code",
   "execution_count": 17,
   "id": "05f6ffaa",
   "metadata": {},
   "outputs": [
    {
     "name": "stderr",
     "output_type": "stream",
     "text": [
      "/Users/adhiperdanaputra/opt/anaconda3/envs/dss_mice/lib/python3.10/site-packages/sklearn/linear_model/_logistic.py:1173: FutureWarning: `penalty='none'`has been deprecated in 1.2 and will be removed in 1.4. To keep the past behaviour, set `penalty=None`.\n",
      "  warnings.warn(\n"
     ]
    },
    {
     "data": {
      "text/html": [
       "<style>#sk-container-id-1 {color: black;background-color: white;}#sk-container-id-1 pre{padding: 0;}#sk-container-id-1 div.sk-toggleable {background-color: white;}#sk-container-id-1 label.sk-toggleable__label {cursor: pointer;display: block;width: 100%;margin-bottom: 0;padding: 0.3em;box-sizing: border-box;text-align: center;}#sk-container-id-1 label.sk-toggleable__label-arrow:before {content: \"▸\";float: left;margin-right: 0.25em;color: #696969;}#sk-container-id-1 label.sk-toggleable__label-arrow:hover:before {color: black;}#sk-container-id-1 div.sk-estimator:hover label.sk-toggleable__label-arrow:before {color: black;}#sk-container-id-1 div.sk-toggleable__content {max-height: 0;max-width: 0;overflow: hidden;text-align: left;background-color: #f0f8ff;}#sk-container-id-1 div.sk-toggleable__content pre {margin: 0.2em;color: black;border-radius: 0.25em;background-color: #f0f8ff;}#sk-container-id-1 input.sk-toggleable__control:checked~div.sk-toggleable__content {max-height: 200px;max-width: 100%;overflow: auto;}#sk-container-id-1 input.sk-toggleable__control:checked~label.sk-toggleable__label-arrow:before {content: \"▾\";}#sk-container-id-1 div.sk-estimator input.sk-toggleable__control:checked~label.sk-toggleable__label {background-color: #d4ebff;}#sk-container-id-1 div.sk-label input.sk-toggleable__control:checked~label.sk-toggleable__label {background-color: #d4ebff;}#sk-container-id-1 input.sk-hidden--visually {border: 0;clip: rect(1px 1px 1px 1px);clip: rect(1px, 1px, 1px, 1px);height: 1px;margin: -1px;overflow: hidden;padding: 0;position: absolute;width: 1px;}#sk-container-id-1 div.sk-estimator {font-family: monospace;background-color: #f0f8ff;border: 1px dotted black;border-radius: 0.25em;box-sizing: border-box;margin-bottom: 0.5em;}#sk-container-id-1 div.sk-estimator:hover {background-color: #d4ebff;}#sk-container-id-1 div.sk-parallel-item::after {content: \"\";width: 100%;border-bottom: 1px solid gray;flex-grow: 1;}#sk-container-id-1 div.sk-label:hover label.sk-toggleable__label {background-color: #d4ebff;}#sk-container-id-1 div.sk-serial::before {content: \"\";position: absolute;border-left: 1px solid gray;box-sizing: border-box;top: 0;bottom: 0;left: 50%;z-index: 0;}#sk-container-id-1 div.sk-serial {display: flex;flex-direction: column;align-items: center;background-color: white;padding-right: 0.2em;padding-left: 0.2em;position: relative;}#sk-container-id-1 div.sk-item {position: relative;z-index: 1;}#sk-container-id-1 div.sk-parallel {display: flex;align-items: stretch;justify-content: center;background-color: white;position: relative;}#sk-container-id-1 div.sk-item::before, #sk-container-id-1 div.sk-parallel-item::before {content: \"\";position: absolute;border-left: 1px solid gray;box-sizing: border-box;top: 0;bottom: 0;left: 50%;z-index: -1;}#sk-container-id-1 div.sk-parallel-item {display: flex;flex-direction: column;z-index: 1;position: relative;background-color: white;}#sk-container-id-1 div.sk-parallel-item:first-child::after {align-self: flex-end;width: 50%;}#sk-container-id-1 div.sk-parallel-item:last-child::after {align-self: flex-start;width: 50%;}#sk-container-id-1 div.sk-parallel-item:only-child::after {width: 0;}#sk-container-id-1 div.sk-dashed-wrapped {border: 1px dashed gray;margin: 0 0.4em 0.5em 0.4em;box-sizing: border-box;padding-bottom: 0.4em;background-color: white;}#sk-container-id-1 div.sk-label label {font-family: monospace;font-weight: bold;display: inline-block;line-height: 1.2em;}#sk-container-id-1 div.sk-label-container {text-align: center;}#sk-container-id-1 div.sk-container {/* jupyter's `normalize.less` sets `[hidden] { display: none; }` but bootstrap.min.css set `[hidden] { display: none !important; }` so we also need the `!important` here to be able to override the default hidden behavior on the sphinx rendered scikit-learn.org. See: https://github.com/scikit-learn/scikit-learn/issues/21755 */display: inline-block !important;position: relative;}#sk-container-id-1 div.sk-text-repr-fallback {display: none;}</style><div id=\"sk-container-id-1\" class=\"sk-top-container\"><div class=\"sk-text-repr-fallback\"><pre>LogisticRegression(penalty=&#x27;none&#x27;)</pre><b>In a Jupyter environment, please rerun this cell to show the HTML representation or trust the notebook. <br />On GitHub, the HTML representation is unable to render, please try loading this page with nbviewer.org.</b></div><div class=\"sk-container\" hidden><div class=\"sk-item\"><div class=\"sk-estimator sk-toggleable\"><input class=\"sk-toggleable__control sk-hidden--visually\" id=\"sk-estimator-id-1\" type=\"checkbox\" checked><label for=\"sk-estimator-id-1\" class=\"sk-toggleable__label sk-toggleable__label-arrow\">LogisticRegression</label><div class=\"sk-toggleable__content\"><pre>LogisticRegression(penalty=&#x27;none&#x27;)</pre></div></div></div></div></div>"
      ],
      "text/plain": [
       "LogisticRegression(penalty='none')"
      ]
     },
     "execution_count": 17,
     "metadata": {},
     "output_type": "execute_result"
    }
   ],
   "source": [
    "# Modelling with sklearn\n",
    "\n",
    "# Load Statistics package\n",
    "from sklearn.linear_model import LogisticRegression\n",
    "\n",
    "# Create the object\n",
    "model_history_sk = LogisticRegression(penalty = 'none')\n",
    "\n",
    "# Use dummy variable 'history_default' as predictor\n",
    "model_history_sk.fit(X = history_default,\n",
    "                     y = default)"
   ]
  },
  {
   "cell_type": "markdown",
   "id": "633d0c3d",
   "metadata": {},
   "source": [
    "Extract $\\beta_{0}$ estimate."
   ]
  },
  {
   "cell_type": "code",
   "execution_count": 18,
   "id": "76f340c6",
   "metadata": {},
   "outputs": [
    {
     "data": {
      "text/plain": [
       "array([-1.48787169])"
      ]
     },
     "execution_count": 18,
     "metadata": {},
     "output_type": "execute_result"
    }
   ],
   "source": [
    "# Print the parameter estimate of b0\n",
    "b0_history = model_history_sk.intercept_\n",
    "b0_history"
   ]
  },
  {
   "cell_type": "markdown",
   "id": "535fbd51",
   "metadata": {},
   "source": [
    "Extract $\\beta_{1}$ estimate."
   ]
  },
  {
   "cell_type": "code",
   "execution_count": 19,
   "id": "4af054a6",
   "metadata": {},
   "outputs": [
    {
     "data": {
      "text/plain": [
       "array([[0.97809994]])"
      ]
     },
     "execution_count": 19,
     "metadata": {},
     "output_type": "execute_result"
    }
   ],
   "source": [
    "# Print the parameter estimate of b1\n",
    "b1_history = model_history_sk.coef_\n",
    "b1_history"
   ]
  },
  {
   "cell_type": "markdown",
   "id": "308102e5",
   "metadata": {},
   "source": [
    "We already fit logistic regression model with:\n",
    "1. `statsmodels.api`\n",
    "2. `statsmodels.formula.api`\n",
    "3. `sklearn.linear_model`\n",
    "\n",
    "To keep it simple for interpreting the parameter estimates, next we will use only `statsmodels.api` to fit the logistic regression model since its package yields the summarized output for the fitted model."
   ]
  },
  {
   "cell_type": "markdown",
   "id": "c8c9255c",
   "metadata": {},
   "source": [
    "### Interpretation"
   ]
  },
  {
   "cell_type": "markdown",
   "id": "d00c8bbc",
   "metadata": {},
   "source": [
    "Interpretation for $\\beta_{0}$.\n",
    "- $\\beta_{0}$ is the logit value when $x=0$ or $x$= reference\n",
    "- **Thus, $\\beta_{0}$ is the logit or log odds of success of reference category.**\n",
    "- $\\text{odds(reference)}=\\exp(\\beta_{0})$"
   ]
  },
  {
   "cell_type": "code",
   "execution_count": 20,
   "id": "9a2655f5",
   "metadata": {},
   "outputs": [
    {
     "name": "stdout",
     "output_type": "stream",
     "text": [
      "The odds of default for those who have never been in default is 0.23.\n"
     ]
    }
   ],
   "source": [
    "# Calculate odds of reference: does not have any history of defaults\n",
    "odds_never_default = np.exp(b0_history)\n",
    "\n",
    "print(f\"The odds of default for those who have never been in default is {odds_never_default[0]:.2f}.\")"
   ]
  },
  {
   "cell_type": "markdown",
   "id": "11fb7509",
   "metadata": {},
   "source": [
    "Interpretation:\n",
    "> Debtors who have never been in default are less likely to default."
   ]
  },
  {
   "cell_type": "markdown",
   "id": "ffae71f6",
   "metadata": {},
   "source": [
    "Interpretation for $\\beta_{1}$."
   ]
  },
  {
   "cell_type": "code",
   "execution_count": 22,
   "id": "28e9c50d",
   "metadata": {},
   "outputs": [
    {
     "name": "stdout",
     "output_type": "stream",
     "text": [
      "OR (ever default, never default) = 2.66\n"
     ]
    }
   ],
   "source": [
    "# Calculate the OR between history_default=1 and history_default=0\n",
    "odds_ratio_history = np.exp(b1_history)\n",
    "\n",
    "print(f\"OR (ever default, never default) = {odds_ratio_history[0][0]:.2f}\")"
   ]
  },
  {
   "cell_type": "code",
   "execution_count": 23,
   "id": "6ba31843",
   "metadata": {},
   "outputs": [
    {
     "data": {
      "text/plain": [
       "array([[2.65939843]])"
      ]
     },
     "execution_count": 23,
     "metadata": {},
     "output_type": "execute_result"
    }
   ],
   "source": [
    "odds_ratio_history"
   ]
  },
  {
   "cell_type": "markdown",
   "id": "593df180",
   "metadata": {},
   "source": [
    "Interpretation:\n",
    "> Debtors who have been in default tend to default again than those who have never been in default. The odds of default for debtors who have been in default is 2.66 times the odds for those who have never been in default."
   ]
  },
  {
   "cell_type": "code",
   "execution_count": 24,
   "id": "fd0e6e18",
   "metadata": {},
   "outputs": [
    {
     "data": {
      "text/html": [
       "<div>\n",
       "<style scoped>\n",
       "    .dataframe tbody tr th:only-of-type {\n",
       "        vertical-align: middle;\n",
       "    }\n",
       "\n",
       "    .dataframe tbody tr th {\n",
       "        vertical-align: top;\n",
       "    }\n",
       "\n",
       "    .dataframe thead th {\n",
       "        text-align: right;\n",
       "    }\n",
       "</style>\n",
       "<table border=\"1\" class=\"dataframe\">\n",
       "  <thead>\n",
       "    <tr style=\"text-align: right;\">\n",
       "      <th>loan_status</th>\n",
       "      <th>0</th>\n",
       "      <th>1</th>\n",
       "      <th>All</th>\n",
       "    </tr>\n",
       "    <tr>\n",
       "      <th>cb_person_default_on_file</th>\n",
       "      <th></th>\n",
       "      <th></th>\n",
       "      <th></th>\n",
       "    </tr>\n",
       "  </thead>\n",
       "  <tbody>\n",
       "    <tr>\n",
       "      <th>N</th>\n",
       "      <td>15302</td>\n",
       "      <td>3456</td>\n",
       "      <td>18758</td>\n",
       "    </tr>\n",
       "    <tr>\n",
       "      <th>Y</th>\n",
       "      <td>2529</td>\n",
       "      <td>1519</td>\n",
       "      <td>4048</td>\n",
       "    </tr>\n",
       "    <tr>\n",
       "      <th>All</th>\n",
       "      <td>17831</td>\n",
       "      <td>4975</td>\n",
       "      <td>22806</td>\n",
       "    </tr>\n",
       "  </tbody>\n",
       "</table>\n",
       "</div>"
      ],
      "text/plain": [
       "loan_status                    0     1    All\n",
       "cb_person_default_on_file                    \n",
       "N                          15302  3456  18758\n",
       "Y                           2529  1519   4048\n",
       "All                        17831  4975  22806"
      ]
     },
     "execution_count": 24,
     "metadata": {},
     "output_type": "execute_result"
    }
   ],
   "source": [
    "# Contingency table 'default' and 'history'\n",
    "crosstab_history = pd.crosstab(history,\n",
    "                               default,\n",
    "                               margins = True)\n",
    "crosstab_history"
   ]
  },
  {
   "cell_type": "code",
   "execution_count": 25,
   "id": "27a95240",
   "metadata": {},
   "outputs": [
    {
     "data": {
      "text/plain": [
       "0.6006326611308818"
      ]
     },
     "execution_count": 25,
     "metadata": {},
     "output_type": "execute_result"
    }
   ],
   "source": [
    "# Calculate the odds of default for debtors who have been in default\n",
    "default_and_ever_default = crosstab_history[1]['Y']\n",
    "non_default_and_ever_default  = crosstab_history[0]['Y']\n",
    "\n",
    "odds_ever_default = default_and_ever_default/non_default_and_ever_default\n",
    "odds_ever_default"
   ]
  },
  {
   "cell_type": "code",
   "execution_count": 26,
   "id": "65a9be44",
   "metadata": {},
   "outputs": [
    {
     "data": {
      "text/plain": [
       "0.22585282969546464"
      ]
     },
     "execution_count": 26,
     "metadata": {},
     "output_type": "execute_result"
    }
   ],
   "source": [
    "# Calculate the odds of default for debtors who have NEVER been in default\n",
    "default_and_never_default = crosstab_history[1]['N']\n",
    "non_default_and_never_default  = crosstab_history[0]['N']\n",
    "\n",
    "odds_never_default = default_and_never_default/non_default_and_never_default\n",
    "odds_never_default"
   ]
  },
  {
   "cell_type": "markdown",
   "id": "117146c0",
   "metadata": {},
   "source": [
    "The odds of default for those who have never been in default is proven."
   ]
  },
  {
   "cell_type": "code",
   "execution_count": 27,
   "id": "538bff21",
   "metadata": {},
   "outputs": [
    {
     "data": {
      "text/plain": [
       "2.6593984318937363"
      ]
     },
     "execution_count": 27,
     "metadata": {},
     "output_type": "execute_result"
    }
   ],
   "source": [
    "# Calculate the OR\n",
    "odds_ratio_history = odds_ever_default / odds_never_default\n",
    "odds_ratio_history"
   ]
  },
  {
   "cell_type": "markdown",
   "id": "bce14516",
   "metadata": {},
   "source": [
    "## **Multicategory Predictor**"
   ]
  },
  {
   "cell_type": "markdown",
   "id": "2af5321d",
   "metadata": {},
   "source": [
    "- We use variable `person_home_ownership` as the multicategory predictor for response `loan_status`.\n",
    "- `person_home_ownership` has 4 categories, where 0-9 years experience or beginner driver is the **reference**.\n",
    "  - $k_{1}$ = `OTHER`\n",
    "  - $k_{2}$ = `OWN`\n",
    "  - $k_{3}$ = `RENT`\n",
    "  - $k_{4}$ = `MORTGAGE` (**reference**)\n",
    "- Thus, the logit model becomes:\n",
    "$$\n",
    "\\text{logit} =\\beta_{0} + \\beta_{1}k_{1} + \\beta_{2}k_{2} + \\beta_{3}k_{3}\n",
    "$$"
   ]
  },
  {
   "cell_type": "markdown",
   "id": "49e31e52",
   "metadata": {},
   "source": [
    "### Model Fitting"
   ]
  },
  {
   "cell_type": "code",
   "execution_count": 28,
   "id": "02bd577c",
   "metadata": {},
   "outputs": [
    {
     "data": {
      "text/plain": [
       "11491        RENT\n",
       "3890     MORTGAGE\n",
       "17344        RENT\n",
       "13023        RENT\n",
       "29565        RENT\n",
       "Name: person_home_ownership, dtype: object"
      ]
     },
     "execution_count": 28,
     "metadata": {},
     "output_type": "execute_result"
    }
   ],
   "source": [
    "# Define the response 'default' and multicategory predictor 'home'\n",
    "default = data_train[response_variable]\n",
    "home = data_train['person_home_ownership']\n",
    "\n",
    "home.head()"
   ]
  },
  {
   "cell_type": "code",
   "execution_count": 29,
   "id": "e17fe217",
   "metadata": {},
   "outputs": [
    {
     "data": {
      "text/html": [
       "<div>\n",
       "<style scoped>\n",
       "    .dataframe tbody tr th:only-of-type {\n",
       "        vertical-align: middle;\n",
       "    }\n",
       "\n",
       "    .dataframe tbody tr th {\n",
       "        vertical-align: top;\n",
       "    }\n",
       "\n",
       "    .dataframe thead th {\n",
       "        text-align: right;\n",
       "    }\n",
       "</style>\n",
       "<table border=\"1\" class=\"dataframe\">\n",
       "  <thead>\n",
       "    <tr style=\"text-align: right;\">\n",
       "      <th></th>\n",
       "      <th>OTHER</th>\n",
       "      <th>OWN</th>\n",
       "      <th>RENT</th>\n",
       "    </tr>\n",
       "  </thead>\n",
       "  <tbody>\n",
       "    <tr>\n",
       "      <th>11491</th>\n",
       "      <td>0</td>\n",
       "      <td>0</td>\n",
       "      <td>1</td>\n",
       "    </tr>\n",
       "    <tr>\n",
       "      <th>3890</th>\n",
       "      <td>0</td>\n",
       "      <td>0</td>\n",
       "      <td>0</td>\n",
       "    </tr>\n",
       "    <tr>\n",
       "      <th>17344</th>\n",
       "      <td>0</td>\n",
       "      <td>0</td>\n",
       "      <td>1</td>\n",
       "    </tr>\n",
       "    <tr>\n",
       "      <th>13023</th>\n",
       "      <td>0</td>\n",
       "      <td>0</td>\n",
       "      <td>1</td>\n",
       "    </tr>\n",
       "    <tr>\n",
       "      <th>29565</th>\n",
       "      <td>0</td>\n",
       "      <td>0</td>\n",
       "      <td>1</td>\n",
       "    </tr>\n",
       "  </tbody>\n",
       "</table>\n",
       "</div>"
      ],
      "text/plain": [
       "       OTHER  OWN  RENT\n",
       "11491      0    0     1\n",
       "3890       0    0     0\n",
       "17344      0    0     1\n",
       "13023      0    0     1\n",
       "29565      0    0     1"
      ]
     },
     "execution_count": 29,
     "metadata": {},
     "output_type": "execute_result"
    }
   ],
   "source": [
    "# MORTGAGE as the reference\n",
    "# Results 3 dummies predictor; OTHER, OWN, RENT\n",
    "home_mortgage = pd.get_dummies(home,\n",
    "                               drop_first = True)\n",
    "\n",
    "home_mortgage.head()"
   ]
  },
  {
   "cell_type": "code",
   "execution_count": 30,
   "id": "3c838b3e",
   "metadata": {},
   "outputs": [
    {
     "name": "stdout",
     "output_type": "stream",
     "text": [
      "Optimization terminated successfully.\n",
      "         Current function value: 0.493191\n",
      "         Iterations 7\n",
      "                           Logit Regression Results                           \n",
      "==============================================================================\n",
      "Dep. Variable:            loan_status   No. Observations:                22806\n",
      "Model:                          Logit   Df Residuals:                    22802\n",
      "Method:                           MLE   Df Model:                            3\n",
      "Date:                Sat, 07 Oct 2023   Pseudo R-squ.:                 0.05978\n",
      "Time:                        13:12:53   Log-Likelihood:                -11248.\n",
      "converged:                       True   LL-Null:                       -11963.\n",
      "Covariance Type:            nonrobust   LLR p-value:                7.866e-310\n",
      "==============================================================================\n",
      "                 coef    std err          z      P>|z|      [0.025      0.975]\n",
      "------------------------------------------------------------------------------\n",
      "const         -1.9419      0.031    -62.383      0.000      -2.003      -1.881\n",
      "OTHER          1.2865      0.239      5.377      0.000       0.818       1.755\n",
      "OWN           -0.6242      0.096     -6.490      0.000      -0.813      -0.436\n",
      "RENT           1.1716      0.037     31.639      0.000       1.099       1.244\n",
      "==============================================================================\n"
     ]
    }
   ],
   "source": [
    "# Modeling with statsmodels\n",
    "# Use 3 dummy variables as predictors\n",
    "\n",
    "# Add constant to predictors\n",
    "home_mortgage_sm = sm.add_constant(home_mortgage)\n",
    "\n",
    "# Model fitting\n",
    "model_home = sm.Logit(endog = default,\n",
    "                      exog = home_mortgage_sm)\n",
    "result_home = model_home.fit()\n",
    "\n",
    "# Print the result\n",
    "print(result_home.summary())"
   ]
  },
  {
   "cell_type": "markdown",
   "id": "3036ffcf",
   "metadata": {},
   "source": [
    "- Thus, we have the logit model:\n",
    "$$\n",
    "\\begin{align*}\n",
    "\\text{logit(home)} &=\\beta_{0} + \\beta_{1}k_{1} + \\beta_{2}k_{2} + \\beta_{3}k_{3} \\\\\n",
    "\\\\\n",
    "&=\\beta_{0} + \\beta_{1}(\\text{OTHER}) + \\beta_{2}(\\text{OWN}) + \\beta_{3}(\\text{RENT}) \\\\\n",
    "\\\\\n",
    "\\text{logit(home)} &=-1.9419 + 1.2865(\\text{OTHER}) - 0.6242(\\text{OWN}) + 1.1716(\\text{RENT}) \\\\\n",
    "\\end{align*}\n",
    "$$"
   ]
  },
  {
   "cell_type": "markdown",
   "id": "87f1119b",
   "metadata": {},
   "source": [
    "Extract parameter estimate $\\beta_{0}, \\beta_{1}, \\dots, \\beta_{3}$"
   ]
  },
  {
   "cell_type": "code",
   "execution_count": 31,
   "id": "2053ac89",
   "metadata": {},
   "outputs": [
    {
     "data": {
      "text/plain": [
       "const   -1.941907\n",
       "OTHER    1.286500\n",
       "OWN     -0.624225\n",
       "RENT     1.171554\n",
       "dtype: float64"
      ]
     },
     "execution_count": 31,
     "metadata": {},
     "output_type": "execute_result"
    }
   ],
   "source": [
    "# Print the parameter estimate of bk for k=0,1,2,3\n",
    "bk_home = result_home.params\n",
    "bk_home"
   ]
  },
  {
   "cell_type": "markdown",
   "id": "ee6b8874",
   "metadata": {},
   "source": [
    "Extract $\\beta_{0}$ estimate."
   ]
  },
  {
   "cell_type": "code",
   "execution_count": 32,
   "id": "a0a16484",
   "metadata": {},
   "outputs": [
    {
     "data": {
      "text/plain": [
       "-1.9419069897092143"
      ]
     },
     "execution_count": 32,
     "metadata": {},
     "output_type": "execute_result"
    }
   ],
   "source": [
    "# Print the parameter estimate of b0\n",
    "b0_home = bk_home[0]\n",
    "b0_home"
   ]
  },
  {
   "cell_type": "code",
   "execution_count": 33,
   "id": "35ca9539",
   "metadata": {},
   "outputs": [
    {
     "data": {
      "text/plain": [
       "1.2865001371321163"
      ]
     },
     "execution_count": 33,
     "metadata": {},
     "output_type": "execute_result"
    }
   ],
   "source": [
    "# Print the parameter estimate of b1 for OTHER\n",
    "b1_other = bk_home[1]\n",
    "b1_other"
   ]
  },
  {
   "cell_type": "code",
   "execution_count": 34,
   "id": "2e49edb5",
   "metadata": {},
   "outputs": [
    {
     "data": {
      "text/plain": [
       "-0.624225100001373"
      ]
     },
     "execution_count": 34,
     "metadata": {},
     "output_type": "execute_result"
    }
   ],
   "source": [
    "# Print the parameter estimate of b2 for OWN\n",
    "b2_own = bk_home[2]\n",
    "b2_own"
   ]
  },
  {
   "cell_type": "code",
   "execution_count": 35,
   "id": "a3c5f01c",
   "metadata": {},
   "outputs": [
    {
     "data": {
      "text/plain": [
       "1.171554463364028"
      ]
     },
     "execution_count": 35,
     "metadata": {},
     "output_type": "execute_result"
    }
   ],
   "source": [
    "# Print the parameter estimate of b3 for RENT\n",
    "b3_rent = bk_home[3]\n",
    "b3_rent"
   ]
  },
  {
   "cell_type": "markdown",
   "id": "982984a6",
   "metadata": {},
   "source": [
    "### Interpretation"
   ]
  },
  {
   "cell_type": "markdown",
   "id": "e8f7d33f",
   "metadata": {},
   "source": [
    "Interpretation for $\\beta_{0}$.\n",
    "- $\\beta_{0}$ is the logit value when $k_{1} = k_{1} = k_{3} =0$ or $x =$ reference.\n",
    "- Thus, $\\beta_{0}$ is the logit or log odds of success of reference category.\n",
    "- $\\text{odds(reference)}=\\exp(\\beta_{0})$"
   ]
  },
  {
   "cell_type": "code",
   "execution_count": 36,
   "id": "75fa13bb",
   "metadata": {},
   "outputs": [
    {
     "name": "stdout",
     "output_type": "stream",
     "text": [
      "The odds of default for debtors who live in a mortgage is 0.14.\n"
     ]
    }
   ],
   "source": [
    "# Calculate odds of reference: MORTGAGE\n",
    "odds_mortgage = np.exp(b0_home)\n",
    "\n",
    "print(f\"The odds of default for debtors who live in a mortgage is {odds_mortgage:.2f}.\")"
   ]
  },
  {
   "cell_type": "markdown",
   "id": "2adb665c",
   "metadata": {},
   "source": [
    "Interpretation:\n",
    "> Debtors who live in a mortgage are less likely to default, with probability of default only 0.14 times probability of not default."
   ]
  },
  {
   "cell_type": "markdown",
   "id": "c0906ad4",
   "metadata": {},
   "source": [
    "Interpretation for $\\beta_{1}$, $\\beta_{2}$, and $\\beta_{3}$."
   ]
  },
  {
   "cell_type": "code",
   "execution_count": 37,
   "id": "2086fca0",
   "metadata": {},
   "outputs": [
    {
     "name": "stdout",
     "output_type": "stream",
     "text": [
      "1. OR (OTHER, MORTGAGE) = 3.62\n",
      "2. OR (OWN, MORTGAGE) = 0.54\n",
      "3. OR (RENT, MORTGAGE) = 3.23\n"
     ]
    }
   ],
   "source": [
    "# Calculate the odds of OTHER, OWN, RENT compared with MORTGAGE\n",
    "odds_ratio_home = np.exp(bk_home[1:4])\n",
    "\n",
    "print(f\"1. OR (OTHER, MORTGAGE) = {odds_ratio_home[0]:.2f}\")\n",
    "print(f\"2. OR (OWN, MORTGAGE) = {odds_ratio_home[1]:.2f}\")\n",
    "print(f\"3. OR (RENT, MORTGAGE) = {odds_ratio_home[2]:.2f}\")"
   ]
  },
  {
   "cell_type": "markdown",
   "id": "c1bab08e",
   "metadata": {},
   "source": [
    "Interpretation:\n",
    "- Compared with MORTGAGE, the higher odds of default come from OTHER and RENT.\n",
    "\n",
    "- Compared with MORTGAGE, `probability of default debtors who OTHER, have probability of default 3,62 times debtors who MORTGAGE`\n",
    "\n"
   ]
  },
  {
   "cell_type": "code",
   "execution_count": 39,
   "id": "6b5230a0",
   "metadata": {},
   "outputs": [
    {
     "data": {
      "text/html": [
       "<div>\n",
       "<style scoped>\n",
       "    .dataframe tbody tr th:only-of-type {\n",
       "        vertical-align: middle;\n",
       "    }\n",
       "\n",
       "    .dataframe tbody tr th {\n",
       "        vertical-align: top;\n",
       "    }\n",
       "\n",
       "    .dataframe thead th {\n",
       "        text-align: right;\n",
       "    }\n",
       "</style>\n",
       "<table border=\"1\" class=\"dataframe\">\n",
       "  <thead>\n",
       "    <tr style=\"text-align: right;\">\n",
       "      <th>loan_status</th>\n",
       "      <th>0</th>\n",
       "      <th>1</th>\n",
       "      <th>All</th>\n",
       "    </tr>\n",
       "    <tr>\n",
       "      <th>person_home_ownership</th>\n",
       "      <th></th>\n",
       "      <th></th>\n",
       "      <th></th>\n",
       "    </tr>\n",
       "  </thead>\n",
       "  <tbody>\n",
       "    <tr>\n",
       "      <th>MORTGAGE</th>\n",
       "      <td>8227</td>\n",
       "      <td>1180</td>\n",
       "      <td>9407</td>\n",
       "    </tr>\n",
       "    <tr>\n",
       "      <th>OTHER</th>\n",
       "      <td>52</td>\n",
       "      <td>27</td>\n",
       "      <td>79</td>\n",
       "    </tr>\n",
       "    <tr>\n",
       "      <th>OWN</th>\n",
       "      <td>1692</td>\n",
       "      <td>130</td>\n",
       "      <td>1822</td>\n",
       "    </tr>\n",
       "    <tr>\n",
       "      <th>RENT</th>\n",
       "      <td>7860</td>\n",
       "      <td>3638</td>\n",
       "      <td>11498</td>\n",
       "    </tr>\n",
       "    <tr>\n",
       "      <th>All</th>\n",
       "      <td>17831</td>\n",
       "      <td>4975</td>\n",
       "      <td>22806</td>\n",
       "    </tr>\n",
       "  </tbody>\n",
       "</table>\n",
       "</div>"
      ],
      "text/plain": [
       "loan_status                0     1    All\n",
       "person_home_ownership                    \n",
       "MORTGAGE                8227  1180   9407\n",
       "OTHER                     52    27     79\n",
       "OWN                     1692   130   1822\n",
       "RENT                    7860  3638  11498\n",
       "All                    17831  4975  22806"
      ]
     },
     "execution_count": 39,
     "metadata": {},
     "output_type": "execute_result"
    }
   ],
   "source": [
    "# Proportion of 'default' by 'home'\n",
    "crosstab_home = pd.crosstab(home,\n",
    "                            default,\n",
    "                            margins = True)\n",
    "crosstab_home"
   ]
  },
  {
   "cell_type": "code",
   "execution_count": 40,
   "id": "54c5890b",
   "metadata": {},
   "outputs": [
    {
     "data": {
      "text/html": [
       "<div>\n",
       "<style scoped>\n",
       "    .dataframe tbody tr th:only-of-type {\n",
       "        vertical-align: middle;\n",
       "    }\n",
       "\n",
       "    .dataframe tbody tr th {\n",
       "        vertical-align: top;\n",
       "    }\n",
       "\n",
       "    .dataframe thead th {\n",
       "        text-align: right;\n",
       "    }\n",
       "</style>\n",
       "<table border=\"1\" class=\"dataframe\">\n",
       "  <thead>\n",
       "    <tr style=\"text-align: right;\">\n",
       "      <th>loan_status</th>\n",
       "      <th>0</th>\n",
       "      <th>1</th>\n",
       "      <th>All</th>\n",
       "      <th>Odds</th>\n",
       "    </tr>\n",
       "    <tr>\n",
       "      <th>person_home_ownership</th>\n",
       "      <th></th>\n",
       "      <th></th>\n",
       "      <th></th>\n",
       "      <th></th>\n",
       "    </tr>\n",
       "  </thead>\n",
       "  <tbody>\n",
       "    <tr>\n",
       "      <th>MORTGAGE</th>\n",
       "      <td>8227</td>\n",
       "      <td>1180</td>\n",
       "      <td>9407</td>\n",
       "      <td>0.143430</td>\n",
       "    </tr>\n",
       "    <tr>\n",
       "      <th>OTHER</th>\n",
       "      <td>52</td>\n",
       "      <td>27</td>\n",
       "      <td>79</td>\n",
       "      <td>0.519231</td>\n",
       "    </tr>\n",
       "    <tr>\n",
       "      <th>OWN</th>\n",
       "      <td>1692</td>\n",
       "      <td>130</td>\n",
       "      <td>1822</td>\n",
       "      <td>0.076832</td>\n",
       "    </tr>\n",
       "    <tr>\n",
       "      <th>RENT</th>\n",
       "      <td>7860</td>\n",
       "      <td>3638</td>\n",
       "      <td>11498</td>\n",
       "      <td>0.462850</td>\n",
       "    </tr>\n",
       "    <tr>\n",
       "      <th>All</th>\n",
       "      <td>17831</td>\n",
       "      <td>4975</td>\n",
       "      <td>22806</td>\n",
       "      <td>0.279008</td>\n",
       "    </tr>\n",
       "  </tbody>\n",
       "</table>\n",
       "</div>"
      ],
      "text/plain": [
       "loan_status                0     1    All      Odds\n",
       "person_home_ownership                              \n",
       "MORTGAGE                8227  1180   9407  0.143430\n",
       "OTHER                     52    27     79  0.519231\n",
       "OWN                     1692   130   1822  0.076832\n",
       "RENT                    7860  3638  11498  0.462850\n",
       "All                    17831  4975  22806  0.279008"
      ]
     },
     "execution_count": 40,
     "metadata": {},
     "output_type": "execute_result"
    }
   ],
   "source": [
    "# Calculate odds of each category\n",
    "crosstab_home['Odds'] = crosstab_home[1]/crosstab_home[0]\n",
    "\n",
    "crosstab_home"
   ]
  },
  {
   "cell_type": "code",
   "execution_count": 41,
   "id": "f1ce90ba",
   "metadata": {},
   "outputs": [
    {
     "name": "stdout",
     "output_type": "stream",
     "text": [
      "The odds of default for MORTGAGE is 0.14.\n",
      "The odds of default for OTHER is 0.52.\n",
      "The odds of default for OWN is 0.08.\n",
      "The odds of default for RENT is 0.46.\n"
     ]
    }
   ],
   "source": [
    "# Extract the odds of each category\n",
    "odds_mortgage = crosstab_home['Odds'][0]\n",
    "odds_other = crosstab_home['Odds'][1]\n",
    "odds_own = crosstab_home['Odds'][2]\n",
    "odds_rent = crosstab_home['Odds'][3]\n",
    "\n",
    "print(f\"The odds of default for MORTGAGE is {odds_mortgage:.2f}.\")\n",
    "print(f\"The odds of default for OTHER is {odds_other:.2f}.\")\n",
    "print(f\"The odds of default for OWN is {odds_own:.2f}.\")\n",
    "print(f\"The odds of default for RENT is {odds_rent:.2f}.\")"
   ]
  },
  {
   "cell_type": "code",
   "execution_count": 42,
   "id": "2a073959",
   "metadata": {},
   "outputs": [
    {
     "data": {
      "text/html": [
       "<div>\n",
       "<style scoped>\n",
       "    .dataframe tbody tr th:only-of-type {\n",
       "        vertical-align: middle;\n",
       "    }\n",
       "\n",
       "    .dataframe tbody tr th {\n",
       "        vertical-align: top;\n",
       "    }\n",
       "\n",
       "    .dataframe thead th {\n",
       "        text-align: right;\n",
       "    }\n",
       "</style>\n",
       "<table border=\"1\" class=\"dataframe\">\n",
       "  <thead>\n",
       "    <tr style=\"text-align: right;\">\n",
       "      <th>loan_status</th>\n",
       "      <th>0</th>\n",
       "      <th>1</th>\n",
       "      <th>All</th>\n",
       "      <th>Odds</th>\n",
       "      <th>OR</th>\n",
       "    </tr>\n",
       "    <tr>\n",
       "      <th>person_home_ownership</th>\n",
       "      <th></th>\n",
       "      <th></th>\n",
       "      <th></th>\n",
       "      <th></th>\n",
       "      <th></th>\n",
       "    </tr>\n",
       "  </thead>\n",
       "  <tbody>\n",
       "    <tr>\n",
       "      <th>MORTGAGE</th>\n",
       "      <td>8227</td>\n",
       "      <td>1180</td>\n",
       "      <td>9407</td>\n",
       "      <td>0.143430</td>\n",
       "      <td>1.000000</td>\n",
       "    </tr>\n",
       "    <tr>\n",
       "      <th>OTHER</th>\n",
       "      <td>52</td>\n",
       "      <td>27</td>\n",
       "      <td>79</td>\n",
       "      <td>0.519231</td>\n",
       "      <td>3.620095</td>\n",
       "    </tr>\n",
       "    <tr>\n",
       "      <th>OWN</th>\n",
       "      <td>1692</td>\n",
       "      <td>130</td>\n",
       "      <td>1822</td>\n",
       "      <td>0.076832</td>\n",
       "      <td>0.535676</td>\n",
       "    </tr>\n",
       "    <tr>\n",
       "      <th>RENT</th>\n",
       "      <td>7860</td>\n",
       "      <td>3638</td>\n",
       "      <td>11498</td>\n",
       "      <td>0.462850</td>\n",
       "      <td>3.227005</td>\n",
       "    </tr>\n",
       "    <tr>\n",
       "      <th>All</th>\n",
       "      <td>17831</td>\n",
       "      <td>4975</td>\n",
       "      <td>22806</td>\n",
       "      <td>0.279008</td>\n",
       "      <td>1.945256</td>\n",
       "    </tr>\n",
       "  </tbody>\n",
       "</table>\n",
       "</div>"
      ],
      "text/plain": [
       "loan_status                0     1    All      Odds        OR\n",
       "person_home_ownership                                        \n",
       "MORTGAGE                8227  1180   9407  0.143430  1.000000\n",
       "OTHER                     52    27     79  0.519231  3.620095\n",
       "OWN                     1692   130   1822  0.076832  0.535676\n",
       "RENT                    7860  3638  11498  0.462850  3.227005\n",
       "All                    17831  4975  22806  0.279008  1.945256"
      ]
     },
     "execution_count": 42,
     "metadata": {},
     "output_type": "execute_result"
    }
   ],
   "source": [
    "# Calculate the OR between each category and MORTGAGE\n",
    "crosstab_home['OR'] = crosstab_home['Odds']/crosstab_home['Odds']['MORTGAGE']\n",
    "\n",
    "crosstab_home"
   ]
  },
  {
   "cell_type": "code",
   "execution_count": 43,
   "id": "b7eb742b",
   "metadata": {},
   "outputs": [
    {
     "name": "stdout",
     "output_type": "stream",
     "text": [
      "Odds Ratio (OTHER, MORTGAGE) = 3.62\n",
      "Odds Ratio (OWN, MORTGAGE) = 0.54\n",
      "Odds Ratio (RENT, MORTGAGE) = 3.23\n"
     ]
    }
   ],
   "source": [
    "# Extract the OR of each category\n",
    "OR_other = crosstab_home['OR'][1]\n",
    "OR_own = crosstab_home['OR'][2]\n",
    "OR_rent = crosstab_home['OR'][3]\n",
    "\n",
    "print(f\"Odds Ratio (OTHER, MORTGAGE) = {OR_other:.2f}\")\n",
    "print(f\"Odds Ratio (OWN, MORTGAGE) = {OR_own:.2f}\")\n",
    "print(f\"Odds Ratio (RENT, MORTGAGE) = {OR_rent:.2f}\")"
   ]
  },
  {
   "cell_type": "markdown",
   "id": "07014bbc",
   "metadata": {},
   "source": [
    "---\n",
    "What about odds ratio between category $k=3$ (RENT) and category $k=2$ (OWN)?\n",
    "- $\\text{OR}(2,3) = \\exp(\\beta_{3}-\\beta_{2})$"
   ]
  },
  {
   "cell_type": "code",
   "execution_count": 44,
   "id": "d45d632c",
   "metadata": {},
   "outputs": [
    {
     "name": "stdout",
     "output_type": "stream",
     "text": [
      "The odds of default for RENT 6.02 times the odds for OWN.\n"
     ]
    }
   ],
   "source": [
    "# Calculate the OR between RENT and OWN\n",
    "odds_ratio_rent_own = np.exp(b3_rent - b2_own)\n",
    "\n",
    "print(f\"The odds of default for RENT {odds_ratio_rent_own:.2f} times the odds for OWN.\")"
   ]
  },
  {
   "cell_type": "code",
   "execution_count": 45,
   "id": "1dd3195c",
   "metadata": {},
   "outputs": [
    {
     "name": "stdout",
     "output_type": "stream",
     "text": [
      " Odds Ratio (RENT, OWN) = 6.02 is proven.\n"
     ]
    }
   ],
   "source": [
    "print(f\" Odds Ratio (RENT, OWN) = {(odds_rent / odds_own):.2f} is proven.\")"
   ]
  },
  {
   "cell_type": "markdown",
   "id": "82202234",
   "metadata": {},
   "source": [
    "# **Case: Continuous Predictor**"
   ]
  },
  {
   "cell_type": "markdown",
   "id": "55da9b0c",
   "metadata": {},
   "source": [
    "## **Ordinal Predictor**\n",
    "---\n",
    "Ordinal predictor can be treated in a quantitative manner (continuous scale)."
   ]
  },
  {
   "cell_type": "markdown",
   "id": "3e118e73",
   "metadata": {},
   "source": [
    "- `loan_grade` has a natural ordering of categories, grade A to G.\n",
    "- We can treat variable `loan_grade` as the ordinal predictor for response `loan_status`.\n",
    "- Thus, we don't have dummies for `loan_grade`.\n",
    "- Code the categories with ordered scale from 1 to 7.\n",
    "  - $x=1$ for grade A\n",
    "  - $x=2$ for grade B\n",
    "  - $x=3$ for grade C\n",
    "  - $x=4$ for grade D\n",
    "  - $x=5$ for grade E\n",
    "  - $x=6$ for grade F\n",
    "  - $x=7$ for grade G\n",
    "- The logit model becomes: $\\text{logit} =\\beta_{0} + \\beta_{1}x$"
   ]
  },
  {
   "cell_type": "markdown",
   "id": "9eb66053",
   "metadata": {},
   "source": [
    "### Model Fitting"
   ]
  },
  {
   "cell_type": "code",
   "execution_count": 46,
   "id": "c4e7a4c3",
   "metadata": {},
   "outputs": [],
   "source": [
    "# Label the categories of 'loan_grade'\n",
    "label = {'A' : 1,\n",
    "         'B' : 2,\n",
    "         'C' : 3,\n",
    "         'D' : 4,\n",
    "         'E' : 5,\n",
    "         'F' : 6,\n",
    "         'G' : 7}\n",
    "\n",
    "loan_grade = data_train['loan_grade'].map(label)"
   ]
  },
  {
   "cell_type": "code",
   "execution_count": 47,
   "id": "dbaf49e7",
   "metadata": {},
   "outputs": [
    {
     "name": "stdout",
     "output_type": "stream",
     "text": [
      "Optimization terminated successfully.\n",
      "         Current function value: 0.459908\n",
      "         Iterations 6\n",
      "                           Logit Regression Results                           \n",
      "==============================================================================\n",
      "Dep. Variable:            loan_status   No. Observations:                22806\n",
      "Model:                          Logit   Df Residuals:                    22804\n",
      "Method:                           MLE   Df Model:                            1\n",
      "Date:                Sat, 07 Oct 2023   Pseudo R-squ.:                  0.1232\n",
      "Time:                        13:43:07   Log-Likelihood:                -10489.\n",
      "converged:                       True   LL-Null:                       -11963.\n",
      "Covariance Type:            nonrobust   LLR p-value:                     0.000\n",
      "==============================================================================\n",
      "                 coef    std err          z      P>|z|      [0.025      0.975]\n",
      "------------------------------------------------------------------------------\n",
      "const         -3.1300      0.043    -72.434      0.000      -3.215      -3.045\n",
      "loan_grade     0.7515      0.015     50.446      0.000       0.722       0.781\n",
      "==============================================================================\n"
     ]
    }
   ],
   "source": [
    "# Modeling with statsmodels\n",
    "\n",
    "# Add constant to predictor\n",
    "loan_grade_sm = sm.add_constant(loan_grade)\n",
    "\n",
    "# Model fitting\n",
    "model_loan_grade = sm.Logit(endog = default,\n",
    "                            exog = loan_grade_sm)\n",
    "result_loan_grade = model_loan_grade.fit()\n",
    "\n",
    "# Print the result\n",
    "print(result_loan_grade.summary())"
   ]
  },
  {
   "cell_type": "markdown",
   "id": "a24d24dc",
   "metadata": {},
   "source": [
    "- Thus, we have the logit model:\n",
    "$$\n",
    "\\begin{align*}\n",
    "\\text{logit(loan_grade)} &=\\beta_{0} + \\beta_{1}(\\text{loan_grade}) \\\\\n",
    "\\text{logit(loan_grade)} &=-3.1300 + 0.7515(\\text{loan_grade}) \\\\\n",
    "\\end{align*}\n",
    "$$"
   ]
  },
  {
   "cell_type": "markdown",
   "id": "6af0e99f",
   "metadata": {},
   "source": [
    "Extract $\\beta_{0}$ estimate."
   ]
  },
  {
   "cell_type": "code",
   "execution_count": 48,
   "id": "07f486b2",
   "metadata": {},
   "outputs": [
    {
     "data": {
      "text/plain": [
       "-3.1300040049471862"
      ]
     },
     "execution_count": 48,
     "metadata": {},
     "output_type": "execute_result"
    }
   ],
   "source": [
    "# Print the parameter estimate of b0\n",
    "b0_loan_grade = result_loan_grade.params[0]\n",
    "b0_loan_grade"
   ]
  },
  {
   "cell_type": "markdown",
   "id": "31cbe902",
   "metadata": {},
   "source": [
    "Extract $\\beta_{1}$ estimate."
   ]
  },
  {
   "cell_type": "code",
   "execution_count": 49,
   "id": "c553625b",
   "metadata": {},
   "outputs": [
    {
     "data": {
      "text/plain": [
       "0.7514926219585754"
      ]
     },
     "execution_count": 49,
     "metadata": {},
     "output_type": "execute_result"
    }
   ],
   "source": [
    "# Print the parameter estimate of b1 for loan grade\n",
    "b1_loan_grade = result_loan_grade.params[1]\n",
    "b1_loan_grade"
   ]
  },
  {
   "cell_type": "markdown",
   "id": "70440609",
   "metadata": {},
   "source": [
    "### Interpretation"
   ]
  },
  {
   "cell_type": "code",
   "execution_count": 50,
   "id": "d249aac9",
   "metadata": {},
   "outputs": [
    {
     "name": "stdout",
     "output_type": "stream",
     "text": [
      "OR = 2.12\n"
     ]
    }
   ],
   "source": [
    "# Calculate the OR of default\n",
    "odds_ratio_loan_grade = np.exp(b1_loan_grade)\n",
    "\n",
    "print(f\"OR = {odds_ratio_loan_grade:.2f}\")"
   ]
  },
  {
   "cell_type": "markdown",
   "id": "85b9e45f",
   "metadata": {},
   "source": [
    "- Interpretation:\n",
    "> - The odds of default double for every one-level downgrade in loan grade.\n",
    "> - In other words, the higher the level of the loan grade, the less the odds of default."
   ]
  },
  {
   "cell_type": "markdown",
   "id": "6183f19f",
   "metadata": {},
   "source": [
    "- To proof the interpretation, calculate the odds of each value or level of driving experience."
   ]
  },
  {
   "cell_type": "code",
   "execution_count": 51,
   "id": "6e8f8f70",
   "metadata": {},
   "outputs": [],
   "source": [
    "# Function to calculate odds of default\n",
    "def odds(b0, b1, X):\n",
    "    \"\"\"\n",
    "    Function to calculate odds of success.\n",
    "\n",
    "    Parameters\n",
    "    ----------\n",
    "    b0  : float\n",
    "        The optimum parameter estimate of intercept\n",
    "\n",
    "    b1  : {array-like} of shape (n_predictors, 1)\n",
    "        The optimum parameter estimate of slope/weights\n",
    "\n",
    "    X   : {array-like} of shape (n_sample, n_predictors)\n",
    "        The independent variable or predictor\n",
    "\n",
    "    Returns\n",
    "    -------\n",
    "    odds  : {array-like} of shape (n_sample, 1)\n",
    "          The odds of success\n",
    "    \"\"\"\n",
    "    # Calculate logit (log odds)\n",
    "    logit = b0 + b1*X\n",
    "    odds = np.exp(logit)\n",
    "\n",
    "    return odds"
   ]
  },
  {
   "cell_type": "code",
   "execution_count": 52,
   "id": "28fb2f64",
   "metadata": {},
   "outputs": [
    {
     "name": "stdout",
     "output_type": "stream",
     "text": [
      "Odds x=1 (grade A) : 0.09\n",
      "Odds x=2 (grade B) : 0.20\n",
      "Odds x=3 (grade C) : 0.42\n",
      "Odds x=4 (grade D) : 0.88\n",
      "Odds x=5 (grade E) : 1.87\n",
      "Odds x=6 (grade F) : 3.97\n",
      "Odds x=7 (grade G) : 8.42\n"
     ]
    }
   ],
   "source": [
    "# Define x=1,2,...,7\n",
    "label_loan_grade = np.unique(loan_grade)\n",
    "\n",
    "# Calculate the odds of x\n",
    "odds_label_loan_grade = odds(b0 = b0_loan_grade,\n",
    "                             b1 = b1_loan_grade,\n",
    "                             X = label_loan_grade)\n",
    "\n",
    "\n",
    "# Extract the odds of each value\n",
    "odds_A = odds_label_loan_grade[0]\n",
    "odds_B = odds_label_loan_grade[1]\n",
    "odds_C = odds_label_loan_grade[2]\n",
    "odds_D = odds_label_loan_grade[3]\n",
    "odds_E = odds_label_loan_grade[4]\n",
    "odds_F = odds_label_loan_grade[5]\n",
    "odds_G = odds_label_loan_grade[6]\n",
    "\n",
    "print(f\"Odds x=1 (grade A) : {odds_A:.2f}\")\n",
    "print(f\"Odds x=2 (grade B) : {odds_B:.2f}\")\n",
    "print(f\"Odds x=3 (grade C) : {odds_C:.2f}\")\n",
    "print(f\"Odds x=4 (grade D) : {odds_D:.2f}\")\n",
    "print(f\"Odds x=5 (grade E) : {odds_E:.2f}\")\n",
    "print(f\"Odds x=6 (grade F) : {odds_F:.2f}\")\n",
    "print(f\"Odds x=7 (grade G) : {odds_G:.2f}\")"
   ]
  },
  {
   "cell_type": "markdown",
   "id": "68c2a1f7",
   "metadata": {},
   "source": [
    "It is advantageous to treat ordinal predictors in a quantitative manner, the model is simpler and easier to interpret (but must have ordinality)"
   ]
  },
  {
   "cell_type": "markdown",
   "id": "363ede0d",
   "metadata": {},
   "source": [
    "## **Multiple Continuous Predictor**"
   ]
  },
  {
   "cell_type": "markdown",
   "id": "96e8d9f9",
   "metadata": {},
   "source": [
    "- We will use variable `loan_grade` $(x_{1})$ and `person_age` $(x_{2})$ as the continuous predictors for response `loan_status`.\n",
    "- Thus, the logit model becomes:\n",
    "$$\n",
    "\\text{logit} =\\beta_{0} + \\beta_{1}x_{1} + \\beta_{2}x_{2}\n",
    "$$"
   ]
  },
  {
   "cell_type": "markdown",
   "id": "76d52f16",
   "metadata": {},
   "source": [
    "### Model Fitting"
   ]
  },
  {
   "cell_type": "code",
   "execution_count": 53,
   "id": "80cfdfcf",
   "metadata": {},
   "outputs": [],
   "source": [
    "# Label the categories of 'loan_grade'\n",
    "label = {'A' : 1,\n",
    "         'B' : 2,\n",
    "         'C' : 3,\n",
    "         'D' : 4,\n",
    "         'E' : 5,\n",
    "         'F' : 6,\n",
    "         'G' : 7}\n",
    "\n",
    "data_train['loan_grade_num'] = data_train['loan_grade'].map(label)\n"
   ]
  },
  {
   "cell_type": "code",
   "execution_count": 54,
   "id": "ec230e3d",
   "metadata": {},
   "outputs": [
    {
     "data": {
      "text/html": [
       "<div>\n",
       "<style scoped>\n",
       "    .dataframe tbody tr th:only-of-type {\n",
       "        vertical-align: middle;\n",
       "    }\n",
       "\n",
       "    .dataframe tbody tr th {\n",
       "        vertical-align: top;\n",
       "    }\n",
       "\n",
       "    .dataframe thead th {\n",
       "        text-align: right;\n",
       "    }\n",
       "</style>\n",
       "<table border=\"1\" class=\"dataframe\">\n",
       "  <thead>\n",
       "    <tr style=\"text-align: right;\">\n",
       "      <th></th>\n",
       "      <th>loan_grade_num</th>\n",
       "      <th>person_age</th>\n",
       "    </tr>\n",
       "  </thead>\n",
       "  <tbody>\n",
       "    <tr>\n",
       "      <th>11491</th>\n",
       "      <td>2</td>\n",
       "      <td>26</td>\n",
       "    </tr>\n",
       "    <tr>\n",
       "      <th>3890</th>\n",
       "      <td>3</td>\n",
       "      <td>23</td>\n",
       "    </tr>\n",
       "    <tr>\n",
       "      <th>17344</th>\n",
       "      <td>1</td>\n",
       "      <td>24</td>\n",
       "    </tr>\n",
       "    <tr>\n",
       "      <th>13023</th>\n",
       "      <td>2</td>\n",
       "      <td>24</td>\n",
       "    </tr>\n",
       "    <tr>\n",
       "      <th>29565</th>\n",
       "      <td>2</td>\n",
       "      <td>42</td>\n",
       "    </tr>\n",
       "  </tbody>\n",
       "</table>\n",
       "</div>"
      ],
      "text/plain": [
       "       loan_grade_num  person_age\n",
       "11491               2          26\n",
       "3890                3          23\n",
       "17344               1          24\n",
       "13023               2          24\n",
       "29565               2          42"
      ]
     },
     "execution_count": 54,
     "metadata": {},
     "output_type": "execute_result"
    }
   ],
   "source": [
    "# Define matrix predictors X\n",
    "X = data_train[['loan_grade_num', 'person_age']]\n",
    "X.head()"
   ]
  },
  {
   "cell_type": "code",
   "execution_count": 55,
   "id": "8b00e165",
   "metadata": {},
   "outputs": [
    {
     "name": "stdout",
     "output_type": "stream",
     "text": [
      "Optimization terminated successfully.\n",
      "         Current function value: 0.459529\n",
      "         Iterations 6\n",
      "                           Logit Regression Results                           \n",
      "==============================================================================\n",
      "Dep. Variable:            loan_status   No. Observations:                22806\n",
      "Model:                          Logit   Df Residuals:                    22803\n",
      "Method:                           MLE   Df Model:                            2\n",
      "Date:                Sat, 07 Oct 2023   Pseudo R-squ.:                  0.1240\n",
      "Time:                        13:56:03   Log-Likelihood:                -10480.\n",
      "converged:                       True   LL-Null:                       -11963.\n",
      "Covariance Type:            nonrobust   LLR p-value:                     0.000\n",
      "==================================================================================\n",
      "                     coef    std err          z      P>|z|      [0.025      0.975]\n",
      "----------------------------------------------------------------------------------\n",
      "const             -2.8149      0.088    -32.080      0.000      -2.987      -2.643\n",
      "loan_grade_num     0.7534      0.015     50.503      0.000       0.724       0.783\n",
      "person_age        -0.0116      0.003     -4.090      0.000      -0.017      -0.006\n",
      "==================================================================================\n"
     ]
    }
   ],
   "source": [
    "# Modeling with statsmodels\n",
    "\n",
    "# Add constant to predictor\n",
    "X_sm = sm.add_constant(X)\n",
    "\n",
    "# Model fitting\n",
    "model_multi_cont = sm.Logit(endog = default,\n",
    "                            exog = X_sm)\n",
    "result_multi_cont = model_multi_cont.fit()\n",
    "\n",
    "# Print the result\n",
    "print(result_multi_cont.summary())"
   ]
  },
  {
   "cell_type": "markdown",
   "id": "af9b116b",
   "metadata": {},
   "source": [
    "- Thus, we have the logit model:\n",
    "$$\n",
    "\\begin{align*}\n",
    "\\text{logit} &=\\beta_{0} + \\beta_{1}x_{1} + \\beta_{2}x_{2} \\\\\n",
    "&=\\beta_{0} + \\beta_{1}(\\text{loan_grade_num}) + \\beta_{2}(\\text{person_age})  \\\\\n",
    "\\text{logit} &=-2.9149 + 0.7534(\\text{loan_grade_num}) - 0.0116(\\text{person_age})\\\\\n",
    "\\end{align*}\n",
    "$$"
   ]
  },
  {
   "cell_type": "markdown",
   "id": "5125d988",
   "metadata": {},
   "source": [
    "Extract $\\beta_{0}$ estimate."
   ]
  },
  {
   "cell_type": "code",
   "execution_count": 56,
   "id": "d2ac5cc7",
   "metadata": {},
   "outputs": [
    {
     "data": {
      "text/plain": [
       "-2.814887485595946"
      ]
     },
     "execution_count": 56,
     "metadata": {},
     "output_type": "execute_result"
    }
   ],
   "source": [
    "# Print the parameter estimate of b0\n",
    "b0_multi_cont = result_multi_cont.params[0]\n",
    "b0_multi_cont"
   ]
  },
  {
   "cell_type": "code",
   "execution_count": 57,
   "id": "f42003bb",
   "metadata": {},
   "outputs": [
    {
     "data": {
      "text/plain": [
       "0.753396377847782"
      ]
     },
     "execution_count": 57,
     "metadata": {},
     "output_type": "execute_result"
    }
   ],
   "source": [
    "# Print the parameter estimate of b1\n",
    "b1_multi_cont = result_multi_cont.params[1]\n",
    "b1_multi_cont"
   ]
  },
  {
   "cell_type": "code",
   "execution_count": 58,
   "id": "0e96e03a",
   "metadata": {},
   "outputs": [
    {
     "data": {
      "text/plain": [
       "-0.011574869604256865"
      ]
     },
     "execution_count": 58,
     "metadata": {},
     "output_type": "execute_result"
    }
   ],
   "source": [
    "# Print the parameter estimate of b1\n",
    "b2_multi_cont = result_multi_cont.params[2]\n",
    "b2_multi_cont"
   ]
  },
  {
   "cell_type": "code",
   "execution_count": 59,
   "id": "50dedda2",
   "metadata": {},
   "outputs": [
    {
     "name": "stdout",
     "output_type": "stream",
     "text": [
      "OR b1 = 2.12\n",
      "OR b2 = 0.99\n"
     ]
    }
   ],
   "source": [
    "# Calculate the OR of default\n",
    "odds_ratio_multi_cont_b1 = np.exp(b1_multi_cont)\n",
    "odds_ratio_multi_cont_b2 = np.exp(b2_multi_cont)\n",
    "\n",
    "print(f\"OR b1 = {odds_ratio_multi_cont_b1:.2f}\")\n",
    "print(f\"OR b2 = {odds_ratio_multi_cont_b2:.2f}\")"
   ]
  },
  {
   "cell_type": "markdown",
   "id": "d4047c12",
   "metadata": {},
   "source": [
    "- Interpretation:\n",
    "> 1. At any debtor age, the odds of default double for every one-level downgrade in loan grade.\n",
    "> 2. At any level of loan grade, the odds of default barely change for one year difference in the debtor's age.\n",
    "- Can we try another interpretation for $c$ unit change in age?"
   ]
  },
  {
   "cell_type": "markdown",
   "id": "e51aec99",
   "metadata": {},
   "source": [
    "- For example, we use 10 years difference in age.\n",
    "- Thus, the $\\text{OR} = \\exp(\\beta_2)$ for 1 unit increase becomes $\\text{OR} = \\exp(\\beta_2 \\times 10)$ for 10 years difference in the debtor's age."
   ]
  },
  {
   "cell_type": "code",
   "execution_count": 60,
   "id": "fe66738e",
   "metadata": {},
   "outputs": [
    {
     "name": "stdout",
     "output_type": "stream",
     "text": [
      "OR 10*b2 = 0.89\n"
     ]
    }
   ],
   "source": [
    "# Calculate OR\n",
    "odds_ratio_age = np.exp(b2_multi_cont*10)\n",
    "\n",
    "print(f\"OR 10*b2 = {odds_ratio_age:.2f}\")"
   ]
  },
  {
   "cell_type": "markdown",
   "id": "7a7dab39",
   "metadata": {},
   "source": [
    "- Interpretation:\n",
    "\n",
    "> At each level of loan grade, the odds of a default decrease by 11% for debtors who 10 years older."
   ]
  },
  {
   "cell_type": "markdown",
   "id": "e4a2d3ef",
   "metadata": {},
   "source": [
    "## **Multiple Categorical Predictors**"
   ]
  },
  {
   "cell_type": "markdown",
   "id": "5884e7c0",
   "metadata": {},
   "source": [
    "- We use variable `cb_person_default_on_file` $(x_{1})$ and `person_home_ownership` $(x_{2})$ as the categorical predictors for response `loan_status`.\n",
    "- `cb_person_default_on_file` $(x_{1})$ has 2 categories:\n",
    "  - $x_1$ = N --> the debtor does not have any history of defaults.\n",
    "  - $x_1$ = Y --> the debtor has a history of defaults on their credit file.\n",
    "- `person_home_ownership` $(x_{2})$ has 4 categories:\n",
    "  - $k_{1}$ = `OTHER`\n",
    "  - $k_{2}$ = `OWN`\n",
    "  - $k_{3}$ = `RENT`\n",
    "  - $k_{4}$ = `MORTGAGE` (**reference**)\n",
    "- Thus, the logit model becomes:\n",
    "$$\n",
    "\\text{logit} =\\beta_0 + \\beta_1x_1 + \\beta_2k_1 + \\beta_3k_2 + \\beta_4k_3\n",
    "$$"
   ]
  },
  {
   "cell_type": "markdown",
   "id": "51ff2b33",
   "metadata": {},
   "source": [
    "### Model Fitting"
   ]
  },
  {
   "cell_type": "code",
   "execution_count": 61,
   "id": "088c81bf",
   "metadata": {},
   "outputs": [
    {
     "data": {
      "text/html": [
       "<div>\n",
       "<style scoped>\n",
       "    .dataframe tbody tr th:only-of-type {\n",
       "        vertical-align: middle;\n",
       "    }\n",
       "\n",
       "    .dataframe tbody tr th {\n",
       "        vertical-align: top;\n",
       "    }\n",
       "\n",
       "    .dataframe thead th {\n",
       "        text-align: right;\n",
       "    }\n",
       "</style>\n",
       "<table border=\"1\" class=\"dataframe\">\n",
       "  <thead>\n",
       "    <tr style=\"text-align: right;\">\n",
       "      <th></th>\n",
       "      <th>history_default</th>\n",
       "      <th>OTHER</th>\n",
       "      <th>OWN</th>\n",
       "      <th>RENT</th>\n",
       "    </tr>\n",
       "  </thead>\n",
       "  <tbody>\n",
       "    <tr>\n",
       "      <th>11491</th>\n",
       "      <td>0</td>\n",
       "      <td>0</td>\n",
       "      <td>0</td>\n",
       "      <td>1</td>\n",
       "    </tr>\n",
       "    <tr>\n",
       "      <th>3890</th>\n",
       "      <td>0</td>\n",
       "      <td>0</td>\n",
       "      <td>0</td>\n",
       "      <td>0</td>\n",
       "    </tr>\n",
       "    <tr>\n",
       "      <th>17344</th>\n",
       "      <td>0</td>\n",
       "      <td>0</td>\n",
       "      <td>0</td>\n",
       "      <td>1</td>\n",
       "    </tr>\n",
       "    <tr>\n",
       "      <th>13023</th>\n",
       "      <td>0</td>\n",
       "      <td>0</td>\n",
       "      <td>0</td>\n",
       "      <td>1</td>\n",
       "    </tr>\n",
       "    <tr>\n",
       "      <th>29565</th>\n",
       "      <td>0</td>\n",
       "      <td>0</td>\n",
       "      <td>0</td>\n",
       "      <td>1</td>\n",
       "    </tr>\n",
       "  </tbody>\n",
       "</table>\n",
       "</div>"
      ],
      "text/plain": [
       "       history_default  OTHER  OWN  RENT\n",
       "11491                0      0    0     1\n",
       "3890                 0      0    0     0\n",
       "17344                0      0    0     1\n",
       "13023                0      0    0     1\n",
       "29565                0      0    0     1"
      ]
     },
     "execution_count": 61,
     "metadata": {},
     "output_type": "execute_result"
    }
   ],
   "source": [
    "# Concatenate dummies x1 and x2\n",
    "X = pd.concat((history_default, home_mortgage),\n",
    "              axis = 1)\n",
    "\n",
    "X.head()"
   ]
  },
  {
   "cell_type": "code",
   "execution_count": 62,
   "id": "c7561d50",
   "metadata": {},
   "outputs": [
    {
     "name": "stdout",
     "output_type": "stream",
     "text": [
      "Optimization terminated successfully.\n",
      "         Current function value: 0.481047\n",
      "         Iterations 7\n",
      "                           Logit Regression Results                           \n",
      "==============================================================================\n",
      "Dep. Variable:            loan_status   No. Observations:                22806\n",
      "Model:                          Logit   Df Residuals:                    22801\n",
      "Method:                           MLE   Df Model:                            4\n",
      "Date:                Sat, 07 Oct 2023   Pseudo R-squ.:                 0.08293\n",
      "Time:                        18:57:59   Log-Likelihood:                -10971.\n",
      "converged:                       True   LL-Null:                       -11963.\n",
      "Covariance Type:            nonrobust   LLR p-value:                     0.000\n",
      "===================================================================================\n",
      "                      coef    std err          z      P>|z|      [0.025      0.975]\n",
      "-----------------------------------------------------------------------------------\n",
      "const              -2.1217      0.033    -64.691      0.000      -2.186      -2.057\n",
      "history_default     0.9360      0.039     24.008      0.000       0.860       1.012\n",
      "OTHER               1.2080      0.244      4.947      0.000       0.729       1.687\n",
      "OWN                -0.6665      0.097     -6.879      0.000      -0.856      -0.477\n",
      "RENT                1.1386      0.037     30.391      0.000       1.065       1.212\n",
      "===================================================================================\n"
     ]
    }
   ],
   "source": [
    "# Modeling with statsmodels\n",
    "\n",
    "# Add constant to predictor\n",
    "X_sm = sm.add_constant(X)\n",
    "\n",
    "# Model fitting\n",
    "model_multi_cat = sm.Logit(endog = default,\n",
    "                           exog = X_sm)\n",
    "result_multi_cat = model_multi_cat.fit()\n",
    "\n",
    "# Print the result\n",
    "print(result_multi_cat.summary())"
   ]
  },
  {
   "cell_type": "markdown",
   "id": "bafdc51c",
   "metadata": {},
   "source": [
    "- Thus, we have the logit model:\n",
    "$$\n",
    "\\begin{align*}\n",
    "\\text{logit} &=\\beta_0 + \\beta_1x_1 + \\beta_2k_1 + \\beta_3k_2 + \\beta_4k_3 \\\\\n",
    "&=\\beta_{0} + \\beta_{1}(\\text{history_default}) + \\beta_{2}(\\text{OTHER}) + \\beta_{3}(\\text{OWN})  + \\beta_{4}(\\text{RENT})\\\\\n",
    "\\text{logit} &= -2.1217 + 0.9360(\\text{history_default}) + 1.2080(\\text{OTHER}) - 0.6665(\\text{OWN}) + 1.1386(\\text{RENT})\\\\\n",
    "\\end{align*}\n",
    "$$\n",
    "\n",
    "- If history default = 0, OWN = 0, OTHER = 0, RENT = 0, that means applicant who never default and have Mortgages because the cell reference is Never default and Mortgages\n"
   ]
  },
  {
   "cell_type": "markdown",
   "id": "a444618c",
   "metadata": {},
   "source": [
    "Extract $\\beta_{0}$ estimate."
   ]
  },
  {
   "cell_type": "code",
   "execution_count": 63,
   "id": "ff408ef9",
   "metadata": {},
   "outputs": [
    {
     "data": {
      "text/plain": [
       "-2.1216818634449193"
      ]
     },
     "execution_count": 63,
     "metadata": {},
     "output_type": "execute_result"
    }
   ],
   "source": [
    "# Print the parameter estimate of b0\n",
    "b0_multi_cat = result_multi_cat.params[0]\n",
    "b0_multi_cat"
   ]
  },
  {
   "cell_type": "code",
   "execution_count": 64,
   "id": "64bf88aa",
   "metadata": {},
   "outputs": [
    {
     "data": {
      "text/plain": [
       "0.935974840768221"
      ]
     },
     "execution_count": 64,
     "metadata": {},
     "output_type": "execute_result"
    }
   ],
   "source": [
    "# Print the parameter estimate of b1 for those who have been in default\n",
    "b1_history_default = result_multi_cat.params[1]\n",
    "b1_history_default"
   ]
  },
  {
   "cell_type": "code",
   "execution_count": 65,
   "id": "6ea8aee5",
   "metadata": {},
   "outputs": [
    {
     "data": {
      "text/plain": [
       "-0.6664643558932198"
      ]
     },
     "execution_count": 65,
     "metadata": {},
     "output_type": "execute_result"
    }
   ],
   "source": [
    "# Print the parameter estimate of b3 for home ownership = OWN\n",
    "b3_home_own = result_multi_cat.params[3]\n",
    "b3_home_own"
   ]
  },
  {
   "cell_type": "code",
   "execution_count": 66,
   "id": "27f6a8c4",
   "metadata": {},
   "outputs": [
    {
     "data": {
      "text/plain": [
       "1.1386259755247776"
      ]
     },
     "execution_count": 66,
     "metadata": {},
     "output_type": "execute_result"
    }
   ],
   "source": [
    "# Print the parameter estimate of b1 for home ownership = RENT\n",
    "b4_home_rent = result_multi_cat.params[4]\n",
    "b4_home_rent"
   ]
  },
  {
   "cell_type": "code",
   "execution_count": 69,
   "id": "24680313",
   "metadata": {},
   "outputs": [
    {
     "data": {
      "text/plain": [
       "1.207998030541995"
      ]
     },
     "execution_count": 69,
     "metadata": {},
     "output_type": "execute_result"
    }
   ],
   "source": [
    "# Print the parameter estimate of b2 for home ownership = OTHER\n",
    "b2_home_other = result_multi_cat.params[2]\n",
    "b2_home_other"
   ]
  },
  {
   "cell_type": "markdown",
   "id": "bbe7e47f",
   "metadata": {},
   "source": [
    "### Interpretation"
   ]
  },
  {
   "cell_type": "code",
   "execution_count": 67,
   "id": "ac97f4ff",
   "metadata": {},
   "outputs": [
    {
     "name": "stdout",
     "output_type": "stream",
     "text": [
      "OR_b1 (ever default, never default) = 2.55\n"
     ]
    }
   ],
   "source": [
    "# Calculate the OR between ever default and never default\n",
    "odds_ratio_ever_default = np.exp(b1_history_default)\n",
    "\n",
    "print(f\"OR_b1 (ever default, never default) = {odds_ratio_ever_default:.2f}\")"
   ]
  },
  {
   "cell_type": "markdown",
   "id": "c96bd482",
   "metadata": {},
   "source": [
    "Interpretation:\n",
    "\n",
    "> For each category of home ownership, the odds of default for debtors who have been in default is 2.55 times the odds for those who have never been in default."
   ]
  },
  {
   "cell_type": "code",
   "execution_count": 70,
   "id": "86164369",
   "metadata": {},
   "outputs": [
    {
     "name": "stdout",
     "output_type": "stream",
     "text": [
      "OR_b2 (other, mortgage) = 3.35\n"
     ]
    }
   ],
   "source": [
    "# Calculate the OR between home ownership OTHER and MORTGAGE\n",
    "odds_ratio_other = np.exp(b2_home_other)\n",
    "\n",
    "print(f\"OR_b2 (other, mortgage) = {odds_ratio_other:.2f}\")"
   ]
  },
  {
   "cell_type": "markdown",
   "id": "521d4c62",
   "metadata": {},
   "source": [
    "\n",
    "\n",
    "> For each category of history default, the odds of default for debtors who live in category \"other\" is 3.35 times the odds for debtors who live in a mortgage."
   ]
  },
  {
   "cell_type": "code",
   "execution_count": null,
   "id": "e0fd7b4b",
   "metadata": {},
   "outputs": [],
   "source": []
  }
 ],
 "metadata": {
  "kernelspec": {
   "display_name": "dss_mice",
   "language": "python",
   "name": "dss_mice"
  },
  "language_info": {
   "codemirror_mode": {
    "name": "ipython",
    "version": 3
   },
   "file_extension": ".py",
   "mimetype": "text/x-python",
   "name": "python",
   "nbconvert_exporter": "python",
   "pygments_lexer": "ipython3",
   "version": "3.10.9"
  }
 },
 "nbformat": 4,
 "nbformat_minor": 5
}
